{
 "cells": [
  {
   "cell_type": "code",
   "execution_count": 2,
   "metadata": {
    "ExecuteTime": {
     "end_time": "2023-03-29T12:07:46.538424Z",
     "start_time": "2023-03-29T12:07:12.114169Z"
    }
   },
   "outputs": [],
   "source": [
    "import sympy as sp\n",
    "import numpy as np\n",
    "import matplotlib.pyplot as plt\n",
    "from sympy import cos, sin, exp, Matrix, sqrt\n",
    "from sympy.simplify.fu import TR10, TR9\n",
    "import pandas as pd\n",
    "\n",
    "from IPython.display import display, Math\n",
    "from IPython.display import display as disp\n",
    "from utils import symdisp, symplot\n",
    "import ipywidgets as widgets\n",
    "from ipywidgets import interact\n",
    "\n",
    "from commpy.utilities import upsample\n",
    "\n",
    "from optic.modulation import modulateGray, demodulateGray, GrayMapping\n",
    "from optic.dsp import firFilter, pulseShape, lowPassFIR, pnorm, sincInterp\n",
    "from optic.metrics import signal_power\n",
    "from optic.plot import eyediagram"
   ]
  },
  {
   "cell_type": "code",
   "execution_count": 3,
   "metadata": {
    "ExecuteTime": {
     "end_time": "2023-03-29T12:07:46.553732Z",
     "start_time": "2023-03-29T12:07:46.539285Z"
    }
   },
   "outputs": [],
   "source": [
    "pd.set_option('display.max_columns', 500)\n",
    "pd.set_option('display.width', 2000)\n",
    "pd.options.display.float_format = '{:,d}'.format"
   ]
  },
  {
   "cell_type": "code",
   "execution_count": 4,
   "metadata": {
    "ExecuteTime": {
     "end_time": "2023-03-29T12:07:46.663297Z",
     "start_time": "2023-03-29T12:07:46.554517Z"
    }
   },
   "outputs": [
    {
     "data": {
      "text/html": [
       "\n",
       "<style>\n",
       ".output_png {\n",
       "    display: table-cell;\n",
       "    text-align: center;\n",
       "    vertical-align: middle;\n",
       "}\n",
       "</style>\n"
      ],
      "text/plain": [
       "<IPython.core.display.HTML object>"
      ]
     },
     "execution_count": 4,
     "metadata": {},
     "output_type": "execute_result"
    }
   ],
   "source": [
    "from IPython.core.display import HTML\n",
    "from IPython.core.pylabtools import figsize\n",
    "from IPython.display import display\n",
    "\n",
    "HTML(\"\"\"\n",
    "<style>\n",
    ".output_png {\n",
    "    display: table-cell;\n",
    "    text-align: center;\n",
    "    vertical-align: middle;\n",
    "}\n",
    "</style>\n",
    "\"\"\")"
   ]
  },
  {
   "cell_type": "code",
   "execution_count": 5,
   "metadata": {
    "ExecuteTime": {
     "end_time": "2023-03-29T12:07:47.054314Z",
     "start_time": "2023-03-29T12:07:46.664263Z"
    }
   },
   "outputs": [],
   "source": [
    "%load_ext autoreload\n",
    "%autoreload 2"
   ]
  },
  {
   "cell_type": "code",
   "execution_count": 6,
   "metadata": {
    "ExecuteTime": {
     "end_time": "2023-03-29T12:07:47.116292Z",
     "start_time": "2023-03-29T12:07:47.054883Z"
    }
   },
   "outputs": [],
   "source": [
    "figsize(10, 4)"
   ]
  },
  {
   "cell_type": "markdown",
   "metadata": {},
   "source": [
    "# Transmissão Digital da Informação"
   ]
  },
  {
   "cell_type": "markdown",
   "metadata": {
    "toc": true
   },
   "source": [
    "<h1>Table of Contents<span class=\"tocSkip\"></span></h1>\n",
    "<div class=\"toc\"><ul class=\"toc-item\"><li><span><a href=\"#Canal-AWGN\" data-toc-modified-id=\"Canal-AWGN-1\"><span class=\"toc-item-num\">1&nbsp;&nbsp;</span>Canal AWGN</a></span></li><li><span><a href=\"#Relação-sinal-ruído\" data-toc-modified-id=\"Relação-sinal-ruído-2\"><span class=\"toc-item-num\">2&nbsp;&nbsp;</span>Relação sinal-ruído</a></span></li><li><span><a href=\"#Referências\" data-toc-modified-id=\"Referências-3\"><span class=\"toc-item-num\">3&nbsp;&nbsp;</span>Referências</a></span></li></ul></div>"
   ]
  },
  {
   "cell_type": "markdown",
   "metadata": {},
   "source": [
    "# Sistemas de Transmissão Digital da Informação\n",
    "\n",
    "Num sistema de comunicação digital a função do transmissor é converter uma dada sequência de bits num trem de pulsos elétricos que, por sua vez, poderar ser utilizado na modulação de uma portadora. \n",
    "\n",
    "<img src=\"./figuras/Fig1.png\" width=\"900\">\n",
    " "
   ]
  },
  {
   "cell_type": "markdown",
   "metadata": {},
   "source": [
    "## Canal AWGN"
   ]
  },
  {
   "cell_type": "markdown",
   "metadata": {},
   "source": [
    "Quando transmitidos pelo canal de comunicações, o sinais enviados pelo transmissor estão sujeitos a diversos tipos de distorção. Efeitos de filtragem, interferência, distorção não-linear e diversos tipos de ruído podem estar presentes no canal de comunicações, afetando a qualidade dos sinais que chegam ao receptor. \n",
    "\n",
    "Uma das principais fontes de ruído em sistemas de comunicações é o ruído térmico. O ruído Johnson-Nyquist (ruído térmico, ruído de Johnson ou ruído de Nyquist) é o ruído eletrônico gerado pela agitação térmica dos portadores de carga (geralmente os elétrons) dentro de um condutor elétrico, que ocorre independentemente de haver ou não tensão aplicada sobre o elemento. O ruído térmico está presente em todos os circuitos elétricos e eletrônicos. A presença de ruído em circuitos eletônicos reduz a sensibilidade de receptores na detecção de sinais de potência reduzida. Alguns equipamentos eletrônicos que requerem alta sensibilidade, como receptores de telescópios de rádio, precisam ser resfriados à temperaturas criogênicas para reduzir o ruído térmico em seus circuitos.\n",
    "\n",
    "O modelo matemático mais importante para a análise de sistemas de comunicações digitais é o modelo de ruído branco gaussiano aditivo (*additive white Gaussian noise* (AWGN), em Inglês). Nesse modelo, o ruído é representado por um processo aleatório gaussiano, ou seja, para cada instante $t$ no tempo, o ruído $n(t)$ adicionado ao sinal é dado por uma variável aleatória gaussiana de média zero e uma certa variância $\\sigma^2$. \n",
    "\n",
    "Seja $x(t)$ o sinal enviado pelo transmissor ao canal, o modelo de canal AWGN assume que um ruído será adicionado sinal de informação durante o processo de comunicação, como indicado na equação\n",
    "\n",
    "$$y(t) = x(t) + n(t)$$\n",
    "\n",
    "em que $n(t)$ representa o ruído e $y(t)$ o sinal ruidoso."
   ]
  },
  {
   "cell_type": "code",
   "execution_count": 32,
   "metadata": {
    "ExecuteTime": {
     "end_time": "2023-03-29T12:34:06.107357Z",
     "start_time": "2023-03-29T12:34:05.562915Z"
    }
   },
   "outputs": [
    {
     "data": {
      "text/latex": [
       "$\\displaystyle S_N = \\frac{N_{0} \\left(- \\theta\\left(- B + f\\right) + \\theta\\left(B + f\\right)\\right)}{2}\\; $"
      ],
      "text/plain": [
       "<IPython.core.display.Math object>"
      ]
     },
     "metadata": {},
     "output_type": "display_data"
    },
    {
     "data": {
      "text/latex": [
       "$\\displaystyle R(τ) = \\frac{N_{0} \\sin{\\left(2 \\pi B τ \\right)}}{2 \\pi τ}\\; $"
      ],
      "text/plain": [
       "<IPython.core.display.Math object>"
      ]
     },
     "metadata": {},
     "output_type": "display_data"
    },
    {
     "data": {
      "image/png": "[encoded data removed]",
      "text/plain": [
       "<Figure size 720x288 with 1 Axes>"
      ]
     },
     "metadata": {
      "needs_background": "light"
     },
     "output_type": "display_data"
    },
    {
     "data": {
      "image/png": "[encoded data removed]",
      "text/plain": [
       "<Figure size 720x288 with 1 Axes>"
      ]
     },
     "metadata": {
      "needs_background": "light"
     },
     "output_type": "display_data"
    }
   ],
   "source": [
    "from sympy import fourier_transform as FT\n",
    "from sympy import inverse_fourier_transform as iFT\n",
    "\n",
    "def rect(t, a):\n",
    "    return (sp.Heaviside(t + a) - sp.Heaviside(t - a))\n",
    "\n",
    "τ, f = sp.symbols('τ, f', real=True)\n",
    "N0, σ , B = sp.symbols('N_0, σ, B', real=True, positive=True)\n",
    "\n",
    "Sn = N0/2*rect(f, B)\n",
    "\n",
    "Rtau = iFT(Sn, f, τ)\n",
    "\n",
    "symdisp('S_N = ', Sn)\n",
    "symdisp('R(τ) = ', Rtau)\n",
    "\n",
    "intervalo_f = np.arange(-10, 10, 0.01)\n",
    "intervalo_τ = np.arange(-5*np.pi, 5*np.pi, 0.01)\n",
    "\n",
    "symplot(f, Sn.subs({N0:1, B:2}), intervalo_f, funLabel='$S_n(f)$', xlabel= 'frequência [Hz]');\n",
    "symplot(τ, Rtau.subs({N0:1,B:2}), intervalo_τ, funLabel='R(τ)');"
   ]
  },
  {
   "cell_type": "markdown",
   "metadata": {},
   "source": [
    "## Relação sinal-ruído\n",
    "\n",
    "\n",
    "A relação sinal-ruído (ou razão sinal-ruído, *signal-to-noise ratio* ($\\mathrm{SNR}$), em Inglês) é uma das grandezas mais importantes na engenharia de sistemas de comunicações. A $\\mathrm{SNR}$ é um indicador da presença de ruído no sistema, ou seja, a presença de distorções aleatórias e indesejáveis que afetam os sinais que carregam informação, dificultando ou impossibilitando o processo de comunicação. \n",
    "\n",
    "A $\\mathrm{SNR}$ é definida como sendo a razão entre a potência de sinal $P_s$ e a potência do ruído $P_n$ observadas num dado sistema:\n",
    "\n",
    "$$\\mathrm{SNR} = \\frac{P_s}{P_n}$$\n",
    "\n",
    "em que $P_s = E\\left[|s(t)|^2\\right]$ e $P_n=E\\left[|n(t)|^2\\right]$, com $E[.]$ denotando valor esperado.\n",
    "\n",
    "Quando expressa em decibéis (dB), a $\\mathrm{SNR}$ é dada por\n",
    "\n",
    "$$ \\mathrm{SNR}_{dB} = 10\\log_{10}P_s-10\\log_{10}P_n.$$\n",
    "\n",
    "Quanto maior a $\\mathrm{SNR}$ maior a diferença entre a potência do sinal de interesse e a potência do ruído adicionado á mesma. Dessa forma, quanto maior a $\\mathrm{SNR}$ melhor a qualidade do sinal."
   ]
  },
  {
   "cell_type": "markdown",
   "metadata": {},
   "source": [
    "## Referências\n",
    "\n",
    "[1] J. G. Proakis, M. Salehi, Communication Systems Engineering, 2nd Edition, Pearson, 2002."
   ]
  }
 ],
 "metadata": {
  "jupytext": {
   "encoding": "# -*- coding: utf-8 -*-",
   "formats": "ipynb,py:light"
  },
  "kernelspec": {
   "display_name": "Python 3 (ipykernel)",
   "language": "python",
   "name": "python3"
  },
  "language_info": {
   "codemirror_mode": {
    "name": "ipython",
    "version": 3
   },
   "file_extension": ".py",
   "mimetype": "text/x-python",
   "name": "python",
   "nbconvert_exporter": "python",
   "pygments_lexer": "ipython3",
   "version": "3.9.7"
  },
  "toc": {
   "base_numbering": 1,
   "nav_menu": {},
   "number_sections": true,
   "sideBar": true,
   "skip_h1_title": true,
   "title_cell": "Table of Contents",
   "title_sidebar": "Contents",
   "toc_cell": true,
   "toc_position": {
    "height": "447.667px",
    "left": "142px",
    "top": "182.229px",
    "width": "244.969px"
   },
   "toc_section_display": true,
   "toc_window_display": false
  },
  "varInspector": {
   "cols": {
    "lenName": 16,
    "lenType": 16,
    "lenVar": 40
   },
   "kernels_config": {
    "python": {
     "delete_cmd_postfix": "",
     "delete_cmd_prefix": "del ",
     "library": "var_list.py",
     "varRefreshCmd": "print(var_dic_list())"
    },
    "r": {
     "delete_cmd_postfix": ") ",
     "delete_cmd_prefix": "rm(",
     "library": "var_list.r",
     "varRefreshCmd": "cat(var_dic_list()) "
    }
   },
   "oldHeight": 498,
   "position": {
    "height": "667px",
    "left": "659px",
    "right": "20px",
    "top": "-21px",
    "width": "660px"
   },
   "types_to_exclude": [
    "module",
    "function",
    "builtin_function_or_method",
    "instance",
    "_Feature"
   ],
   "varInspector_section_display": "block",
   "window_display": false
  }
 },
 "nbformat": 4,
 "nbformat_minor": 4
}
