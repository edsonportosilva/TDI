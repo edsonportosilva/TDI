{
 "cells": [
  {
   "cell_type": "code",
   "execution_count": 1,
   "metadata": {
    "ExecuteTime": {
     "end_time": "2023-05-29T11:09:56.339277Z",
     "start_time": "2023-05-29T11:09:48.068772Z"
    }
   },
   "outputs": [
    {
     "ename": "ModuleNotFoundError",
     "evalue": "No module named 'optic.modulation'",
     "output_type": "error",
     "traceback": [
      "\u001b[1;31m---------------------------------------------------------------------------\u001b[0m",
      "\u001b[1;31mModuleNotFoundError\u001b[0m                       Traceback (most recent call last)",
      "\u001b[1;32m~\\AppData\\Local\\Temp\\ipykernel_16620\\3800051004.py\u001b[0m in \u001b[0;36m<module>\u001b[1;34m\u001b[0m\n\u001b[0;32m     13\u001b[0m \u001b[1;32mfrom\u001b[0m \u001b[0mcommpy\u001b[0m\u001b[1;33m.\u001b[0m\u001b[0mutilities\u001b[0m \u001b[1;32mimport\u001b[0m \u001b[0mupsample\u001b[0m\u001b[1;33m\u001b[0m\u001b[1;33m\u001b[0m\u001b[0m\n\u001b[0;32m     14\u001b[0m \u001b[1;33m\u001b[0m\u001b[0m\n\u001b[1;32m---> 15\u001b[1;33m \u001b[1;32mfrom\u001b[0m \u001b[0moptic\u001b[0m\u001b[1;33m.\u001b[0m\u001b[0mmodulation\u001b[0m \u001b[1;32mimport\u001b[0m \u001b[0mmodulateGray\u001b[0m\u001b[1;33m,\u001b[0m \u001b[0mdemodulateGray\u001b[0m\u001b[1;33m,\u001b[0m \u001b[0mGrayMapping\u001b[0m\u001b[1;33m\u001b[0m\u001b[1;33m\u001b[0m\u001b[0m\n\u001b[0m\u001b[0;32m     16\u001b[0m \u001b[1;32mfrom\u001b[0m \u001b[0moptic\u001b[0m\u001b[1;33m.\u001b[0m\u001b[0mdsp\u001b[0m \u001b[1;32mimport\u001b[0m \u001b[0mfirFilter\u001b[0m\u001b[1;33m,\u001b[0m \u001b[0mpulseShape\u001b[0m\u001b[1;33m,\u001b[0m \u001b[0mlowPassFIR\u001b[0m\u001b[1;33m,\u001b[0m \u001b[0mpnorm\u001b[0m\u001b[1;33m,\u001b[0m \u001b[0msincInterp\u001b[0m\u001b[1;33m\u001b[0m\u001b[1;33m\u001b[0m\u001b[0m\n\u001b[0;32m     17\u001b[0m \u001b[1;32mfrom\u001b[0m \u001b[0moptic\u001b[0m\u001b[1;33m.\u001b[0m\u001b[0mmetrics\u001b[0m \u001b[1;32mimport\u001b[0m \u001b[0msignal_power\u001b[0m\u001b[1;33m\u001b[0m\u001b[1;33m\u001b[0m\u001b[0m\n",
      "\u001b[1;31mModuleNotFoundError\u001b[0m: No module named 'optic.modulation'"
     ]
    }
   ],
   "source": [
    "import sympy as sp\n",
    "import numpy as np\n",
    "from numpy.random import normal\n",
    "import matplotlib.pyplot as plt\n",
    "import pandas as pd\n",
    "\n",
    "from IPython.display import display, Math\n",
    "from IPython.display import display as disp\n",
    "from utils import symdisp, symplot\n",
    "import ipywidgets as widgets\n",
    "from ipywidgets import interact\n",
    "\n",
    "from commpy.utilities import upsample\n",
    "\n",
    "from optic.modulation import modulateGray, demodulateGray, GrayMapping\n",
    "from optic.dsp import firFilter, pulseShape, lowPassFIR, pnorm, sincInterp\n",
    "from optic.metrics import signal_power\n",
    "from optic.plot import eyediagram, pconst"
   ]
  },
  {
   "cell_type": "code",
   "execution_count": null,
   "metadata": {
    "ExecuteTime": {
     "end_time": "2023-05-29T11:09:56.344257Z",
     "start_time": "2023-05-29T11:09:56.344257Z"
    }
   },
   "outputs": [],
   "source": [
    "pd.set_option('display.max_columns', 500)\n",
    "pd.set_option('display.width', 2000)\n",
    "pd.options.display.float_format = '{:,d}'.format"
   ]
  },
  {
   "cell_type": "code",
   "execution_count": null,
   "metadata": {
    "ExecuteTime": {
     "end_time": "2023-05-29T11:09:56.348742Z",
     "start_time": "2023-05-29T11:09:56.348742Z"
    }
   },
   "outputs": [],
   "source": [
    "from IPython.core.display import HTML\n",
    "from IPython.core.pylabtools import figsize\n",
    "from IPython.display import display\n",
    "\n",
    "HTML(\"\"\"\n",
    "<style>\n",
    ".output_png {\n",
    "    display: table-cell;\n",
    "    text-align: center;\n",
    "    vertical-align: middle;\n",
    "}\n",
    "</style>\n",
    "\"\"\")"
   ]
  },
  {
   "cell_type": "code",
   "execution_count": null,
   "metadata": {
    "ExecuteTime": {
     "end_time": "2023-05-29T11:09:56.348742Z",
     "start_time": "2023-05-29T11:09:56.348742Z"
    }
   },
   "outputs": [],
   "source": [
    "%load_ext autoreload\n",
    "%autoreload 2"
   ]
  },
  {
   "cell_type": "code",
   "execution_count": null,
   "metadata": {
    "ExecuteTime": {
     "end_time": "2023-05-29T11:09:56.356109Z",
     "start_time": "2023-05-29T11:09:56.356109Z"
    }
   },
   "outputs": [],
   "source": [
    "figsize(6, 2)"
   ]
  },
  {
   "cell_type": "markdown",
   "metadata": {},
   "source": [
    "# Transmissão Digital da Informação"
   ]
  },
  {
   "cell_type": "markdown",
   "metadata": {
    "toc": true
   },
   "source": [
    "<h1>Table of Contents<span class=\"tocSkip\"></span></h1>\n",
    "<div class=\"toc\"><ul class=\"toc-item\"><li><span><a href=\"#Canais-limitados-em-banda\" data-toc-modified-id=\"Canais-limitados-em-banda-1\"><span class=\"toc-item-num\">1&nbsp;&nbsp;</span>Canais limitados em banda</a></span></li><li><span><a href=\"#Sinalização-para-canais-limitados-em-banda\" data-toc-modified-id=\"Sinalização-para-canais-limitados-em-banda-2\"><span class=\"toc-item-num\">2&nbsp;&nbsp;</span>Sinalização para canais limitados em banda</a></span><ul class=\"toc-item\"><li><span><a href=\"#Interferência-intersimbólica-(ISI)\" data-toc-modified-id=\"Interferência-intersimbólica-(ISI)-2.1\"><span class=\"toc-item-num\">2.1&nbsp;&nbsp;</span>Interferência intersimbólica (ISI)</a></span></li><li><span><a href=\"#Critério-de-Nyquist-para-ausência-de-interferência-intersimbólica\" data-toc-modified-id=\"Critério-de-Nyquist-para-ausência-de-interferência-intersimbólica-2.2\"><span class=\"toc-item-num\">2.2&nbsp;&nbsp;</span>Critério de Nyquist para ausência de interferência intersimbólica</a></span></li><li><span><a href=\"#Família-de-pulsos-cosseno-levantado-(raised-cosine)\" data-toc-modified-id=\"Família-de-pulsos-cosseno-levantado-(raised-cosine)-2.3\"><span class=\"toc-item-num\">2.3&nbsp;&nbsp;</span>Família de pulsos cosseno levantado (<em>raised cosine</em>)</a></span></li><li><span><a href=\"#Transmissão-de-sinais-com-resposta-parcial\" data-toc-modified-id=\"Transmissão-de-sinais-com-resposta-parcial-2.4\"><span class=\"toc-item-num\">2.4&nbsp;&nbsp;</span>Transmissão de sinais com <em>resposta parcial</em></a></span></li><li><span><a href=\"#Detecção-símbolo-a-símbolo-de-sinais-com-ISI-controlada\" data-toc-modified-id=\"Detecção-símbolo-a-símbolo-de-sinais-com-ISI-controlada-2.5\"><span class=\"toc-item-num\">2.5&nbsp;&nbsp;</span>Detecção símbolo-a-símbolo de sinais com ISI controlada</a></span></li></ul></li><li><span><a href=\"#Detecção-de-sequências-por-máxima-verossimilhança\" data-toc-modified-id=\"Detecção-de-sequências-por-máxima-verossimilhança-3\"><span class=\"toc-item-num\">3&nbsp;&nbsp;</span>Detecção de sequências por máxima verossimilhança</a></span></li><li><span><a href=\"#Referências\" data-toc-modified-id=\"Referências-4\"><span class=\"toc-item-num\">4&nbsp;&nbsp;</span>Referências</a></span></li></ul></div>"
   ]
  },
  {
   "cell_type": "markdown",
   "metadata": {},
   "source": [
    "# Receptores ótimos para canais AWGN"
   ]
  },
  {
   "cell_type": "markdown",
   "metadata": {},
   "source": [
    "<img src=\"./figuras/Fig1.png\" width=\"900\">\n",
    " <center>Fig.1: Diagrama de blocos de um sistema de transmissão digital genérico.</center>"
   ]
  },
  {
   "cell_type": "markdown",
   "metadata": {},
   "source": [
    "##  Canais limitados em banda"
   ]
  },
  {
   "cell_type": "markdown",
   "metadata": {},
   "source": [
    "Na maioria das situações práticas, a transmissão digital deve ser estabelecida por meio de um canal cuja banda de frequências disponível para comunicação é limitada. Desse modo, existirão restrições sobre o conteúdo de frequências que os sinais transmitidos e recebidos poderão conter. \n",
    "\n",
    "Na análise que segue, considere que o canal de comunicações pode ser modelado como um sistema linear com uma resposta ao impulso $h(t)$ e resposta em frequência $H(f)$ limitada a uma banda de $B$ Hz, de modo que \n",
    "\n",
    "$$\n",
    "\\begin{equation}\n",
    "H(f) = \\begin{cases}|H(f)|e^{\\theta(f)}, & |f|<B \\\\ 0, & \\text { caso contrário.}\\end{cases}\n",
    "\\end{equation}\n",
    "$$\n",
    "\n",
    "e $H(f) = \\int_{-\\infty}^{\\infty}h(t)e^{-2\\pi f t} dt$, $|H(f)|$ é a resposta de amplitude e $\\theta(f)$ a resposta de fase do canal. A partir da resposta de fase podemos definir o *atraso de grupo* como \n",
    "\n",
    "$$\n",
    "\\begin{equation}\n",
    "\\tau(f)=-\\frac{1}{2 \\pi} \\frac{d \\theta(f)}{d f}.\n",
    "\\end{equation}\n",
    "$$\n",
    "\n",
    "O atraso de grupo corresponde ao intervalo de tempo com que cada componente de frequência do sinal transmitido atravessa o canal linear. Um canal linear não causará distorção nos sinais por ele transmitidos se, por todo o espectro do sinal transmitido, $|H(f)|$ for constante e $\\theta(f)$ for uma função linear de $f$, ou seja, se o atraso de grupo for constante."
   ]
  },
  {
   "cell_type": "markdown",
   "metadata": {},
   "source": [
    "## Sinalização para canais limitados em banda\n",
    "\n",
    "Assuma que em cada intervalo de sinalização $T_s$, o transmissor envia um sinal $s_m(t)$ dentre os $M$ possíveis do esquema de modulação utilizado, i.e. $\\left\\lbrace s_m(t), m = 1,2,\\dots, M\\right\\rbrace$. Considere que no intervalo de $0\\leq t \\leq T_s$ o transmissor enviou a sinal $s_m(t)$. Após a filtragem do canal os sinais transmitidos são afetados apenas por AWGN, como ilustrado na Fig. 2. "
   ]
  },
  {
   "cell_type": "markdown",
   "metadata": {},
   "source": [
    "<img src=\"./figuras/Fig14.png\" width=\"800\">\n",
    "\n",
    "<center>Fig.2: Esquemático de um sistema de transmissão digital via canal linear e AWGN.</center>"
   ]
  },
  {
   "cell_type": "markdown",
   "metadata": {},
   "source": [
    "Desse modo, o sinal $r(t)$ que chega a entrada do receptor pode ser representado por\n",
    "\n",
    "\n",
    "$$\n",
    "\\begin{align}\n",
    "r(t) & =\\left[\\sum_{k=-\\infty}^{\\infty} s_k p\\left(t-k T_s\\right)\\right] \\ast h(t) + n(t)\\nonumber \\\\\n",
    "& =\\sum_{k=-\\infty}^{\\infty} s_k p(t)\\ast \\delta\\left(t-k T_s\\right) \\ast h(t) + n(t)\\nonumber \\\\\n",
    "& =\\sum_{k=-\\infty}^{\\infty} s_k p(t)\\ast h(t)\\ast\\delta\\left(t-k T_s\\right)  + n(t)\\nonumber \\\\\n",
    "& =\\sum_{k=-\\infty}^{\\infty} s_k g(t)\\ast\\delta\\left(t-k T_s\\right)  + n(t)\\nonumber \\\\\n",
    "& =\\sum_{k=-\\infty}^{\\infty} s_k g\\left(t-k T_s\\right)  + n(t) \\label{ch_model_1}\\\\\n",
    "\\end{align}\n",
    "$$\n",
    "\n",
    "em que $g(t)$ é o pulso resultante da convolução de $p(t)$ com a resposta ao impulso do canal $h(t)$.\n",
    "\n",
    "### Interferência intersimbólica (ISI)\n",
    "\n",
    "Assuma que no receptor o sinal $r(t)$ é filtrado e amostrado nos instantes $t=qT_s + \\tau_{0}, q=0, 1, \\ldots$. Seja a saída do filtro do receptor dada por\n",
    "\n",
    "$$\n",
    "\\begin{equation}\n",
    "y(t)=\\sum_{k=-\\infty}^{\\infty} s_k x(t-kT_s) + v(t)\n",
    "\\end{equation}\n",
    "$$\n",
    "\n",
    "temos\n",
    "\n",
    "$$\n",
    "\\begin{equation}\n",
    "y\\left(q T_s+\\tau_0\\right) \\equiv y_q=\\sum_{k=-\\infty}^{\\infty} s_k x\\left(qT_s- kT_s+\\tau_0\\right) + v\\left(qT_s+\\tau_0\\right)\n",
    "\\end{equation}\n",
    "$$\n",
    "\n",
    "em que $\\tau_{0}$ é o atraso de propagação do sinal pelo canal. Considerando apenas a representação discreta do sinal, temos \n",
    "\n",
    "$$\n",
    "\\begin{align}\n",
    "y_q&=\\sum_{k=-\\infty}^{\\infty} s_k x_{q-k}+u_q, \\quad q=0,1, \\ldots.\\nonumber\\\\\n",
    "&= x_0\\left(s_q+\\frac{1}{x_0} \\sum_{\\substack{k=-\\infty \\\\ k \\neq q}}^{\\infty} s_k x_{q-k}\\right)+v_q, \\quad q=0,1, \\ldots\n",
    "\\end{align}\n",
    "$$\n",
    "\n",
    "em que $x_0$ é um fator de escala arbitrário que pode ser considerado igual à unidade por conveniência, de modo que\n",
    "\n",
    "$$\n",
    "\\begin{equation}\\label{ISI_eq1}\n",
    "y_q=s_q + \\sum_{\\substack{k=-\\infty \\\\ k \\neq q}}^{\\infty} s_k x_{q-k} + v_q, \\quad q=0,1, \\ldots\n",
    "\\end{equation}\n",
    "$$\n",
    "\n",
    "Em ($\\ref{ISI_eq1}$), temos que $s_q$ é o símbolo transmitido no intervalo de sinalização $q$. Já o termo $\\sum_{\\substack{k=-\\infty \\\\ k \\neq q}}^{\\infty} s_k x_{q-k}$ representa a interferência causada em $s_q$ pelos demais símbolos transmitidos, denominada **interferência intersimbólica** (*intersymbol interference* - ISI). Por fim, $v_q$ é uma variável aleatória representado o ruído AWGN no instante de sinalização $q$.\n"
   ]
  },
  {
   "cell_type": "code",
   "execution_count": null,
   "metadata": {
    "ExecuteTime": {
     "end_time": "2023-05-29T11:09:56.358439Z",
     "start_time": "2023-05-29T11:09:56.358439Z"
    }
   },
   "outputs": [],
   "source": [
    "M = 4\n",
    "constType = 'qam'\n",
    "\n",
    "# parâmetros da simulação\n",
    "SpS = 16            # Amostras por símbolo\n",
    "Rs  = 100e6         # Taxa de símbolos\n",
    "Ts  = 1/Rs          # Período de símbolo em segundos\n",
    "Fa  = 1/(Ts/SpS)    # Frequência de amostragem do sinal (amostras/segundo)\n",
    "Ta  = 1/Fa          # Período de amostragem\n",
    "\n",
    "# gera sequência pseudo-aleatória de bits\n",
    "bitsTx = np.random.randint(2, size = int(25*np.log2(M)))\n",
    "\n",
    "# gera sequência de símbolos modulados\n",
    "symbTx = modulateGray(bitsTx, M, constType)    \n",
    "symbTx = pnorm(symbTx) # power normalization\n",
    "symbTx = np.insert(symbTx,0, 0)\n",
    "\n",
    "# resposta do canal linear\n",
    "h_ch = np.array([0, 0.1, 1, 0.1])\n",
    "\n",
    "# upsampling\n",
    "symbolsUp = upsample(symbTx, SpS)\n",
    "h_ch_Up = upsample(h_ch, SpS)\n",
    "h_ch_Up = h_ch_Up.real\n",
    "\n",
    "# pulso NRZ típico\n",
    "pulse = pulseShape('nrz', SpS)\n",
    "pulse = pulse/max(abs(pulse))\n",
    "\n",
    "# formatação de pulso\n",
    "sigTx = firFilter(pulse, symbolsUp)\n",
    "\n",
    "t = np.arange(sigTx.size)*Ta/1e-9\n",
    "\n",
    "# instantes centrais dos intervalos de sinalização\n",
    "symbolsUp = upsample(symbTx, SpS)\n",
    "symbolsUp[symbolsUp==0+1j*0] = np.nan + 1j*np.nan\n",
    "\n",
    "if constType == 'pam':\n",
    "    plt.figure(2)\n",
    "    plt.plot(t, sigTx,'-',linewidth=2)\n",
    "    plt.plot(t, symbolsUp.real,'ko')\n",
    "    plt.xlabel('tempo [ns]')\n",
    "    plt.ylabel('amplitude')\n",
    "    plt.title('sinal '+str(M)+'-PAM')\n",
    "    plt.grid()\n",
    "else:\n",
    "    plt.figure(2)\n",
    "    plt.plot(t, sigTx.real,'-',linewidth=3, label = '$Re\\{s_n\\}$')\n",
    "    plt.plot(t, symbolsUp.real,'o')\n",
    "    plt.xlabel('tempo [ns]')\n",
    "    plt.ylabel('amplitude')\n",
    "    plt.title('sinal '+str(M)+'-QAM')\n",
    "    plt.grid()\n",
    "    \n",
    "    plt.figure(3)\n",
    "    plt.plot(t, sigTx.imag,'-',linewidth=3, label = '$Im\\{s_n\\}$')\n",
    "    plt.plot(t, symbolsUp.imag,'o')\n",
    "    plt.xlabel('tempo [ns]')\n",
    "    plt.ylabel('amplitude')\n",
    "    plt.title('sinal '+str(M)+'-QAM')\n",
    "    plt.grid()\n",
    "\n",
    "# canal linear\n",
    "sigRx = firFilter(h_ch_Up, sigTx)\n",
    "\n",
    "# ruído gaussiano branco\n",
    "Namostras = sigTx.size\n",
    "σ2  = 1e-6  # variância\n",
    "μ   = 0      # média\n",
    "\n",
    "σ      = np.sqrt(σ2) \n",
    "ruido  = normal(μ, σ, Namostras)\n",
    "ruidoC  = (normal(μ, σ, Namostras) + 1j*normal(μ, σ, Namostras))/np.sqrt(2)\n",
    "\n",
    "t = np.arange(sigTx.size)*Ta/1e-9\n",
    "if constType == 'pam':\n",
    "    plt.figure(2)\n",
    "    plt.plot(t, (sigRx + ruido).real,'r--',alpha=1, linewidth=2)\n",
    "    t = (0.5*Ts + np.arange(0, symbTx.size+1)*Ts)/1e-9\n",
    "    plt.vlines(t, min(symbTx), max(symbTx), linestyles='dashed', color = 'k');\n",
    "    plt.xlim(min(t), max(t));\n",
    "else:\n",
    "    plt.figure(2)\n",
    "    plt.plot(t, (sigRx + ruidoC).real,'r--',alpha=1, linewidth=2)\n",
    "    plt.plot(t, symbolsUp.real,'o')\n",
    "    plt.figure(3)\n",
    "    plt.plot(t, (sigRx + ruidoC).imag,'r--',alpha=1, linewidth=2)\n",
    "    plt.plot(t, symbolsUp.imag,'o')\n",
    "    t = (0.5*Ts + np.arange(0, symbTx.size+1)*Ts)/1e-9\n",
    "    plt.figure(2)\n",
    "    plt.vlines(t, min(symbTx), max(symbTx), linestyles='dashed', color = 'k');\n",
    "    plt.xlim(min(t), max(t));\n",
    "    plt.figure(3)\n",
    "    plt.vlines(t, min(symbTx), max(symbTx), linestyles='dashed', color = 'k');\n",
    "    plt.xlim(min(t), max(t));"
   ]
  },
  {
   "cell_type": "code",
   "execution_count": null,
   "metadata": {
    "ExecuteTime": {
     "end_time": "2023-05-29T11:09:56.361011Z",
     "start_time": "2023-05-29T11:09:56.361011Z"
    }
   },
   "outputs": [],
   "source": [
    "# generate pseudo-random bit sequence\n",
    "bitsTx = np.random.randint(2, size = int(250000*np.log2(M)))\n",
    "\n",
    "# generate ook modulated symbol sequence\n",
    "symbTx = modulateGray(bitsTx, M, constType)    \n",
    "symbTx = pnorm(symbTx) # power normalization\n",
    "\n",
    "# resposta do canal linear\n",
    "h_ch = np.array([0, 0.1, 1, 0.1])\n",
    "\n",
    "# upsampling\n",
    "symbolsUp = upsample(symbTx, SpS)\n",
    "h_ch_Up = upsample(h_ch, SpS)\n",
    "h_ch_Up = h_ch_Up\n",
    "\n",
    "# pulso NRZ típico\n",
    "pulse = pulseShape('nrz', SpS)\n",
    "pulse = pulse/max(abs(pulse))\n",
    "\n",
    "# formatação de pulso\n",
    "sigTx = firFilter(pulse, symbolsUp)\n",
    "sigTx = pnorm(sigTx)\n",
    "\n",
    "# canal linear\n",
    "sigRx = firFilter(h_ch_Up, sigTx)\n",
    "sigRx = pnorm(sigRx)\n",
    "\n",
    "# ruído gaussiano branco\n",
    "Namostras = sigTx.size\n",
    "σ2  = 1e-7 # variância\n",
    "μ   = 0         # média\n",
    "\n",
    "σ      = np.sqrt(σ2*SpS)\n",
    "ruido  = normal(μ, σ, Namostras)\n",
    "ruidoC  = (normal(μ, σ, Namostras) + 1j*normal(μ, σ, Namostras))/np.sqrt(2)\n",
    "\n",
    "# diagrama de olho\n",
    "Nsamples = sigTx.size\n",
    "if constType == 'pam':\n",
    "    eyediagram(sigTx.real, Nsamples, SpS, plotlabel= str(M)+'-PAM', ptype='fancy')\n",
    "    eyediagram((sigRx + ruido).real, Nsamples, SpS, plotlabel= str(M)+'-PAM', ptype='fancy')\n",
    "else:\n",
    "    eyediagram(sigTx, Nsamples, SpS, plotlabel= str(M)+'-QAM', ptype='fancy')\n",
    "    eyediagram(sigRx + ruidoC, Nsamples, SpS, plotlabel= str(M)+'-QAM', ptype='fancy')\n",
    "    \n",
    "pconst(pnorm((sigRx + ruidoC)[10*SpS:-10*SpS:SpS]), pType='fast', R=1.5);"
   ]
  },
  {
   "cell_type": "code",
   "execution_count": null,
   "metadata": {
    "ExecuteTime": {
     "end_time": "2023-05-29T11:09:56.364139Z",
     "start_time": "2023-05-29T11:09:56.364139Z"
    },
    "hide_input": false
   },
   "outputs": [],
   "source": [
    "# plot PSD\n",
    "plt.figure();\n",
    "plt.xlim(-2*Rs,2*Rs);\n",
    "plt.ylim(-250,-20);\n",
    "plt.psd(sigTx,Fs=Fa, NFFT = 16*1024, sides='twosided', label = 'Espectro do sinal Tx (entrada do canal)')\n",
    "plt.psd(pnorm(firFilter(pulse, sigRx)),Fs=Fa, NFFT = 16*1024, sides='twosided', label = 'Espectro do sinal Rx (saída do canal)')\n",
    "plt.legend(loc='upper left');"
   ]
  },
  {
   "cell_type": "markdown",
   "metadata": {},
   "source": [
    "### Critério de Nyquist para ausência de interferência intersimbólica\n",
    "\n",
    "Considere que a resposta em frequência $H(f)$ é ideal e limitada em banda, de maneira que\n",
    "\n",
    "$$\n",
    "\\begin{equation}\n",
    "|H(f)| = \\begin{cases}1, & |f|<B \\\\ 0, & \\text { caso contrário.}\\end{cases}.\n",
    "\\end{equation}\n",
    "$$\n",
    "\n",
    "Logo, assumindo que o receptor aplica um filtro casado ao pulso $p(t)$ transmitido, temos que $X(f) = |P(f)|^2$, em que\n",
    "\n",
    "$$\n",
    "\\begin{equation}\n",
    "x(t) = \\int_{-B}^{B}X(f)e^{2\\pi f t} df.\n",
    "\\end{equation}\n",
    "$$\n",
    "\n",
    "Desejamos encontrar as condições que $p(t)$ deve atender e, por consequência, $x(t)$, para que a interferência intersimbólica seja nula. Sabemos que\n",
    "\n",
    "$$\n",
    "\\begin{equation}\\label{ISI_eq2}\n",
    "y_q=s_q + \\sum_{\\substack{k=-\\infty \\\\ k \\neq q}}^{\\infty} s_k x_{q-k} + v_q, \\quad q=0,1, \\ldots,\n",
    "\\end{equation}\n",
    "$$\n",
    "\n",
    "o que implica que a condição para ausência de ISI é dada por\n",
    "\n",
    "$$\n",
    "\\begin{equation}\\label{isi_x}\n",
    "x(t=q T_s) \\equiv x_q= \\begin{cases}1, & q=0 \\\\ 0, & q \\neq 0\\end{cases}\n",
    "\\end{equation}\n",
    "$$\n",
    "\n",
    "Esta condição é conhecida como critério de Nyquist para ausência de interferência intersimbólica.\n",
    "\n",
    "**Teorema (Critério de Nyquist)**: uma condição necessária e suficiente para a ausência de interferência intersimbólica, ou seja, para $x(t)$ satisfazer ($\\ref{isi_x}$) é que sua transformada de Fourier $X(f)$ satisfaça\n",
    "\n",
    "$$\n",
    "\\sum_{m=-\\infty}^{\\infty} X(f+m R_s)=T_s.\n",
    "$$\n",
    "\n",
    "\n",
    "Prova:\n",
    "\n",
    "$$\n",
    "\\begin{equation}\n",
    "x(t)=\\int_{-\\infty}^{\\infty} X(f) e^{j 2 \\pi f t} d f\n",
    "\\end{equation}\n",
    "$$\n",
    "\n",
    "Considerando que as amostras são tomadas ao final de cada intervalo de sinalização $t=kT_s$, temos que\n",
    "$$\n",
    "\\begin{equation}\n",
    "x(kT_s)=\\int_{-\\infty}^{\\infty} X(f) e^{j 2 \\pi f k T_s} d f.\n",
    "\\end{equation}\n",
    "$$\n",
    "\n",
    "A taxa de sinalização, ou taxa de símbolos, $R_s$ é dada por $R_s = 1/T_s$, de modo que"
   ]
  },
  {
   "cell_type": "markdown",
   "metadata": {},
   "source": [
    "$$\n",
    "\\begin{align}\n",
    "x(kT_s) & =\\sum_{m=-\\infty}^{\\infty} \\int_{(2 m-1) R_s/2}^{(2 m+1) R_s/2} X(f) e^{j 2 \\pi f kT_s} d f\\nonumber \\\\\n",
    "& =\\sum_{m=-\\infty}^{\\infty} \\int_{-R_s/2}^{R_s/2} X(f+ m R_s) e^{j 2 \\pi f kT_s} d f \\nonumber\\\\\n",
    "& =\\int_{-R_s/2}^{R_s/2}\\left[\\sum_{m=-\\infty}^{\\infty} X(f+m R_s)\\right] e^{j 2 \\pi f kT_s} d f \\nonumber\\\\\n",
    "& =\\int_{-R_s/2}^{R_s/2} B(f) e^{j 2 \\pi f kT_s} d f\\label{nyq_1}\n",
    "\\end{align}\n",
    "$$"
   ]
  },
  {
   "cell_type": "markdown",
   "metadata": {},
   "source": [
    "Em que a função $B(f)$ é dada por\n",
    "$$\n",
    "\\begin{equation}\n",
    "B(f)=\\sum_{m=-\\infty}^{\\infty} X(f+mR_s).\n",
    "\\end{equation}\n",
    "$$\n",
    "\n",
    "Como $B(f)$ é periódica em $f$ com período $R_s$, esta admite representação em termos de uma série de Fourier\n",
    "\n",
    "$$\n",
    "\\begin{align}\n",
    "B(f)&=\\sum_{k=-\\infty}^{\\infty} b_k e^{j 2 \\pi k f T_s} \\nonumber \\\\\n",
    "b_k&=\\frac{1}{R_s} \\int_{-R_s / 2}^{R_s/ 2} B(f) e^{-\\frac{j2 \\pi k f}{R_s}} d f = T_s \\int_{-R_s / 2}^{R_s/ 2} B(f) e^{-j2 \\pi k f T_s} d f \\label{nyq_2}\n",
    "\\end{align}\n",
    "$$\n",
    "\n",
    "Logo, comparando ($\\ref{nyq_1}$) e ($\\ref{nyq_2}$), temos que\n",
    "\n",
    "$$\n",
    "\\begin{equation}\n",
    "b_k=T_s x(-k T_s).\n",
    "\\end{equation}\n",
    "$$\n",
    "\n",
    "Desse modo, na ausência de ISI, os coeficientes $b_k$ devem ser dados por\n",
    "$$\n",
    "\\begin{equation}\\label{fourier_coeffs}\n",
    "b_k=\\begin{cases}T_s, & k=0 \\\\ 0, & k \\neq 0\\end{cases}.\n",
    "\\end{equation}\n",
    "$$\n",
    "\n",
    "o que implica em\n",
    "\n",
    "$$\n",
    "\\begin{align}\n",
    "B(f)&=T_s\\\\\n",
    "\\sum_{m=-\\infty}^{\\infty} X(f+m R_s)&=T_s.\n",
    "\\end{align}\n",
    "$$"
   ]
  },
  {
   "cell_type": "markdown",
   "metadata": {},
   "source": [
    "Supondo que o canal tem banda $B$, teremos então três casos \n",
    "\n",
    "1. Se $R_s > 2B$, as cópias de $X(f)$ espaçadas de $R_s$ no domínio da frequência não se sobrepõem, de modo que não há nenhuma escolha possível de $x(t)$ que permita que $\\sum_{m=-\\infty}^{\\infty} X(f+m R_s)$ seja uma função constante. Como consequência, não existe nenhuma função $x(t)$ que permita a transmissão livre de ISI.\n",
    "\n",
    "2. Se $R_s = 2B$, o somatório $\\sum_{m=-\\infty}^{\\infty} X(f+m R_s)$ será uma constante apenas se $X(f)$ for uma função porta\n",
    "$$\n",
    "\\begin{equation}\n",
    "X(f)= \\begin{cases}T_s & |f|<B \\\\ 0, & \\text { c.c. }\\end{cases}\n",
    "\\end{equation}\n",
    "$$\n",
    "\n",
    "ou seja, se $x(t)$ for uma função sinc\n",
    "\n",
    "$$\n",
    "\\begin{equation}\n",
    "x(t)=\\operatorname{sinc}\\left(\\frac{t}{T_s}\\right).\n",
    "\\end{equation}\n",
    "$$\n",
    "\n",
    "3. Se $R_s < 2B$, os temos do somatório $\\sum_{m=-\\infty}^{\\infty} X(f+m R_s)$ se sobrepõem, de modo que existirão diversas escolhas de $x(t)$ que o mesmo seja constante.\n",
    "\n",
    "\n",
    "### Família de pulsos cosseno levantado (*raised cosine*)\n",
    "\n",
    "Um conjunto de pulsos que atendem ao critério de Nyquist de ISI nula correponde à família de pulsos cosseno levantado, que pode ser definida no domínio da frequência como\n",
    "$$\n",
    "\\begin{equation}\n",
    "X_{r c}(f)= \\begin{cases}T_s, & 0 \\leq|f| \\leq(1-\\alpha) / 2 T_s \\\\ \\frac{T_s}{2}\\left[1+\\cos \\frac{\\pi T_s}{\\alpha}\\left(|f|-\\frac{1-\\alpha}{2 T_s}\\right)\\right], & \\frac{1-\\alpha}{2 T_s} \\leq|f| \\leq \\frac{1+\\alpha}{2 T_s} \\\\ 0, & |f|>\\frac{1+\\alpha}{2 T_s}\\end{cases}\n",
    "\\end{equation}\n",
    "$$\n",
    "e no domínio do tempo como\n",
    "$$\n",
    "\\begin{align}\n",
    "x(t) & =\\frac{\\operatorname{sen} (\\pi t / T_s)}{\\pi t / T_s} \\frac{\\cos (\\pi \\alpha t / T_s)}{1-4 \\alpha^2 t^2 / T_s^2}\\nonumber \\\\\n",
    "& =\\operatorname{sinc}(t / T_s)\\frac{\\cos (\\pi \\alpha t / T_s)}{1-4 \\alpha^2 t^2 / T_s^2},\n",
    "\\end{align}\n",
    "$$\n",
    "\n",
    "em que $0<\\alpha<1$ é denominado de parâmetro de *rolloff* ou *excesso de banda*."
   ]
  },
  {
   "cell_type": "code",
   "execution_count": null,
   "metadata": {
    "ExecuteTime": {
     "end_time": "2023-05-29T11:09:56.364139Z",
     "start_time": "2023-05-29T11:09:56.364139Z"
    },
    "hide_input": false
   },
   "outputs": [],
   "source": [
    "Rs = 100e6\n",
    "Ts = 1/Rs\n",
    "α = 0.1\n",
    "π = sp.pi\n",
    "\n",
    "f, t = sp.symbols('f, t', real=True)\n",
    "\n",
    "X = sp.Piecewise((0, ( f  <= -(1 + α)/(2*Ts) ) ), \n",
    "                  ((Ts/2)*(1 + sp.cos(π*Ts/α*(sp.Abs(f)-(1-α)/(2*Ts)))), ( f  > -(1 + α)/(2*Ts) )&( f <= -(1-α)/(2*Ts)  ) ) , \n",
    "                  (Ts, ( f  > -(1-α)/(2*Ts) )&( f <= (1-α)/(2*Ts))  ) ,\n",
    "                  ((Ts/2)*(1 + sp.cos(π*Ts/α*(sp.Abs(f)-(1-α)/(2*Ts)))), ( f  > (1-α)/(2*Ts) )&( f <= (1+α)/(2*Ts))  ),\n",
    "                  (0, ( f  > (1+α)/(2*Ts) ) ) ) \n",
    "\n",
    "x = sp.sinc(π*t/Ts)*sp.cos(π*α*t/Ts)/(1-4*α**2*t**2/Ts**2)\n",
    "\n",
    "finterval = np.arange(-2, 2, 0.01)*(1/Ts)\n",
    "symplot(f, X, finterval, '$X_{rc}$(f)', xlabel = 'f[Hz]');\n",
    "\n",
    "tinterval = np.arange(-20, 20, 0.01)*Ts\n",
    "symplot(t, x, tinterval, '$x_{rc}$(t)', xlabel = 't[s]');"
   ]
  },
  {
   "cell_type": "markdown",
   "metadata": {},
   "source": [
    "Duas vantagens importantes:\n",
    "\n",
    "1. Devido às características suaves de transição de $x_{rc}(t)$ estes pulsos podem ser implementados na prática por filtros lineares formatadores de pulso.\n",
    "\n",
    "2. As bordas laterais dos pulsos $x_{rc}(t)$ convergem para 0 a uma taxa proporcional a $1/t^3$, para $\\alpha>0$, diferentemente da função $\\operatorname{sinc}(t)$, que convege a $1/t$. Essa proprieadade permite que pequenos desvios do instante de amostragem ótimo façam com que a ISI convirja para um valor finito no caso do pulso $x_{rc}(t)$, enquanto a mesma diverge no caso de pulsos $\\operatorname{sinc}(t)$. Assim, pulsos $x_{rc}(t)$ são em geral mais robustos à erros de sincronização do que pulsos $\\operatorname{sinc}(t)$.\n",
    "\n",
    "3. A complexidade do processamento requerido para a implementação de $x_{rc}(t)$ pode ser dividida entre transmissor e receptor. Considerando a situação ideal em que $$\n",
    "\\begin{equation}\\nonumber\n",
    "H(f) = \\begin{cases}1, & |f|<B \\\\ 0, & \\text { caso contrário.}\\end{cases}\n",
    "\\end{equation}\n",
    "$$Sejam $P_T(f)$ e $P_R(f) = P_T^*(f)$ os filtro formatador de pulso do transmissor e o filtro casado correspondente no receptor, respectivamente, temos que$$\n",
    "\\begin{align}\n",
    "P_T(f)H(f)P_R(f) &= X_{rc}(f)\\nonumber\\\\\n",
    "P_T(f)P_R(f) &= X_{rc}(f)\\nonumber\\\\\n",
    "|P_T(f)|^2 &= X_{rc}(f)\\nonumber\\\\\n",
    "\\end{align}\n",
    "$$\n",
    "ou seja, $X_{rc}(f)$ pode ser alcançada fazendo-se $P_T(f) = P_R^*(f) = \\sqrt{X_{rc}(f)} = P_{rrc}(f)$. O pulso cujo espectro é dado por $P_{rrc}(f) = \\sqrt{X_{rc}(f)}$ é conhecido como raiz do cosseno levantado (*root raised cosine* - RRC) e é definido no domínio do tempo por\n",
    "\n",
    "$$\n",
    "p_{rrc}(t)= \\begin{cases}\\frac{1}{T_s}\\left(1+\\alpha\\left(\\frac{4}{\\pi}-1\\right)\\right), & t=0 \\\\ \\frac{\\alpha}{T_s \\sqrt{2}}\\left[\\left(1+\\frac{2}{\\pi}\\right) \\sin \\left(\\frac{\\pi}{4 \\alpha}\\right)+\\left(1-\\frac{2}{\\pi}\\right) \\cos \\left(\\frac{\\pi}{4 \\alpha}\\right)\\right], & t= \\pm \\frac{T_s}{4 \\alpha} \\\\ \\frac{1}{T_s} \\frac{\\sin \\left[\\pi \\frac{t}{T_s}(1-\\alpha)\\right]+4 \\alpha \\frac{t}{T_s} \\cos \\left[\\pi \\frac{t}{T_s}(1+\\alpha)\\right]}{\\pi \\frac{t}{T_s}\\left[1-\\left(4 \\alpha \\frac{t}{T_s}\\right)^2\\right]}, & \\text { caso contrário.}\\end{cases}\n",
    "$$"
   ]
  },
  {
   "cell_type": "markdown",
   "metadata": {},
   "source": [
    "### Transmissão de sinais com *resposta parcial*\n",
    "\n",
    "Para efeitos práticos, o critério de Nyquist nos indica que é possível projetar formas de pulso para eliminar a presença de ISI no receptor, desde que a taxa de sinalização $R_s$ da transmissão em símbolos/segundo seja tal que $R_s < 2B$, em que $B$ é a banda do canal de comunicações em Hz.\n",
    "\n",
    "Entretanto, transmitir a uma taxa de $R_s = 2B$ sem ter que recorrer à utilização de pulsos $\\operatorname{sinc}(t)$ ainda será possível, desde que uma determinada quantidade controlada de ISI possa ser tolerada no receptor. Por exemplo, suponha que\n",
    "\n",
    "$$\n",
    "x(k T_s)= \\begin{cases} 1, & k=0,1 \\\\ 0, & \\text { caso contrário. }\\end{cases}\n",
    "$$\n",
    "\n",
    "e então, os coeficientes em ($\\ref{fourier_coeffs}$) serão dados por \n",
    "\n",
    "$$\n",
    "b_k= \\begin{cases}T_s & k=0,-1 \\\\ 0 & \\text { caso contrário, }\\end{cases}\n",
    "$$\n",
    "\n",
    "de maneira que $B(f)=T_s + T_s e^{j 2 \\pi f T_s} = T_s\\left(1 + e^{j 2 \\pi f T_s}\\right)$\n",
    "\n",
    "Se $R_s > 2B$, o problema continua sem solução. Já no caso de $R_s=2B$, $B(f)$ pode ser alcançado se fizermos \n",
    "\n",
    "$$\n",
    "\\begin{align} \n",
    "X(f) & = \\begin{cases}\\frac{1}{2 B}\\left(1+e^{-j \\pi f / B}\\right) & |f|<B \\\\ 0 & \\text { caso contrário} \\end{cases}\\nonumber \\\\ \n",
    "& = \\begin{cases}\\frac{1}{B} e^{-j \\pi f / 2 B} \\cos\\left( \\frac{\\pi f}{2 B}\\right) & |f|<B \\\\ 0 & \\text { caso contrário}\\end{cases}. \\nonumber\\end{align}\n",
    "$$"
   ]
  },
  {
   "cell_type": "code",
   "execution_count": null,
   "metadata": {
    "ExecuteTime": {
     "end_time": "2023-05-29T11:09:56.370586Z",
     "start_time": "2023-05-29T11:09:56.364139Z"
    }
   },
   "outputs": [],
   "source": [
    "Rs = 100e6\n",
    "Ts = 1/Rs\n",
    "B = Rs/2\n",
    "\n",
    "π = sp.pi\n",
    "\n",
    "f, t = sp.symbols('f, t', real=True)\n",
    "\n",
    "Bf = Ts + Ts*sp.exp(1j*2*π*f*Ts)\n",
    "\n",
    "X = sp.Piecewise((1/(2*B)*(1 + sp.exp(1j*π*f/B)), (-B<= f)&(f<= B)), (0, True)) \n",
    "\n",
    "finterval = np.arange(-2, 2, 0.01)*2*B\n",
    "symplot(f, [sp.re(X), sp.im(X)], finterval, ['$\\Re{X(f)}$', '$\\Im{X(f)}$'], xlabel = 'f[Hz]');\n",
    "symplot(f, [sp.re(Bf), sp.im(Bf)], finterval, ['$\\Re{B(f)}$','$\\Im{B(f)}$'], xlabel = 'f[Hz]');"
   ]
  },
  {
   "cell_type": "markdown",
   "metadata": {},
   "source": [
    "No domínio do tempo, o pulso associado a $X(f)$ é dado por\n",
    "\n",
    "$$\n",
    "x(t)=\\operatorname{sinc}(2 \\pi B t)+\\operatorname{sinc}\\left(2\\pi B(t-T_s)\\right)\n",
    "$$\n",
    "\n",
    "que é conhecido como *pulso duobinário*.\n"
   ]
  },
  {
   "cell_type": "code",
   "execution_count": null,
   "metadata": {
    "ExecuteTime": {
     "end_time": "2023-05-29T11:09:56.370586Z",
     "start_time": "2023-05-29T11:09:56.370586Z"
    }
   },
   "outputs": [],
   "source": [
    "x = sp.sinc(2*B*π*t)+sp.sinc(2*B*π*(t-Ts))\n",
    "\n",
    "Xabs = sp.piecewise_fold(sp.Abs(X)).simplify()\n",
    "\n",
    "tinterval = np.arange(-5, 5, 0.01)*Ts\n",
    "symplot(t, x, tinterval, '$x_{duob}$(t)', xlabel = 't[s]');\n",
    "\n",
    "finterval = np.arange(-2, 2.01, 0.001)*B\n",
    "symplot(f, Xabs, finterval, '$|X(f)|$', xlabel = 'f[Hz]');"
   ]
  },
  {
   "cell_type": "markdown",
   "metadata": {},
   "source": [
    "Outra possibilidade é fazer\n",
    "\n",
    "$$\n",
    "x(kT_s)= \\begin{cases} 1, & k=-1 \\\\ -1, & k =1\\\\ 0, & \\text { caso contrário. }\\end{cases}\n",
    "$$\n",
    "\n",
    "que resultará no pulso\n",
    "\n",
    "$$\n",
    "x(t)=\\operatorname{sinc}\\left[2\\pi B(t+T_s)\\right]-\\operatorname{sinc}\\left[2\\pi B(t-T_s)\\right]\n",
    "$$\n",
    "\n",
    "cujo espectro é dado por\n",
    "\n",
    "$$\n",
    "X(f)= \\begin{cases}\\frac{1}{2 B}\\left(e^{i \\pi f / B}-e^{-j \\pi f/ B}\\right)=\\frac{j}{B} \\sin \\left(\\frac{\\pi f}{B}\\right) & |f|\\leqslant B \\\\ 0 & |f| > B\\end{cases}\n",
    "$$"
   ]
  },
  {
   "cell_type": "code",
   "execution_count": null,
   "metadata": {
    "ExecuteTime": {
     "end_time": "2023-05-29T11:09:56.373657Z",
     "start_time": "2023-05-29T11:09:56.373657Z"
    }
   },
   "outputs": [],
   "source": [
    "x = sp.sinc(2*B*π*(t+Ts))-sp.sinc(2*B*π*(t-Ts))\n",
    "\n",
    "X = sp.Piecewise((1/(2*B)*(sp.exp(1j*π*f/B) - sp.exp(-1j*π*f/B)), (-B<= f)&(f<= B)), (0, True)) \n",
    "\n",
    "Xabs = sp.piecewise_fold(sp.Abs(X)).simplify()\n",
    "\n",
    "tinterval = np.arange(-5, 5, 0.0001)*Ts\n",
    "symplot(t, x, tinterval, '$x_{duob}$(t)', xlabel = 't[s]');\n",
    "\n",
    "finterval = np.arange(-2, 2.01, 0.001)*B\n",
    "symplot(f, Xabs, finterval, '$|X(f)|$', xlabel = 'f[Hz]');"
   ]
  },
  {
   "cell_type": "markdown",
   "metadata": {},
   "source": [
    "De maneira geral, os pulsos pertencentes ao conjunto de sinais limitados em banda que são definidos como\n",
    "\n",
    "$$\n",
    "x(t)=\\sum_{n=-\\infty}^{\\infty} x\\left(\\frac{n}{2 B}\\right) \\operatorname{sinc}\\left[2 \\pi B\\left(t-\\frac{n}{2 B}\\right)\\right]\n",
    "$$\n",
    "\n",
    "e com espectro correspondente\n",
    "\n",
    "$$\n",
    "X(f)= \\begin{cases}\\frac{1}{2 B} \\sum_{n=-\\infty}^{\\infty} x\\left(\\frac{n}{2 B}\\right) e^{-j n \\pi f / B} & |f| \\leqslant B \\\\ 0, & \\text{caso contrário.}\\end{cases}\n",
    "$$\n",
    "\n",
    "são denominados pulsos ou sinais de *resposta parcial*. A utilização de tais pulsos na transmissão significa que há uma adição controlada de ISI por meio da introdução de duas ou mais amostras não-nulas $x\\left(\\frac{n}{2 B}\\right)$. Tais pulsos permitem a taxa de sinalização da transmissão seja igual a taxa de Nyquist, ou seja, $R_s = 2B$."
   ]
  },
  {
   "cell_type": "markdown",
   "metadata": {},
   "source": [
    "### Detecção símbolo-a-símbolo de sinais com ISI controlada\n",
    "\n",
    "Considere uma transmissão duobinária tal que a amostra $y_k$ capturada em cada instante de sinalização $t=kT_s$ seja dada por\n",
    "\n",
    "$$\n",
    "y_k = r_k + v_k = a_k + a_{k-1} + v_k\n",
    "$$\n",
    "\n",
    "em que \\{$a_k$\\} é a sequência de amplitudes transmitidas e \\{$v_k$\\} a sequência de amostras de ruído aditivo gaussiano. Considere que $a_k=\\pm 1$, com a mesma probabilidade, de modo que $r_k=-2,0,2$ com probabilidades $1/4$, $1/2$ e $1/4$.\n",
    "\n",
    "Note que, se $a_{k-1}$ for conhecido, o receptor pode simplesmente subtrair seu valor de $r_k$, de modo a eliminar o efeito da ISI. Entretanto, se o receptor cometeu um erro na detecção de $a_{k-1}$, a subtração tenderá a não eliminarar a ISI em $r_k$, podendo até mesmo amplificar o efeito da ISI. Tal fenômeno é conhecido como *propagação de erros*.\n",
    "\n",
    "A propagação de erros pode ser evitada utilizando-se uma pré-codificação na sequência de bits a ser transmitida.\n",
    "\n",
    "Considere que a partir de uma sequência de bits $b_k$, uma nova sequência $c_k$ seja gerada fazendo\n",
    "\n",
    "$$\\begin{equation}\\label{precod}\n",
    "c_k = b_k \\ominus c_{k-1}, \\quad k = 1, 2, \\ldots\n",
    "\\end{equation}\n",
    "$$\n",
    "\n",
    "em que $\\ominus$ representa a operação de subtração módulo-2 (que é idêntica à operação $\\oplus$ adição módulo-2, ou XOR). \n",
    "\n",
    "Considerando que a modulação utilizada é a 2-PAM antipodal, temos que a sequência correspondente de amplitudes da modulação é dada por\n",
    "\n",
    "$$\n",
    "a_k = 2c_k -1.\n",
    "$$\n",
    "\n",
    "Consequentemente, a sequência de amplitudes do sinal *duobinário* produzido a partir de $a_k$ é dada por\n",
    "\n",
    "$$\n",
    "r_k = a_k + a_{k-1}.\n",
    "$$\n",
    "\n",
    "Temos então que\n",
    "\n",
    "$$\\begin{align}\n",
    "r_k &= a_k + a_{k-1}\\nonumber\\\\\n",
    "&= (2c_k -1) + (2c_{k-1} -1)\\nonumber\\\\\n",
    "&= 2(c_k + c_{k-1}-1)\\nonumber\\\\\n",
    "\\end{align}$$\n",
    "\n",
    "ou seja,\n",
    "\n",
    "$$\n",
    "c_k + c_{k-1} = \\frac{r_k}{2} + 1\n",
    "$$\n",
    "\n",
    "De ($\\ref{precod}$) temos que $c_k \\oplus c_{k-1} = b_k$, de modo que \n",
    "\n",
    "$$\n",
    "b_k=\\frac{r_k}{2}-1 (\\bmod 2)\n",
    "$$"
   ]
  },
  {
   "cell_type": "code",
   "execution_count": null,
   "metadata": {
    "ExecuteTime": {
     "end_time": "2023-05-29T11:09:56.375425Z",
     "start_time": "2023-05-29T11:09:56.375425Z"
    }
   },
   "outputs": [],
   "source": [
    "# gera sequência pseudo-aleatória de bits\n",
    "bk = np.random.randint(2, size = 20)\n",
    "\n",
    "ck = np.zeros(bk.shape, dtype=int)\n",
    "rk = np.zeros(bk.shape, dtype=int)\n",
    "dk = np.zeros(bk.shape, dtype=int)\n",
    "\n",
    "for k in range(len(bk)):\n",
    "    if k == 0:\n",
    "        ck[k] = bk[k]\n",
    "    else:\n",
    "        ck[k] = bk[k]^ck[k-1]\n",
    "\n",
    "ak = 2*ck-1\n",
    "\n",
    "for k in range(len(bk)):\n",
    "    if k == 0:\n",
    "        rk[k] = ak[k]\n",
    "    else:\n",
    "        rk[k] = ak[k] + ak[k-1]\n",
    "        \n",
    "        \n",
    "for k in range(len(dk)):\n",
    "    dk[k] = (rk[k]/2 + 1)%2\n",
    "    \n",
    "print(f'Bits (bk):{bk}\\n')\n",
    "print(f'Bits após pré-codificação (ck):{ck}\\n')\n",
    "print(f'Amplitudes sinal 2-PAM (ak):{ak}\\n')\n",
    "print(f'Amplitudes sinal 2-PAM duobinário (rk) :{rk}\\n')\n",
    "print(f'Bits após decodificação (dk) :{dk}\\n')"
   ]
  },
  {
   "cell_type": "markdown",
   "metadata": {},
   "source": [
    "A regra de decisão no receptor torna-se, então\n",
    "\n",
    "$$\n",
    "b_k = \\begin{cases}0, & r_k = +2, -2\\\\\n",
    "1, & r_k = 0.\n",
    "\\end{cases}\n",
    "$$\n",
    "\n",
    "Com a presença de ruído, as amostras observadas pelo receptor são dadas por $y_k = r_k + v_k$, de modo que a decisão pode ser tomada baseada na comparação do sinal recebido com dois limiares de decisão posicionados em +1 e -1, ou seja\n",
    "\n",
    "$$\n",
    "b_k= \\begin{cases}1, & \\text { se }-1<y_k<1 \\\\ 0, & \\text { se }\\left|y_k\\right| \\geq 1\\end{cases}\n",
    "$$\n"
   ]
  },
  {
   "cell_type": "code",
   "execution_count": null,
   "metadata": {
    "ExecuteTime": {
     "end_time": "2023-05-29T11:09:56.377650Z",
     "start_time": "2023-05-29T11:09:56.377650Z"
    },
    "lines_to_next_cell": 0
   },
   "outputs": [],
   "source": [
    "def duob(SpS=2, Nsamples=16, reverse=False, alpha=0.01):    \n",
    "       \n",
    "    p = pulseShape('rrc', SpS, N=Nsamples+2*SpS, alpha=alpha)\n",
    "    \n",
    "    x = p + np.roll(p, -SpS)\n",
    "    \n",
    "    if reverse:\n",
    "        indrev = np.arange(len(p)-1, -1, -1)\n",
    "        x = x[indrev]        \n",
    "        \n",
    "    return x[SpS:-SpS]\n",
    "\n",
    "# x = duob(16, 1024, reverse=True)\n",
    "# plt.plot(x, '-')\n",
    "# plt.plot(p[400:600], '--')"
   ]
  },
  {
   "cell_type": "code",
   "execution_count": null,
   "metadata": {
    "ExecuteTime": {
     "end_time": "2023-05-29T11:09:56.382356Z",
     "start_time": "2023-05-29T11:09:56.382356Z"
    }
   },
   "outputs": [],
   "source": [
    "M = 2\n",
    "constType = 'pam'\n",
    "\n",
    "# parâmetros da simulação\n",
    "SpS = 16            # Amostras por símbolo\n",
    "Rs  = 100e6         # Taxa de símbolos\n",
    "Ts  = 1/Rs          # Período de símbolo em segundos\n",
    "Fa  = 1/(Ts/SpS)    # Frequência de amostragem do sinal (amostras/segundo)\n",
    "Ta  = 1/Fa          # Período de amostragem\n",
    "rolloff = 0.005\n",
    "\n",
    "# gera sequência pseudo-aleatória de bits\n",
    "bitsTx = np.random.randint(2, size = int(100000*np.log2(M)))\n",
    "cbitsTx = np.zeros(bitsTx.shape, dtype=int)\n",
    "\n",
    "# pré-codificação\n",
    "for k in range(len(bitsTx)):\n",
    "    if k == 0:\n",
    "        cbitsTx[k] = bitsTx[k]\n",
    "    else:\n",
    "        cbitsTx[k] = bitsTx[k]^cbitsTx[k-1]\n",
    "\n",
    "# gera sequência de símbolos modulados\n",
    "symbTx = modulateGray(cbitsTx, M, constType)    \n",
    "symbTx = pnorm(symbTx) # power normalization\n",
    "\n",
    "# upsampling\n",
    "symbolsUp = upsample(symbTx, SpS)\n",
    "\n",
    "# pulso duobinário\n",
    "pulseDoub = duob(SpS, Nsamples=2048, reverse=False, alpha=rolloff)\n",
    "pulse = pulseShape('rrc', SpS, N=2048, alpha=rolloff) \n",
    "pulse = pulse/max(abs(pulse))\n",
    "\n",
    "# formatação de pulso\n",
    "sigTx = firFilter(pulseDoub, symbolsUp)\n",
    "\n",
    "t = np.arange(sigTx.size)*Ta/1e-9\n",
    "\n",
    "# filtro casado\n",
    "sigRx = firFilter(pulse, sigTx)\n",
    "sigRx = pnorm(sigRx)\n",
    "\n",
    "# ruído gaussiano branco\n",
    "Namostras = sigTx.size\n",
    "σ2  = 0.00025 # variância\n",
    "μ   = 0         # média\n",
    "\n",
    "σ      = np.sqrt(σ2*SpS)\n",
    "ruido  = normal(μ, σ, Namostras)\n",
    "ruidoC  = (normal(μ, σ, Namostras) + 1j*normal(μ, σ, Namostras))/np.sqrt(2)\n",
    "\n",
    "pconst(pnorm((sigRx + ruidoC)[2:-10*SpS:SpS]), pType='fast', R=2.5);\n",
    "\n",
    "lmax = np.max(sigRx.real)\n",
    "lmin = np.min(sigRx.real)\n",
    "\n",
    "# diagrama de olho\n",
    "Nsamples = sigTx.size\n",
    "if constType == 'pam':\n",
    "    eyediagram(sigTx.real, Nsamples, SpS, plotlabel= str(M)+'-PAM', ptype='fancy')\n",
    "    eyediagram((sigRx + ruido).real, Nsamples, SpS, plotlabel= str(M)+'-PAM', ptype='fancy')\n",
    "    sigRx = sigRx + ruido\n",
    "else:\n",
    "    eyediagram(sigTx, Nsamples, SpS, plotlabel= str(M)+'-QAM', ptype='fancy')\n",
    "    eyediagram(sigRx + ruidoC, Nsamples, SpS, plotlabel= str(M)+'-QAM', ptype='fancy')\n",
    "    sigRx = sigRx + ruidoC   \n",
    "\n",
    "\n",
    "# detecção\n",
    "sigRx = sigRx[2::SpS].real\n",
    "\n",
    "bitsRx = np.ones(bitsTx.shape, dtype=int)\n",
    "bitsRx[sigRx>=lmax/2] = 0\n",
    "bitsRx[sigRx<=lmin/2] = 0\n",
    "\n",
    "discard = 100\n",
    "\n",
    "BER = np.mean(np.roll(bitsRx,1)[discard:-discard]^bitsTx[discard:-discard])\n",
    "print(f'BER = {BER:.2e}')"
   ]
  },
  {
   "cell_type": "markdown",
   "metadata": {},
   "source": [
    "## Detecção de sequências por máxima verossimilhança\n",
    "\n",
    "Considere o caso em que sequência de sinais recebidos não está sujeita a nenhum efeito de memória, ou seja, o vetor $\\mathbf{r}_k$ observado no intervalo de sinalização $k$ é *estatisticamente independente* dos vetores $\\left\\lbrace \\mathbf{r}_{k'} \\right\\rbrace_{k'=-\\infty}^{\\infty}$ e $k' \\neq k$, observados nos demais intervalos de sinalização. Neste caso, o detector que opera *símbolo-a-símbolo*, ou seja, que decide utilizando apenas a informação $P(\\mathbf{s}_m|\\mathbf{r}_k)$ presente no intervalo de sinalização $k$ é o detector ótimo no sentido de minimização da probabilidade de erro.\n",
    "\n",
    "Entretanto, na presença de memórioa, ou seja, caso exista *dependência estatística* entre a sequência de sinais $\\left\\lbrace \\mathbf{r}_{k} \\right\\rbrace_{k=-\\infty}^{\\infty}$, o detector ótimo para o sinal recebido no intervalo de sinalização $k$ deverá levar em conta não apenas este intervalo de sinalização, mas uma sequência de intervalos de sinalização consecutivos.\n",
    "\n",
    "Como exemplo, considere o caso da transmissão duobinária 2-PAM. Seja $L$ o intervalo de mémoria, em intervalos de sinalização, presente na transmissão, para um sinal duobinário temos que $L=1$."
   ]
  },
  {
   "cell_type": "markdown",
   "metadata": {},
   "source": [
    "$$\n",
    "\\begin{aligned}\n",
    "\\begin{array}{|c|c|c|c|}\n",
    "  \\hline\n",
    "  a_{k-1} & a_{k} & r_{k} = a_k + a_{k-1}  \\\\\n",
    "  \\hline\n",
    "  -1 & -1 & -2 \\\\\n",
    "  \\hline\n",
    "  1 & -1 & 0  \\\\\n",
    "  \\hline\n",
    "  -1 & 1 & 0 \\\\\n",
    "  \\hline\n",
    "  1 & 1 & 2 \\\\\n",
    "  \\hline\n",
    "\\end{array}\n",
    "\\end{aligned}\n",
    "$$"
   ]
  },
  {
   "cell_type": "markdown",
   "metadata": {
    "ExecuteTime": {
     "end_time": "2023-05-28T19:37:55.082007Z",
     "start_time": "2023-05-28T19:37:55.053317Z"
    }
   },
   "source": [
    "<img src=\"./figuras/Fig13.png\" width=\"600\">\n",
    "<center>Fig.10: Treliça representando a evolução de estados da modulação 2-PAM duobinário.</center>"
   ]
  },
  {
   "cell_type": "markdown",
   "metadata": {},
   "source": [
    "Considere um vetor $\\boldsymbol{y}$ composto pela sequência de amostras da saída do filtro do receptor sobre $N$ intervalos de sinalização $\\boldsymbol{y} = [y_1, y_2, \\dots, y_N]^T$. Temos que\n",
    "\n",
    "\n",
    "$$\\boldsymbol{y} = \\boldsymbol{r} + \\boldsymbol{v}$$\n",
    "\n",
    "\n",
    "em que $\\boldsymbol{r} = [r_1, r_2, \\dots, r_N]^T$ é a sequência de amplitudes do sinal duobinário livres de ruído, $\\boldsymbol{v} = [v_1, v_2, \\dots, v_N]^T$ é a sequência de amostras de ruído gaussiano, i.e. $\\boldsymbol{v}\\sim \\mathcal{N}(\\mathbf{0}, \\Sigma_v)$.\n",
    "\n",
    "Seja  $\\boldsymbol{a} = [a_1, a_2, \\dots, a_N]^T$ a sequência de amplitudes binárias transmitidas, a fdp condicional $p(\\boldsymbol{y}|\\boldsymbol{a})$ pode ser escrita como\n",
    "\n",
    "$$\n",
    "p(\\boldsymbol{y}|\\boldsymbol{a}) = \\frac{1}{(2\\pi |\\Sigma_v|)^{N/2}} \\exp \\left[-\\frac{1}{2} (\\boldsymbol{y}-\\boldsymbol{r})^T \\Sigma_v^{-1} (\\boldsymbol{y}-\\boldsymbol{r}) \\right].\n",
    "$$\n",
    "\n",
    "Desse modo, temos que a probabilidade da sequência $\\boldsymbol{a}$ ter sido transmitida condicionada à sequência de observações $\\boldsymbol{y}$ pode ser escrita como\n",
    "$$\n",
    "P(\\boldsymbol{a}|\\boldsymbol{y}) = \\frac{p(\\boldsymbol{y}|\\boldsymbol{a})P(\\boldsymbol{a})}{p(\\boldsymbol{y})} \\propto p(\\boldsymbol{y}|\\boldsymbol{a})P(\\boldsymbol{a})\n",
    "$$\n",
    "\n",
    "Assumindo que o detector decidirá por uma sequência $\\boldsymbol{\\hat{a}}$, a decisão ótima será tal que\n",
    "\n",
    "$$\\boldsymbol{\\hat{a}} = \\underset{\\boldsymbol{a}}{\\operatorname{argmax}} p(\\boldsymbol{y}|\\boldsymbol{a})P(\\boldsymbol{a})$$.\n",
    "\n",
    "correspondendo ao critério MAP.\n",
    "\n",
    "Considerando que todas as sequências são equiprováveis\n",
    "\n",
    "$$\n",
    "P(\\boldsymbol{a}|\\boldsymbol{y}) \\propto p(\\boldsymbol{y}|\\boldsymbol{a})\n",
    "$$\n",
    "\n",
    "de modo que\n",
    "\n",
    "$$\\boldsymbol{\\hat{a}} = \\underset{\\boldsymbol{a}}{\\operatorname{argmax}} p(\\boldsymbol{y}|\\boldsymbol{a})$$,\n",
    "\n",
    "que corresponde ao critério de decisão ML.\n",
    "\n",
    "$$\n",
    "\\ln p(\\boldsymbol{y}|\\boldsymbol{a}) = -\\frac{N}{2}\\ln(2\\pi |\\Sigma_v|) -\\frac{1}{2} (\\boldsymbol{y}-\\boldsymbol{r})^T \\Sigma_v^{-1} (\\boldsymbol{y}-\\boldsymbol{r})\n",
    "$$\n",
    "\n",
    "Maximizar $\\ln p(\\boldsymbol{y}|\\boldsymbol{a})$ equivale a encontrar a sequência $\\boldsymbol{a}$ que minimiza $(\\boldsymbol{y}-\\boldsymbol{r})^T \\Sigma_v^{-1} (\\boldsymbol{y}-\\boldsymbol{r})$\n",
    "\n",
    "$$\\boldsymbol{\\hat{a}} = \\underset{\\boldsymbol{a}}{\\operatorname{argmin}} (\\boldsymbol{y}-\\boldsymbol{r})^T \\Sigma_v^{-1} (\\boldsymbol{y}-\\boldsymbol{r})$$,\n",
    "\n",
    "como $r_k =x_0a_k + x_1a_{k-1} + \\dots =  \\sum_{q=0}^{L}x_qa_{k-q}$\n",
    "\n",
    "$$\\boldsymbol{\\hat{a}} = \\underset{\\boldsymbol{a}}{\\operatorname{argmin}} \\left[ \\sum_{m=1}^{N}\\left(y_m - \\sum_{q=0}^{L}x_qa_{m-q}\\right)^2\\right]$$,"
   ]
  },
  {
   "cell_type": "markdown",
   "metadata": {},
   "source": [
    "## Referências\n",
    "\n",
    "[1] J. G. Proakis, M. Salehi, Communication Systems Engineering, 2nd Edition, Pearson, 2002."
   ]
  }
 ],
 "metadata": {
  "jupytext": {
   "encoding": "# -*- coding: utf-8 -*-",
   "formats": "ipynb,py:light"
  },
  "kernelspec": {
   "display_name": "Python 3 (ipykernel)",
   "language": "python",
   "name": "python3"
  },
  "language_info": {
   "codemirror_mode": {
    "name": "ipython",
    "version": 3
   },
   "file_extension": ".py",
   "mimetype": "text/x-python",
   "name": "python",
   "nbconvert_exporter": "python",
   "pygments_lexer": "ipython3",
   "version": "3.9.7"
  },
  "toc": {
   "base_numbering": 1,
   "nav_menu": {},
   "number_sections": true,
   "sideBar": true,
   "skip_h1_title": true,
   "title_cell": "Table of Contents",
   "title_sidebar": "Contents",
   "toc_cell": true,
   "toc_position": {
    "height": "447.667px",
    "left": "142px",
    "top": "182.229px",
    "width": "244.969px"
   },
   "toc_section_display": true,
   "toc_window_display": false
  },
  "varInspector": {
   "cols": {
    "lenName": 16,
    "lenType": 16,
    "lenVar": 40
   },
   "kernels_config": {
    "python": {
     "delete_cmd_postfix": "",
     "delete_cmd_prefix": "del ",
     "library": "var_list.py",
     "varRefreshCmd": "print(var_dic_list())"
    },
    "r": {
     "delete_cmd_postfix": ") ",
     "delete_cmd_prefix": "rm(",
     "library": "var_list.r",
     "varRefreshCmd": "cat(var_dic_list()) "
    }
   },
   "oldHeight": 498,
   "position": {
    "height": "667px",
    "left": "659px",
    "right": "20px",
    "top": "-21px",
    "width": "660px"
   },
   "types_to_exclude": [
    "module",
    "function",
    "builtin_function_or_method",
    "instance",
    "_Feature"
   ],
   "varInspector_section_display": "block",
   "window_display": false
  }
 },
 "nbformat": 4,
 "nbformat_minor": 4
}
