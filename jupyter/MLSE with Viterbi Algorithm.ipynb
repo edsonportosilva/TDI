{
 "cells": [
  {
   "cell_type": "code",
   "execution_count": 17,
   "id": "7d3addf0",
   "metadata": {
    "ExecuteTime": {
     "end_time": "2023-05-12T23:24:18.791618Z",
     "start_time": "2023-05-12T23:24:18.775272Z"
    }
   },
   "outputs": [],
   "source": [
    "import sympy as sp\n",
    "import numpy as np\n",
    "from numpy.random import normal\n",
    "import matplotlib.pyplot as plt\n",
    "from matplotlib import cm\n",
    "import pandas as pd\n",
    "\n",
    "from IPython.display import display, Math\n",
    "from IPython.display import display as disp\n",
    "\n",
    "from optic.modulation import modulateGray, demodulateGray, GrayMapping\n",
    "from optic.dsp import firFilter, pnorm\n",
    "from optic.metrics import signal_power\n",
    "from optic.plot import pconst\n",
    "from numba import njit"
   ]
  },
  {
   "cell_type": "code",
   "execution_count": 18,
   "id": "cbae8757",
   "metadata": {
    "ExecuteTime": {
     "end_time": "2023-05-12T23:24:28.243697Z",
     "start_time": "2023-05-12T23:24:28.219851Z"
    }
   },
   "outputs": [],
   "source": [
    "# plt.figsize(3,3)"
   ]
  },
  {
   "cell_type": "code",
   "execution_count": 132,
   "id": "4188494d",
   "metadata": {
    "ExecuteTime": {
     "end_time": "2023-05-13T01:44:37.428563Z",
     "start_time": "2023-05-13T01:44:37.395842Z"
    }
   },
   "outputs": [],
   "source": [
    "# @njit\n",
    "# import numpy as np\n",
    "\n",
    "def mlse(y, r, symb, L):\n",
    "    \n",
    "    S = symb.flatten()\n",
    "    r = r.flatten()\n",
    "\n",
    "    d = DM(y, r)    \n",
    "    dec = np.zeros(y.shape)\n",
    "    \n",
    "    for k in range(L, len(y)):\n",
    "        indMin = np.argmin(np.sum(d[:,k-L:k],axis=1))\n",
    "        dec[k] = S[indMin]\n",
    "        \n",
    "    return dec\n",
    "    \n",
    "\n",
    "def dec2bit(dec, bitL):\n",
    "    bits = bin(dec)[2:]  # Convert decimal to binary string\n",
    "    bits = bits.zfill(bitL)  # Pad with leading zeros\n",
    "    return [int(bit) for bit in bits]\n",
    "\n",
    "def DM(y, r):\n",
    "    r = r.flatten()\n",
    "    dist = np.zeros((len(r), len(y)))\n",
    "    \n",
    "    for k, v in enumerate(y):\n",
    "        dist[:,k] = np.abs(v-r)**2\n",
    "        \n",
    "    return dist"
   ]
  },
  {
   "cell_type": "code",
   "execution_count": 161,
   "id": "8e141cd8",
   "metadata": {
    "ExecuteTime": {
     "end_time": "2023-05-13T02:17:40.130225Z",
     "start_time": "2023-05-13T02:17:39.816723Z"
    }
   },
   "outputs": [
    {
     "data": {
      "image/png": "[encoded data removed]",
      "text/plain": [
       "<Figure size 640x480 with 1 Axes>"
      ]
     },
     "metadata": {},
     "output_type": "display_data"
    }
   ],
   "source": [
    "M = 2\n",
    "\n",
    "h = np.array([1, 0.25, 0.1])\n",
    "constSymb = GrayMapping(M, 'pam')   # Gray constellation mapping\n",
    "\n",
    "# parâmetros da simulação\n",
    "SpS = 1   # Amostras por símbolo\n",
    "\n",
    "# get constellation    \n",
    "constSymb = GrayMapping(M, 'pam')  # constellation\n",
    "constSymb = pnorm(constSymb) \n",
    "\n",
    "# generate pseudo-random bit sequence\n",
    "bitsTx = np.random.randint(2, size = int(10000*np.log2(M)))\n",
    "\n",
    "# generate modulated symbol sequence\n",
    "symbTx = modulateGray(bitsTx, M, 'pam')    \n",
    "symbTx = pnorm(symbTx) # power normalization\n",
    "\n",
    "# adição de ISI\n",
    "sigTx = np.convolve(h, symbTx, mode='valid')\n",
    "sigTx = pnorm(sigTx)\n",
    "\n",
    "# ruído gaussiano branco\n",
    "Namostras = sigTx.size\n",
    "σ2  = 0.0025 # variância\n",
    "μ   = 0      # média\n",
    "\n",
    "σ      = np.sqrt(σ2*SpS) \n",
    "ruido  = 1/np.sqrt(2)*(normal(μ, σ, Namostras) + 1j*normal(μ, σ, Namostras))\n",
    "\n",
    "sigRx = sigTx + ruido\n",
    "\n",
    "pconst(sigRx, pType='fast');"
   ]
  },
  {
   "cell_type": "code",
   "execution_count": 162,
   "id": "50baa4ef",
   "metadata": {
    "ExecuteTime": {
     "end_time": "2023-05-13T02:17:40.262888Z",
     "start_time": "2023-05-13T02:17:40.222317Z"
    }
   },
   "outputs": [
    {
     "data": {
      "text/html": [
       "<div>\n",
       "<style scoped>\n",
       "    .dataframe tbody tr th:only-of-type {\n",
       "        vertical-align: middle;\n",
       "    }\n",
       "\n",
       "    .dataframe tbody tr th {\n",
       "        vertical-align: top;\n",
       "    }\n",
       "\n",
       "    .dataframe thead th {\n",
       "        text-align: right;\n",
       "    }\n",
       "</style>\n",
       "<table border=\"1\" class=\"dataframe\">\n",
       "  <thead>\n",
       "    <tr style=\"text-align: right;\">\n",
       "      <th></th>\n",
       "      <th>b0</th>\n",
       "      <th>b-1</th>\n",
       "      <th>b-2</th>\n",
       "      <th>r</th>\n",
       "    </tr>\n",
       "  </thead>\n",
       "  <tbody>\n",
       "    <tr>\n",
       "      <th>0</th>\n",
       "      <td>0</td>\n",
       "      <td>0</td>\n",
       "      <td>0</td>\n",
       "      <td>-1.35</td>\n",
       "    </tr>\n",
       "    <tr>\n",
       "      <th>1</th>\n",
       "      <td>0</td>\n",
       "      <td>0</td>\n",
       "      <td>1</td>\n",
       "      <td>-1.15</td>\n",
       "    </tr>\n",
       "    <tr>\n",
       "      <th>2</th>\n",
       "      <td>0</td>\n",
       "      <td>1</td>\n",
       "      <td>0</td>\n",
       "      <td>-0.85</td>\n",
       "    </tr>\n",
       "    <tr>\n",
       "      <th>3</th>\n",
       "      <td>0</td>\n",
       "      <td>1</td>\n",
       "      <td>1</td>\n",
       "      <td>-0.65</td>\n",
       "    </tr>\n",
       "    <tr>\n",
       "      <th>4</th>\n",
       "      <td>1</td>\n",
       "      <td>0</td>\n",
       "      <td>0</td>\n",
       "      <td>0.65</td>\n",
       "    </tr>\n",
       "    <tr>\n",
       "      <th>5</th>\n",
       "      <td>1</td>\n",
       "      <td>0</td>\n",
       "      <td>1</td>\n",
       "      <td>0.85</td>\n",
       "    </tr>\n",
       "    <tr>\n",
       "      <th>6</th>\n",
       "      <td>1</td>\n",
       "      <td>1</td>\n",
       "      <td>0</td>\n",
       "      <td>1.15</td>\n",
       "    </tr>\n",
       "    <tr>\n",
       "      <th>7</th>\n",
       "      <td>1</td>\n",
       "      <td>1</td>\n",
       "      <td>1</td>\n",
       "      <td>1.35</td>\n",
       "    </tr>\n",
       "  </tbody>\n",
       "</table>\n",
       "</div>"
      ],
      "text/plain": [
       "   b0  b-1  b-2     r\n",
       "0   0    0    0 -1.35\n",
       "1   0    0    1 -1.15\n",
       "2   0    1    0 -0.85\n",
       "3   0    1    1 -0.65\n",
       "4   1    0    0  0.65\n",
       "5   1    0    1  0.85\n",
       "6   1    1    0  1.15\n",
       "7   1    1    1  1.35"
      ]
     },
     "execution_count": 162,
     "metadata": {},
     "output_type": "execute_result"
    }
   ],
   "source": [
    "L = len(h)\n",
    "bits = np.zeros((M**L, L), dtype=int)\n",
    "\n",
    "for k, dec in enumerate(range(M**L)):    \n",
    "    bits[k,:] = dec2bit(dec, L)\n",
    "\n",
    "symb = 2*bits-1\n",
    "\n",
    "r = np.sum(symb*h, axis=1)\n",
    "\n",
    "sig = pd.DataFrame(data=symb, index=np.arange(M**L))\n",
    "pd.options.display.float_format = '{:,.2f}'.format\n",
    "\n",
    "sig = pd.DataFrame(data=bits, index=[i for i in range(symb.shape[0])], columns=[f'b{-i}' for i in range(symb.shape[1])])\n",
    "sig['r'] = r\n",
    "sig"
   ]
  },
  {
   "cell_type": "code",
   "execution_count": 169,
   "id": "b76121bc",
   "metadata": {
    "ExecuteTime": {
     "end_time": "2023-05-13T02:19:35.720022Z",
     "start_time": "2023-05-13T02:19:35.354335Z"
    }
   },
   "outputs": [],
   "source": [
    "dec = mlse(sigRx, r, bits[:,0], len(h))"
   ]
  },
  {
   "cell_type": "code",
   "execution_count": 170,
   "id": "11c4a19f",
   "metadata": {
    "ExecuteTime": {
     "end_time": "2023-05-13T02:19:35.995866Z",
     "start_time": "2023-05-13T02:19:35.728099Z"
    }
   },
   "outputs": [
    {
     "data": {
      "image/png": "[encoded data removed]",
      "text/plain": [
       "<Figure size 640x480 with 1 Axes>"
      ]
     },
     "metadata": {},
     "output_type": "display_data"
    }
   ],
   "source": [
    "plt.plot(dec[0:50],'o')\n",
    "plt.plot(bitsTx[0:50],'x');"
   ]
  },
  {
   "cell_type": "code",
   "execution_count": 171,
   "id": "f1c8b73b",
   "metadata": {
    "ExecuteTime": {
     "end_time": "2023-05-13T02:19:48.743055Z",
     "start_time": "2023-05-13T02:19:48.724200Z"
    }
   },
   "outputs": [
    {
     "name": "stdout",
     "output_type": "stream",
     "text": [
      "BER = 0.00e+00\n",
      "BER = 4.91e-01\n"
     ]
    }
   ],
   "source": [
    "BER = np.logical_xor(sigRx>=0, bitsTx[2:]).sum()/len(bitsTx)\n",
    "print(f'BER = {BER:.2e}')\n",
    "\n",
    "BER = np.logical_xor(dec, bitsTx[2:]).sum()/len(bitsTx)\n",
    "print(f'BER = {BER:.2e}')"
   ]
  },
  {
   "cell_type": "code",
   "execution_count": null,
   "id": "904bbda7",
   "metadata": {},
   "outputs": [],
   "source": []
  },
  {
   "cell_type": "code",
   "execution_count": null,
   "id": "1703e93c",
   "metadata": {},
   "outputs": [],
   "source": []
  }
 ],
 "metadata": {
  "kernelspec": {
   "display_name": "Python 3 (ipykernel)",
   "language": "python",
   "name": "python3"
  },
  "language_info": {
   "codemirror_mode": {
    "name": "ipython",
    "version": 3
   },
   "file_extension": ".py",
   "mimetype": "text/x-python",
   "name": "python",
   "nbconvert_exporter": "python",
   "pygments_lexer": "ipython3",
   "version": "3.9.13"
  },
  "toc": {
   "base_numbering": 1,
   "nav_menu": {},
   "number_sections": true,
   "sideBar": true,
   "skip_h1_title": false,
   "title_cell": "Table of Contents",
   "title_sidebar": "Contents",
   "toc_cell": false,
   "toc_position": {},
   "toc_section_display": true,
   "toc_window_display": false
  }
 },
 "nbformat": 4,
 "nbformat_minor": 5
}
