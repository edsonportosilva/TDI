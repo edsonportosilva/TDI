{
 "cells": [
  {
   "cell_type": "code",
   "execution_count": 1,
   "metadata": {
    "ExecuteTime": {
     "end_time": "2024-11-18T11:42:45.264592Z",
     "start_time": "2024-11-18T11:42:42.084361Z"
    },
    "hide_input": false,
    "jupyter": {
     "source_hidden": true
    }
   },
   "outputs": [],
   "source": [
    "import sympy as sp\n",
    "import numpy as np\n",
    "import matplotlib.pyplot as plt\n",
    "from sympy import cos, sin, exp, Matrix, sqrt\n",
    "from sympy.simplify.fu import TR10, TR9\n",
    "import pandas as pd\n",
    "\n",
    "from IPython.display import display, Math\n",
    "from IPython.display import display as disp\n",
    "from utils import symdisp, symplot, set_preferences\n",
    "import ipywidgets as widgets\n",
    "from ipywidgets import interact\n",
    "\n",
    "\n",
    "from optic.comm.modulation import modulateGray, demodulateGray, grayMapping\n",
    "from optic.dsp.core import firFilter, pulseShape, lowPassFIR, pnorm, upsample\n",
    "from optic.comm.metrics import signal_power\n",
    "from optic.plot import eyediagram"
   ]
  },
  {
   "cell_type": "code",
   "execution_count": 2,
   "metadata": {
    "ExecuteTime": {
     "end_time": "2024-11-18T11:42:45.284079Z",
     "start_time": "2024-11-18T11:42:45.265266Z"
    }
   },
   "outputs": [],
   "source": [
    "import scienceplots\n",
    "plt.style.use(['science','ieee'])\n",
    "set_preferences()"
   ]
  },
  {
   "cell_type": "code",
   "execution_count": 3,
   "metadata": {
    "ExecuteTime": {
     "end_time": "2024-11-18T11:42:45.287656Z",
     "start_time": "2024-11-18T11:42:45.284458Z"
    },
    "hide_input": false,
    "jupyter": {
     "source_hidden": true
    }
   },
   "outputs": [],
   "source": [
    "pd.set_option('display.max_columns', 500)\n",
    "pd.set_option('display.width', 2000)\n",
    "pd.options.display.float_format = '{:,d}'.format"
   ]
  },
  {
   "cell_type": "code",
   "execution_count": 4,
   "metadata": {
    "ExecuteTime": {
     "end_time": "2024-11-18T11:42:45.303415Z",
     "start_time": "2024-11-18T11:42:45.289653Z"
    },
    "hide_input": false,
    "jupyter": {
     "source_hidden": true
    }
   },
   "outputs": [
    {
     "data": {
      "text/html": [
       "\n",
       "<style>\n",
       ".output_png {\n",
       "    display: table-cell;\n",
       "    text-align: center;\n",
       "    vertical-align: middle;\n",
       "}\n",
       "</style>\n"
      ],
      "text/plain": [
       "<IPython.core.display.HTML object>"
      ]
     },
     "execution_count": 4,
     "metadata": {},
     "output_type": "execute_result"
    }
   ],
   "source": [
    "from IPython.core.display import HTML\n",
    "from IPython.core.pylabtools import figsize\n",
    "from IPython.display import display\n",
    "\n",
    "HTML(\"\"\"\n",
    "<style>\n",
    ".output_png {\n",
    "    display: table-cell;\n",
    "    text-align: center;\n",
    "    vertical-align: middle;\n",
    "}\n",
    "</style>\n",
    "\"\"\")"
   ]
  },
  {
   "cell_type": "code",
   "execution_count": 5,
   "metadata": {
    "ExecuteTime": {
     "end_time": "2024-11-18T11:42:45.393724Z",
     "start_time": "2024-11-18T11:42:45.305413Z"
    },
    "hide_input": false,
    "jupyter": {
     "source_hidden": true
    }
   },
   "outputs": [],
   "source": [
    "%load_ext autoreload\n",
    "%autoreload 2"
   ]
  },
  {
   "cell_type": "code",
   "execution_count": 6,
   "metadata": {
    "ExecuteTime": {
     "end_time": "2024-11-18T11:42:45.467812Z",
     "start_time": "2024-11-18T11:42:45.394724Z"
    },
    "hide_input": false
   },
   "outputs": [],
   "source": [
    "figsize(6, 2)"
   ]
  },
  {
   "cell_type": "markdown",
   "metadata": {},
   "source": [
    "# Transmissão Digital da Informação"
   ]
  },
  {
   "cell_type": "markdown",
   "metadata": {
    "toc": true
   },
   "source": [
    "<h1>Table of Contents<span class=\"tocSkip\"></span></h1>\n",
    "<div class=\"toc\"><ul class=\"toc-item\"><li><span><a href=\"#Representações-para-a-onda-portadora\" data-toc-modified-id=\"Representações-para-a-onda-portadora-1\"><span class=\"toc-item-num\">1&nbsp;&nbsp;</span>Representações para a onda portadora</a></span></li><li><span><a href=\"#Modulações-digitais-lineares\" data-toc-modified-id=\"Modulações-digitais-lineares-2\"><span class=\"toc-item-num\">2&nbsp;&nbsp;</span>Modulações digitais lineares</a></span><ul class=\"toc-item\"><li><span><a href=\"#Diagramas-de-constelação\" data-toc-modified-id=\"Diagramas-de-constelação-2.1\"><span class=\"toc-item-num\">2.1&nbsp;&nbsp;</span>Diagramas de constelação</a></span></li><li><span><a href=\"#Parâmetros-importantes-das-modulações-digitais-lineares\" data-toc-modified-id=\"Parâmetros-importantes-das-modulações-digitais-lineares-2.2\"><span class=\"toc-item-num\">2.2&nbsp;&nbsp;</span>Parâmetros importantes das modulações digitais lineares</a></span><ul class=\"toc-item\"><li><span><a href=\"#Cardinalidade-e-número-de-bits-por-símbolo\" data-toc-modified-id=\"Cardinalidade-e-número-de-bits-por-símbolo-2.2.1\"><span class=\"toc-item-num\">2.2.1&nbsp;&nbsp;</span>Cardinalidade e número de bits por símbolo</a></span></li><li><span><a href=\"#Energia-média-dos-símbolos-da-constelação-($E_s$)\" data-toc-modified-id=\"Energia-média-dos-símbolos-da-constelação-($E_s$)-2.2.2\"><span class=\"toc-item-num\">2.2.2&nbsp;&nbsp;</span>Energia média dos símbolos da constelação ($E_s$)</a></span></li><li><span><a href=\"#Distância-euclidiana-mínima-entre-símbolos-($d_{min}$)\" data-toc-modified-id=\"Distância-euclidiana-mínima-entre-símbolos-($d_{min}$)-2.2.3\"><span class=\"toc-item-num\">2.2.3&nbsp;&nbsp;</span>Distância euclidiana mínima entre símbolos ($d_{min}$)</a></span></li></ul></li></ul></li><li><span><a href=\"#Intervalo-de-sinalização-e-taxa-de-símbolos\" data-toc-modified-id=\"Intervalo-de-sinalização-e-taxa-de-símbolos-3\"><span class=\"toc-item-num\">3&nbsp;&nbsp;</span>Intervalo de sinalização e taxa de símbolos</a></span></li><li><span><a href=\"#Teorema-da-amostragem\" data-toc-modified-id=\"Teorema-da-amostragem-4\"><span class=\"toc-item-num\">4&nbsp;&nbsp;</span>Teorema da amostragem</a></span><ul class=\"toc-item\"><li><span><a href=\"#Exemplo-1:-função-sinc(t)\" data-toc-modified-id=\"Exemplo-1:-função-sinc(t)-4.1\"><span class=\"toc-item-num\">4.1&nbsp;&nbsp;</span>Exemplo 1: função sinc(t)</a></span></li><li><span><a href=\"#Exemplo-2:-chirp-de-frequência-linear\" data-toc-modified-id=\"Exemplo-2:-chirp-de-frequência-linear-4.2\"><span class=\"toc-item-num\">4.2&nbsp;&nbsp;</span>Exemplo 2: chirp de frequência linear</a></span></li></ul></li><li><span><a href=\"#Formatação-de-pulso-e-sinais-digitais-em-banda-base\" data-toc-modified-id=\"Formatação-de-pulso-e-sinais-digitais-em-banda-base-5\"><span class=\"toc-item-num\">5&nbsp;&nbsp;</span>Formatação de pulso e sinais digitais em banda base</a></span><ul class=\"toc-item\"><li><span><a href=\"#Pulso-retangular-ideal\" data-toc-modified-id=\"Pulso-retangular-ideal-5.1\"><span class=\"toc-item-num\">5.1&nbsp;&nbsp;</span>Pulso retangular ideal</a></span></li><li><span><a href=\"#Pulso-NRZ-típico\" data-toc-modified-id=\"Pulso-NRZ-típico-5.2\"><span class=\"toc-item-num\">5.2&nbsp;&nbsp;</span>Pulso NRZ típico</a></span></li><li><span><a href=\"#Pulso-cosseno-levantado\" data-toc-modified-id=\"Pulso-cosseno-levantado-5.3\"><span class=\"toc-item-num\">5.3&nbsp;&nbsp;</span>Pulso cosseno levantado</a></span></li></ul></li><li><span><a href=\"#Densidade-espectral-de-potência-de-sinais-modulados-digitalmenente\" data-toc-modified-id=\"Densidade-espectral-de-potência-de-sinais-modulados-digitalmenente-6\"><span class=\"toc-item-num\">6&nbsp;&nbsp;</span>Densidade espectral de potência de sinais modulados digitalmenente</a></span><ul class=\"toc-item\"><li><span><a href=\"#Valor-médio-e-autocorrelação-de-$V(t)$\" data-toc-modified-id=\"Valor-médio-e-autocorrelação-de-$V(t)$-6.1\"><span class=\"toc-item-num\">6.1&nbsp;&nbsp;</span>Valor médio e autocorrelação de $V(t)$</a></span><ul class=\"toc-item\"><li><span><a href=\"#Valor-médio\" data-toc-modified-id=\"Valor-médio-6.1.1\"><span class=\"toc-item-num\">6.1.1&nbsp;&nbsp;</span>Valor médio</a></span></li><li><span><a href=\"#Autocorrelação\" data-toc-modified-id=\"Autocorrelação-6.1.2\"><span class=\"toc-item-num\">6.1.2&nbsp;&nbsp;</span>Autocorrelação</a></span></li></ul></li><li><span><a href=\"#Densidade-espectral-de-potência-$\\mathcal{S}_{V}(f)$\" data-toc-modified-id=\"Densidade-espectral-de-potência-$\\mathcal{S}_{V}(f)$-6.2\"><span class=\"toc-item-num\">6.2&nbsp;&nbsp;</span>Densidade espectral de potência $\\mathcal{S}_{V}(f)$</a></span></li><li><span><a href=\"#Exemplos-de-densidade-espectral-de-potência-de-sinais-modulados\" data-toc-modified-id=\"Exemplos-de-densidade-espectral-de-potência-de-sinais-modulados-6.3\"><span class=\"toc-item-num\">6.3&nbsp;&nbsp;</span>Exemplos de densidade espectral de potência de sinais modulados</a></span></li></ul></li><li><span><a href=\"#Diagramas-de-olho\" data-toc-modified-id=\"Diagramas-de-olho-7\"><span class=\"toc-item-num\">7&nbsp;&nbsp;</span>Diagramas de olho</a></span></li><li><span><a href=\"#Modulação-M-PAM\" data-toc-modified-id=\"Modulação-M-PAM-8\"><span class=\"toc-item-num\">8&nbsp;&nbsp;</span>Modulação M-PAM</a></span><ul class=\"toc-item\"><li><span><a href=\"#Diagramas-de-constelação\" data-toc-modified-id=\"Diagramas-de-constelação-8.1\"><span class=\"toc-item-num\">8.1&nbsp;&nbsp;</span>Diagramas de constelação</a></span></li><li><span><a href=\"#Mapeando-bits-para-símbolos\" data-toc-modified-id=\"Mapeando-bits-para-símbolos-8.2\"><span class=\"toc-item-num\">8.2&nbsp;&nbsp;</span>Mapeando bits para símbolos</a></span></li><li><span><a href=\"#Diagramas-de-olho\" data-toc-modified-id=\"Diagramas-de-olho-8.3\"><span class=\"toc-item-num\">8.3&nbsp;&nbsp;</span>Diagramas de olho</a></span></li></ul></li><li><span><a href=\"#Modulação-M-QAM\" data-toc-modified-id=\"Modulação-M-QAM-9\"><span class=\"toc-item-num\">9&nbsp;&nbsp;</span>Modulação M-QAM</a></span><ul class=\"toc-item\"><li><span><a href=\"#Diagramas-de-constelação\" data-toc-modified-id=\"Diagramas-de-constelação-9.1\"><span class=\"toc-item-num\">9.1&nbsp;&nbsp;</span>Diagramas de constelação</a></span></li><li><span><a href=\"#Mapeando-bits-para-símbolos\" data-toc-modified-id=\"Mapeando-bits-para-símbolos-9.2\"><span class=\"toc-item-num\">9.2&nbsp;&nbsp;</span>Mapeando bits para símbolos</a></span></li><li><span><a href=\"#Espectro-do-sinal-modulado\" data-toc-modified-id=\"Espectro-do-sinal-modulado-9.3\"><span class=\"toc-item-num\">9.3&nbsp;&nbsp;</span>Espectro do sinal modulado</a></span></li><li><span><a href=\"#Diagramas-de-olho\" data-toc-modified-id=\"Diagramas-de-olho-9.4\"><span class=\"toc-item-num\">9.4&nbsp;&nbsp;</span>Diagramas de olho</a></span></li></ul></li><li><span><a href=\"#Modulação-M-PSK\" data-toc-modified-id=\"Modulação-M-PSK-10\"><span class=\"toc-item-num\">10&nbsp;&nbsp;</span>Modulação M-PSK</a></span><ul class=\"toc-item\"><li><span><a href=\"#Diagramas-de-constelação\" data-toc-modified-id=\"Diagramas-de-constelação-10.1\"><span class=\"toc-item-num\">10.1&nbsp;&nbsp;</span>Diagramas de constelação</a></span></li><li><span><a href=\"#Mapeando-bits-para-símbolos\" data-toc-modified-id=\"Mapeando-bits-para-símbolos-10.2\"><span class=\"toc-item-num\">10.2&nbsp;&nbsp;</span>Mapeando bits para símbolos</a></span></li><li><span><a href=\"#Espectro-do-sinal-modulado\" data-toc-modified-id=\"Espectro-do-sinal-modulado-10.3\"><span class=\"toc-item-num\">10.3&nbsp;&nbsp;</span>Espectro do sinal modulado</a></span></li><li><span><a href=\"#Diagramas-de-olho\" data-toc-modified-id=\"Diagramas-de-olho-10.4\"><span class=\"toc-item-num\">10.4&nbsp;&nbsp;</span>Diagramas de olho</a></span></li></ul></li><li><span><a href=\"#Referências\" data-toc-modified-id=\"Referências-11\"><span class=\"toc-item-num\">11&nbsp;&nbsp;</span>Referências</a></span></li></ul></div>"
   ]
  },
  {
   "cell_type": "markdown",
   "metadata": {},
   "source": [
    "# Sistemas de Transmissão Digital da Informação\n",
    "\n",
    "Num sistema de comunicação digital a função do transmissor é converter uma dada sequência de bits num trem de pulsos elétricos que, por sua vez, poderar ser utilizado na modulação de uma portadora. \n",
    "\n",
    "<img src=\"./figuras/Fig1.png\" width=\"900\">\n",
    " "
   ]
  },
  {
   "cell_type": "markdown",
   "metadata": {},
   "source": [
    "## Representações para a onda portadora"
   ]
  },
  {
   "cell_type": "markdown",
   "metadata": {},
   "source": [
    "Uma onda portadora contínua $c(t)$ pode ser representada por \n",
    "\n",
    "$$\\begin{equation} c(t) = A \\cos \\left(2\\pi f_c t + \\theta\\right) \\end{equation}$$ \n",
    "\n",
    "em que $t$ é o tempo em segundos, $f_{c}$ em hertz é a frequência de oscilação, $A$ a amplitude e $\\theta$ a fase da onda portadora."
   ]
  },
  {
   "cell_type": "code",
   "execution_count": 7,
   "metadata": {
    "ExecuteTime": {
     "end_time": "2024-11-18T11:42:46.177022Z",
     "start_time": "2024-11-18T11:42:45.468812Z"
    },
    "hide_input": true,
    "jupyter": {
     "source_hidden": true
    }
   },
   "outputs": [
    {
     "data": {
      "application/vnd.jupyter.widget-view+json": {
       "model_id": "f0cae1e5aaae4c9d899f6056862c91c4",
       "version_major": 2,
       "version_minor": 0
      },
      "text/plain": [
       "interactive(children=(FloatSlider(value=4.90000001, description='amp', max=10.0, min=1e-08), FloatSlider(value…"
      ]
     },
     "metadata": {},
     "output_type": "display_data"
    }
   ],
   "source": [
    "def plotCarrier(amp, fase, freq):\n",
    "    π = np.pi\n",
    "    t = np.arange(0,0.0025,1e-6)\n",
    "    c = amp*np.cos(2*π*freq*t + fase)\n",
    "    \n",
    "    plt.plot(t, c, label='c(t)')\n",
    "    plt.grid()\n",
    "    plt.ylim(-10,10)\n",
    "    plt.xlim(min(t), max(t))\n",
    "    plt.legend()\n",
    "        \n",
    "interact(plotCarrier, amp=(1e-8,10,0.1), fase=(0,2*np.pi,0.1), freq=(1e-3,10010,100));"
   ]
  },
  {
   "cell_type": "markdown",
   "metadata": {},
   "source": [
    "Podemos também escrever de forma alternativa: $$ \\begin{aligned}c(t) &= A \\cos \\left(2\\pi f_c t + \\theta\\right)\\\\ &= \\operatorname{Re}\\left[A e^{j \\theta} e^{j2\\pi f_c t}\\right] \\end{aligned} $$"
   ]
  },
  {
   "cell_type": "code",
   "execution_count": 8,
   "metadata": {
    "ExecuteTime": {
     "end_time": "2024-11-18T11:42:46.561875Z",
     "start_time": "2024-11-18T11:42:46.178022Z"
    },
    "hide_input": true,
    "jupyter": {
     "source_hidden": true
    }
   },
   "outputs": [
    {
     "data": {
      "text/latex": [
       "$\\displaystyle c(t) = A \\operatorname{re}{\\left(e^{i θ} e^{2 i \\pi f_{c} t}\\right)}\\;\\mathrm{ }$"
      ],
      "text/plain": [
       "<IPython.core.display.Math object>"
      ]
     },
     "metadata": {},
     "output_type": "display_data"
    },
    {
     "data": {
      "text/latex": [
       "$\\displaystyle c(t) = A \\cos{\\left(2 \\pi f_{c} t + θ \\right)}\\;\\mathrm{ }$"
      ],
      "text/plain": [
       "<IPython.core.display.Math object>"
      ]
     },
     "metadata": {},
     "output_type": "display_data"
    }
   ],
   "source": [
    "A, fc, t, θ = sp.symbols('A, f_c, t, θ', real=True)\n",
    "π = sp.pi\n",
    "j = sp.I\n",
    "\n",
    "c = sp.re( A * exp(j*θ) * exp(j * 2 * π * fc * t) )\n",
    "\n",
    "symdisp('c(t) = ', c)\n",
    "symdisp('c(t) = ', c.simplify())"
   ]
  },
  {
   "cell_type": "code",
   "execution_count": 9,
   "metadata": {
    "ExecuteTime": {
     "end_time": "2024-11-18T11:42:46.679357Z",
     "start_time": "2024-11-18T11:42:46.562874Z"
    },
    "hide_input": true,
    "jupyter": {
     "source_hidden": true
    }
   },
   "outputs": [
    {
     "data": {
      "text/latex": [
       "$\\displaystyle c(t) = - A \\sin{\\left(θ \\right)} \\sin{\\left(2 \\pi f_{c} t \\right)} + A \\cos{\\left(θ \\right)} \\cos{\\left(2 \\pi f_{c} t \\right)}\\;\\mathrm{ }$"
      ],
      "text/plain": [
       "<IPython.core.display.Math object>"
      ]
     },
     "metadata": {},
     "output_type": "display_data"
    }
   ],
   "source": [
    "c = TR10(c.simplify()).expand()\n",
    "symdisp('c(t) = ', c)"
   ]
  },
  {
   "cell_type": "code",
   "execution_count": 10,
   "metadata": {
    "ExecuteTime": {
     "end_time": "2024-11-18T11:42:46.767114Z",
     "start_time": "2024-11-18T11:42:46.681383Z"
    },
    "hide_input": true,
    "jupyter": {
     "source_hidden": true
    },
    "lines_to_end_of_cell_marker": 2
   },
   "outputs": [
    {
     "name": "stdout",
     "output_type": "stream",
     "text": [
      "Portadora:\n"
     ]
    },
    {
     "data": {
      "text/latex": [
       "$\\displaystyle c(t) = - A \\sin{\\left(θ \\right)} \\sin{\\left(2 \\pi f_{c} t \\right)} + A \\cos{\\left(θ \\right)} \\cos{\\left(2 \\pi f_{c} t \\right)}\\;\\mathrm{ }$"
      ],
      "text/plain": [
       "<IPython.core.display.Math object>"
      ]
     },
     "metadata": {},
     "output_type": "display_data"
    },
    {
     "name": "stdout",
     "output_type": "stream",
     "text": [
      "Representação fasorial polar:\n"
     ]
    },
    {
     "data": {
      "text/latex": [
       "$\\displaystyle \\hat{c}(t) = A e^{i θ}\\;\\mathrm{ }$"
      ],
      "text/plain": [
       "<IPython.core.display.Math object>"
      ]
     },
     "metadata": {},
     "output_type": "display_data"
    },
    {
     "name": "stdout",
     "output_type": "stream",
     "text": [
      "Representação fasorial cartesiana:\n"
     ]
    },
    {
     "data": {
      "text/latex": [
       "$\\displaystyle \\hat{c}(t) = i A \\sin{\\left(θ \\right)} + A \\cos{\\left(θ \\right)}\\;\\mathrm{ }$"
      ],
      "text/plain": [
       "<IPython.core.display.Math object>"
      ]
     },
     "metadata": {},
     "output_type": "display_data"
    },
    {
     "data": {
      "text/latex": [
       "$\\displaystyle A_I = A \\cos{\\left(θ \\right)}\\;\\mathrm{ }$"
      ],
      "text/plain": [
       "<IPython.core.display.Math object>"
      ]
     },
     "metadata": {},
     "output_type": "display_data"
    },
    {
     "data": {
      "text/latex": [
       "$\\displaystyle A_Q = A \\sin{\\left(θ \\right)}\\;\\mathrm{ }$"
      ],
      "text/plain": [
       "<IPython.core.display.Math object>"
      ]
     },
     "metadata": {},
     "output_type": "display_data"
    }
   ],
   "source": [
    "print('Portadora:')\n",
    "symdisp('c(t) = ', c)\n",
    "\n",
    "\n",
    "print('Representação fasorial polar:')\n",
    "symdisp('\\hat{c}(t) = ', A*exp(j*θ))\n",
    "\n",
    "\n",
    "print('Representação fasorial cartesiana:')\n",
    "A_I = sp.re(A*exp(j*θ))\n",
    "A_Q = sp.im(A*exp(j*θ))\n",
    "\n",
    "symdisp('\\hat{c}(t) = ', A_I + j*A_Q)\n",
    "\n",
    "symdisp('A_I = ', A_I)\n",
    "symdisp('A_Q = ', A_Q)"
   ]
  },
  {
   "cell_type": "markdown",
   "metadata": {},
   "source": [
    "## Modulações digitais lineares\n",
    "\n",
    "Uma modulação digital é uma função $F$ que mapeia bits ou conjuntos de bits a símbolos (fasores) no plano complexo\n",
    "\n",
    "$$ F: \\{0, 1\\}^k\\rightarrow \\{A_m,\\theta_m\\}_{m=1}^M$$\n",
    "\n",
    "em que sequências de $k$ bits são mapeadas num conjunto de $M$ símbolos ($M=2^k$).\n",
    "\n",
    "Ex.1: $\\{0, 1\\}\\rightarrow \\{(0, 0), (A, 0)\\}$ (modulação OOK) \n",
    "\n",
    "\n",
    "Ex.2: $\\{0, 1\\}\\rightarrow \\{(A, 0), (A, \\pi )\\}$ (modulação BPSK)\n",
    "\n",
    "\n",
    "Ex.3: $\\{(0, 0),(0, 1),(1, 0),(1, 1)\\}\\rightarrow \\{(0, 0), (A/3, 0), (2A/3, 0), (A, 0)\\}$ (modulação 4-PAM ou 4-ASK)\n",
    "\n",
    "\n",
    "Ex.4: $\\{(0, 0),(0, 1),(1, 0),(1, 1)\\}\\rightarrow \\{(A, \\pi/4), (A, 3\\pi/4), (A, 5\\pi/4), (A, 7\\pi/4)\\}$ (modulação QPSK)"
   ]
  },
  {
   "cell_type": "markdown",
   "metadata": {},
   "source": [
    "### Diagramas de constelação"
   ]
  },
  {
   "cell_type": "code",
   "execution_count": null,
   "metadata": {
    "ExecuteTime": {
     "start_time": "2024-11-18T11:42:42.108Z"
    },
    "hide_input": true,
    "jupyter": {
     "source_hidden": true
    }
   },
   "outputs": [],
   "source": [
    "M = 16 # order of the modulation format\n",
    "constType = 'qam' # 'qam', 'psk', 'pam' or 'ook'\n",
    "\n",
    "def genConst(M, constType, plotBits):\n",
    "    try:\n",
    "        plt.figure(figsize=(6,6))\n",
    "        plt.plot([],[])\n",
    "        plt.grid()\n",
    "        plt.ylabel('$A_Q$', fontsize=14)\n",
    "        plt.xlabel('$A_I$', fontsize=14)\n",
    "        plt.axis('square')\n",
    "        \n",
    "        # plot modulation bit-to-symbol mapping    \n",
    "        constSymb = grayMapping(M, constType)             # Gray constellation mapping\n",
    "        bitMap = demodulateGray(constSymb, M, constType)  # bit mapping\n",
    "        bitMap = bitMap.reshape(-1, int(np.log2(M)))\n",
    "\n",
    "        # generate random bits\n",
    "        bits = bitMap.reshape(1, -1)\n",
    "\n",
    "        # Map bits to constellation symbols\n",
    "        symbTx = modulateGray(bits, M, constType)\n",
    "\n",
    "        # normalize symbols energy to 1\n",
    "        if constType == 'ook':\n",
    "            plt.xlim(-1.25*max(symbTx.real),1.25*max(symbTx.real))\n",
    "            plt.ylim(-1.25*max(symbTx.real),1.25*max(symbTx.real));\n",
    "            plt.vlines(0, -1.25*max(symbTx.real),1.25*max(symbTx.real))\n",
    "            plt.hlines(0, -1.25*max(symbTx.real),1.25*max(symbTx.real))\n",
    "        else:\n",
    "            plt.xlim(1.25*min(symbTx.real),1.25*max(symbTx.real))\n",
    "            plt.ylim(1.25*min(symbTx.real),1.25*max(symbTx.real));\n",
    "            plt.vlines(0, 1.25*min(symbTx.real), 1.25*max(symbTx.real))\n",
    "            plt.hlines(0, 1.25*min(symbTx.real), 1.25*max(symbTx.real))\n",
    "        \n",
    "        if M>64:\n",
    "            plt.plot(symbTx.real, symbTx.imag,'o', markersize=4);\n",
    "        else:\n",
    "            plt.plot(symbTx.real, symbTx.imag,'o', markersize=10);                \n",
    "      \n",
    "        plt.title('Constelação '+str(M)+'-'+constType.upper());\n",
    "                \n",
    "        if plotBits:\n",
    "            if M>=64:\n",
    "                fontSize = 6\n",
    "            else:\n",
    "                fontSize = 12\n",
    "\n",
    "            for ind, symb in enumerate(constSymb):\n",
    "                bitMap[ind,:]\n",
    "                plt.annotate(str(bitMap[ind,:])[1:-1:2], xy = (symb.real-0.05, symb.imag+0.15), size=fontSize)\n",
    "        \n",
    "    except:\n",
    "        return    \n",
    "    \n",
    "interact(genConst, M=[2, 4, 8, 16, 64, 256, 1024], constType=['ook','pam','psk','apsk','qam'], plotBits=[True, False]);"
   ]
  },
  {
   "cell_type": "markdown",
   "metadata": {},
   "source": [
    "### Parâmetros importantes das modulações digitais lineares"
   ]
  },
  {
   "cell_type": "markdown",
   "metadata": {},
   "source": [
    "#### Cardinalidade e número de bits por símbolo\n",
    "\n",
    "A cardinalidade de uma modulação digital é definida como o número de símbolos que compõem a sua constelação, geralmente indicada pela letra $M$. De modo a facilitar o mapeamento entre sequências binárias e símbolos das constelações, $M$ geralmente é uma potência inteira de 2, ou seja, $M=2^b$ onde $b$ é o número de bits por símbolo (bits/símbolo) da modulação. Quanto maior o valor de b, mais informação pode ser carregada por cada símbolo transmitido. Entretanto, quanto maior o valor de $M$, maior a suscetibilidade dos sinais transmitidos ao ruído e demais distorções que podem ser infligidas pelo canal de comunicações. \n",
    "\n",
    "#### Energia média dos símbolos da constelação ($E_s$)\n",
    "\n",
    "Considere $X$ uma variável aleatória discreta que representa a fonte de símbolos do transmissor. Em cada instante de sinalização, o transmissor envia para o canal um dos símbolos da constelação definida por $\\mathcal{X} = \\left\\lbrace s_0, s_1, \\dots, s_{M-1}\\right\\rbrace$, com probabilidade $P(s_n),\\;n = 0,1,\\dots,M-1$, de modo que $\\sum_{n=0}^{M-1}P(s_n)=1$. A energia média $E_s$ dos símbolos enviados pelo transmissor será dada pelo valor esperado:\n",
    "\n",
    "$$\\begin{aligned} E_s &= E\\left[X^2\\right] \\\\ &= \\sum_{n=0}^{M-1}|s_n|^2P(s_n) \\end{aligned} $$\n",
    "\n",
    "Se cada um dos $M$ símbolos ocorre com a mesma probabilidade, diz-se que a fonte gera símbolos equiprováveis, de modo que $P(s_n)=\\frac{1}{M}$. Neste caso, temos\n",
    "\n",
    "$$ \\begin{aligned} E_s &=\\sum_{n=0}^{M-1}|s_n|^2\\frac{1}{M} \\\\ &=  \\frac{1}{M}\\sum_{n=0}^{M-1}|s_n|^2\\end{aligned} $$\n",
    "\n",
    "Exemplos: \n",
    "\n",
    "1. Considere a constelação 4-PAM definida por $\\mathcal{X} = \\left\\lbrace -3, -1, 1, 3\\right\\rbrace$. Considerando que os símbolos são gerados de maneira equiprovável, temos que:\n",
    "\n",
    "$$ \\begin{aligned} E_s &=\\sum_{n=0}^{M-1}|s_n|^2P(s_n) \\\\ &=  \\frac{1}{4}\\left[|-3|^2+|-1|^2+|1|^2+|3|^2\\right] \\\\ &=  \\frac{20}{4} = 5\\end{aligned} $$\n",
    "\n",
    "2. Considere a constelação 4-QAM definida por $\\mathcal{X} = \\left\\lbrace -1-j, -1+j, 1+j, 1-j\\right\\rbrace$. Considerando que os símbolos são gerados de maneira equiprovável, temos que:\n",
    "\n",
    "$$ \\begin{aligned} E_s &=\\sum_{n=0}^{M-1}|s_n|^2P(s_n) \\\\ &=  \\frac{1}{4}\\left[|-1-j|^2+|-1+j|^2+|1+j|^2+|1+j|^2\\right] \\\\ &=  \\frac{8}{4} = 2\\end{aligned} $$\n",
    "\n",
    "Logo, ao compararmos as modulações 4-PAM e 4-QAM dadas pelas constelações descritas, nota-se que ao utilizar a constelação 4-PAM o transmissor gastará, em média, $2,5\\times$ mais energia por símbolo transmitido no canal do que gastaria utilizando a modulação 4-QAM. \n",
    "\n",
    "Em diversas situações deseja-se comparar o desempenho entre diferentes formatos de modulação num sistema de comunicações. Neste caso, comparar constelações que possuem valores distintos de energia média por símbolo pode causar inconsistências. Busca-se, então, normalizar a energia média por símbolo das constelações, ou seja, fazer com que $E_s = 1$, de modo a garantir uma comparação justa. Desse modo assume-se que, independentemente da modulação utilizada, o transmissor envia sempre a mesma energia média por símbolo transmitido ao canal. A normalização é feita dividindo-se os símbolos em $\\mathcal{X}$ por $\\sqrt{E_s}$. Para verificar essa afirmação, podemos assumir que um fator $\\alpha\\in \\mathbb{R}$ é utilizado para ampliar ($\\alpha>1$) ou reduzir ($0<\\alpha<1$) as dimensões da constelação, de modo que $\\mathcal{X} = \\left\\lbrace \\alpha s_0,  \\alpha s_1, \\dots, \\alpha s_{M-1}\\right\\rbrace$ é a constelação resultante. Seja $E_s^{(\\alpha)}$ a nova energia média por símbolo da constelação, temos que\n",
    "\n",
    "$$\\begin{aligned} E_s^{(\\alpha)} &= \\sum_{n=0}^{M-1}|\\alpha s_n|^2P(s_n) \\\\ &= \\alpha^2\\sum_{n=0}^{M-1}|s_n|^2P(s_n) \\\\ &= \\alpha^2 E_s\\end{aligned} $$\n",
    "\n",
    "Logo, se $\\alpha = \\frac{1}{\\sqrt{E_s}}$, então $E_s^{(\\alpha)}=1$."
   ]
  },
  {
   "cell_type": "markdown",
   "metadata": {},
   "source": [
    "#### Distância euclidiana mínima entre símbolos ($d_{min}$)\n",
    "\n",
    "Para uma dada constelação $\\mathcal{X} = \\left\\lbrace s_0, s_1, \\dots, s_{M-1}\\right\\rbrace$, a distância euclidiana mínima entre dois símbolos será dada por\n",
    "\n",
    "$$d_{min} = \\min_{i,k} |s_i-s_k| = \\min_{i,k} \\sqrt{(s_i-s_k)^2} $$.\n",
    "\n",
    "com $i, k \\in \\left\\lbrace 0, 1, \\dots, M-1\\right\\rbrace$ e $i\\neq k$.\n",
    "\n",
    "Exemplos: \n",
    "\n",
    "1. Considere a constelação 4-PAM normalizada definida por $\\mathcal{X} = \\left\\lbrace \\frac{-3}{\\sqrt{5}}, \\frac{-1}{\\sqrt{5}}, \\frac{1}{\\sqrt{5}}, \\frac{3}{\\sqrt{5}}\\right\\rbrace$, temos que $d_{min}=\\frac{2}{\\sqrt{5}}\\approx 0.894$.\n",
    "\n",
    "2. Considere a constelação 4-QAM normalizada definida por $\\mathcal{X} = \\left\\lbrace \\frac{-1-j}{\\sqrt{2}}, \\frac{-1+j}{\\sqrt{2}}, \\frac{1+j}{\\sqrt{2}}, \\frac{1-j}{\\sqrt{2}}\\right\\rbrace$, temos que $d_{min}=\\frac{2}{\\sqrt{2}}\\approx 1.414$."
   ]
  },
  {
   "cell_type": "markdown",
   "metadata": {},
   "source": [
    "## Intervalo de sinalização e taxa de símbolos\n",
    "\n",
    "Num sistema de comunicações digitais, o transmissor envia bits pelo canal de comunicações ao receptor em intervalos de tempo pré-estabelecidos denominados **intervalo de sinalização** ($T_s$). Diz-se que o transmissor \"faz uso do canal\" cada vez que envia um símbolo de um esquema de modulação representando uma sequência de bits. A taxa (ou frequência) em que símbolos são enviados pelo canal para enviar símbolos é chamada de taxa (ou frequência) de sinalização ($R_s$), ou taxa de símbolos, sendo medida em [baud](https://en.wikipedia.org/wiki/Baud). A relação entre $R_s$ e $T_s$ é dada por $R_s=1/T_s$.\n",
    "\n",
    "Quanto maior a taxa de símbolos, maior será a banda de espectro necessária para a operação do sistema. Para recuperar corretamente a sequência de símbolos transmitida, faz-se necessário que o transmissor e receptor estejam **sincronizados**, ou seja, o receptor deve conhecer exatamente os intervalos de sinalização utilizados pelo transmissor para o envio da informação.\n",
    "\n",
    "A quantidade de bits enviada em cada intervalo de sinalização multiplicada por $R_s$ corresponde à taxa de transmissão de bits do sistema ($R_b$). Assumindo que cada símbolo de uma modulação digital representa uma sequência de $b$ bits, temos que:\n",
    "\n",
    "$$R_b = kR_s $$"
   ]
  },
  {
   "cell_type": "code",
   "execution_count": null,
   "metadata": {
    "ExecuteTime": {
     "start_time": "2024-11-18T11:42:42.112Z"
    },
    "hide_input": true,
    "jupyter": {
     "source_hidden": true
    }
   },
   "outputs": [],
   "source": [
    "Rs  = 100e6  # Taxa de símbolos [baud]\n",
    "Ts  = 1/Rs  # Período de símbolo em segundos\n",
    "N   = 10    # número de intervalos de sinalização\n",
    "\n",
    "t = np.arange(N+1)*(Ts/1e-9) # tempo em nanosegundos (ns)\n",
    "\n",
    "plt.vlines(t, 0, 1, linestyles='dashed', color = 'k')    \n",
    "plt.xlabel('tempo [ns]');\n",
    "plt.title('intervalos de sinalização');\n",
    "plt.grid()\n",
    "plt.xticks(t);\n",
    "plt.xlim(0, t.max());"
   ]
  },
  {
   "cell_type": "markdown",
   "metadata": {},
   "source": [
    "## Teorema da amostragem\n",
    "\n",
    "O teorema de amostragem de *Nyquist-Shannon* é um dos resultados mais importantes utilizados em processamento digital de sinais, servindo como uma ponte fundamental entre sinais de tempo contínuo e sinais de tempo discreto. O teorema estabelece uma **condição suficiente** para uma taxa de amostragem que permite que uma sequência discreta de amostras capture toda a informação de um sinal contínuo no tempo e de largura de banda finita.\n",
    "\n",
    "Considerre $x(t)$ um sinal limitado em banda, i.e. o espectro de frequências de $X(f)=\\mathcal{F}\\{x(t)\\}$ está contido no intervalo $-B\\leq f \\leq B$, ou seja \n",
    "\n",
    "$$ X(f) = \\int_{-\\infty}^{\\infty} x(t)e^{j2\\pi f t} dt = 0 \\text{, se } f < -B \\text{ ou } f > B$$\n",
    "\n",
    "Suponha que obtenhamos um sinal discreto no tempo $x[k]$ a partir de um conjunto de amostras equiespaçadas de $x(t)$, ou seja $x[k]=x(kT_a)$, em que $T_a = \\frac{1}{f_a}$ é o período de amostragem e $f_a$ a frequência de amostragem.\n",
    "\n",
    "Se $f_a\\geq 2B$, $x(t)$ pode ser perfeitamente reconstruído a partir de suas amostras $x[k]$ fazendo\n",
    "\n",
    "$$\n",
    "x(t)=\\sum_{n=-\\infty}^{\\infty} x(k T_a) \\operatorname{sinc}\\left(\\frac{t-kT_a}{T_a}\\right).\n",
    "$$\n"
   ]
  },
  {
   "cell_type": "markdown",
   "metadata": {},
   "source": [
    "### Exemplo 1: função sinc(t)"
   ]
  },
  {
   "cell_type": "code",
   "execution_count": null,
   "metadata": {
    "ExecuteTime": {
     "start_time": "2024-11-18T11:42:42.115Z"
    },
    "hide_input": false,
    "jupyter": {
     "source_hidden": true
    }
   },
   "outputs": [],
   "source": [
    "Fa = 800   # frequência de amostragem\n",
    "B  = 100   # banda da sinc\n",
    "Ta = 1/Fa  # período de amostragem\n",
    "\n",
    "t = np.arange(0, 0.2, Ta/16) # duração do sinal [s]\n",
    "d = t.size/2\n",
    "x = np.sinc(2*B*(t-d*(Ta/16)))\n",
    "\n",
    "# sinal amostrado com frequência de amostragem fa\n",
    "xa = x[::16]\n",
    "ta = t[::16]\n",
    "\n",
    "plt.figure()\n",
    "plt.plot(t, x,'-', label = 'x(t)')\n",
    "plt.plot(ta, xa,'ko', label = '$x[kT_a]$')\n",
    "plt.grid()\n",
    "plt.legend()\n",
    "plt.xlim(min(t), max(t))\n",
    "\n",
    "# plota psd\n",
    "x_psd = np.sinc(2*B*((np.arange(0, 2000)*Ta)-1000*Ta))\n",
    "plt.figure();\n",
    "plt.psd(x_psd, Fs=Fa, NFFT = 16*1024, sides='twosided')\n",
    "plt.xlim(-Fa/2, Fa/2);"
   ]
  },
  {
   "cell_type": "code",
   "execution_count": null,
   "metadata": {
    "ExecuteTime": {
     "start_time": "2024-11-18T11:42:42.118Z"
    },
    "hide_input": true,
    "jupyter": {
     "source_hidden": true
    }
   },
   "outputs": [],
   "source": [
    "def sincInterp(x, fa):\n",
    "    \n",
    "    fa_sinc = 32*fa\n",
    "    Ta_sinc = 1/fa_sinc\n",
    "    Ta = 1/fa\n",
    "    t = np.arange(0, x.size*32)*Ta_sinc\n",
    "    \n",
    "    plt.figure()  \n",
    "    y = upsample(x,32)\n",
    "    y[y==0] = np.nan\n",
    "    plt.plot(t,y.real,'ko', label='x[k]')\n",
    "    \n",
    "    x_sum = 0\n",
    "    for k in range(0, x.size):\n",
    "        xk_interp = x[k]*np.sinc((t-k*Ta)/Ta)\n",
    "        x_sum += xk_interp\n",
    "        plt.plot(t, xk_interp)           \n",
    "    \n",
    "    plt.legend(loc=\"upper right\")\n",
    "    plt.xlim(min(t), max(t))\n",
    "    plt.grid()\n",
    "    \n",
    "    return x_sum, t\n",
    "\n",
    "x_interp, t_interp = sincInterp(xa, Fa);\n",
    "\n",
    "plt.figure()\n",
    "plt.plot(t_interp, x_interp,'--k',label ='$\\hat{x}(t) =\\sum_{k}\\;x_{k}\\;sinc[(t-kT_a)/T_a]$');\n",
    "plt.plot(t, x,'-',label = 'função x(t) original')\n",
    "plt.xlim(min(t), max(t))\n",
    "plt.grid()\n",
    "plt.legend();"
   ]
  },
  {
   "cell_type": "markdown",
   "metadata": {},
   "source": [
    "### Exemplo 2: chirp de frequência linear"
   ]
  },
  {
   "cell_type": "code",
   "execution_count": null,
   "metadata": {
    "ExecuteTime": {
     "start_time": "2024-11-18T11:42:42.121Z"
    },
    "hide_input": true,
    "jupyter": {
     "source_hidden": true
    }
   },
   "outputs": [],
   "source": [
    "from scipy.signal import chirp\n",
    "\n",
    "Fa = 150   # frequência de amostragem\n",
    "Ta = 1/Fa  # período de amostragem\n",
    "B  = 100\n",
    "\n",
    "d = 1600\n",
    "t = np.arange(0, 0.5, Ta/16) # duração do sinal [s]\n",
    "\n",
    "x = chirp(t, f0=-100, f1=100, t1=max(t), method='linear')\n",
    "\n",
    "# sinal amostrado com frequência de amostragem fa\n",
    "xa = x[::16]\n",
    "ta = t[::16]\n",
    "\n",
    "plt.figure()\n",
    "plt.plot(t, x,'-', label = 'y(t)')\n",
    "plt.plot(ta, xa,'ko', markersize = 4, label = '$x[kT_a]$')\n",
    "plt.xlabel('tempo (s)')\n",
    "plt.grid()\n",
    "plt.legend()\n",
    "plt.xlim(min(t), max(t))\n",
    "\n",
    "# plota psd\n",
    "plt.figure();\n",
    "plt.psd(xa, Fs=Fa, NFFT = 16*1024, sides='twosided')\n",
    "plt.xlim(-Fa/2, Fa/2);"
   ]
  },
  {
   "cell_type": "code",
   "execution_count": null,
   "metadata": {
    "ExecuteTime": {
     "start_time": "2024-11-18T11:42:42.124Z"
    },
    "hide_input": true,
    "jupyter": {
     "source_hidden": true
    }
   },
   "outputs": [],
   "source": [
    "x_interp, t_interp = sincInterp(xa, Fa);\n",
    "\n",
    "plt.figure()\n",
    "plt.plot(t_interp, x_interp,'--k',label ='$\\hat{x}(t) =\\sum_{k}\\;x_{k}\\;sinc[(t-kT_a)/T_a]$');\n",
    "plt.plot(t, x,'-',label = 'função x(t) original')\n",
    "plt.xlabel('tempo (s)')\n",
    "plt.xlim(min(t), max(t))\n",
    "plt.grid()\n",
    "plt.legend(loc='upper right');"
   ]
  },
  {
   "cell_type": "markdown",
   "metadata": {},
   "source": [
    "## Formatação de pulso e sinais digitais em banda base\n",
    "\n",
    "Partindo de uma sequência de símbolos gerados a partir de um esquema de modulação digital podemos construir um sinal em banda base na forma de um trem de pulsos. Seja $s(t)$ o sinal modulado em banda base representando a sequência de símbolos $s_{k}$ formatada com um pulso $p(t)$, temos que\n",
    "\n",
    "$$\\begin{equation} s(t) = \\sum_{k=-\\infty}^{\\infty} s_{k} p\\left(t-kT_{s}\\right)\\end{equation},$$\n",
    "\n",
    "com o processo de geração de $s(t)$ ilustrado na figura a seguir.\n",
    "\n",
    "<img src=\"./figuras/Fig1-1.png\" width=\"600\">\n",
    "\n",
    "Perceba que $s(t)$ pode ser gerado a partir de uma convolução entre um trem de impulsos e o pulso $p(t)$, i.e.\n",
    "\n",
    "$$ \\begin{align} s(t) &= \\left[ \\sum_{k=-\\infty}^{\\infty} s_{k} \\delta \\left(t-k T_{s}\\right)\\right] \\ast p(t) \\nonumber \\\\ & = \\sum_{k=-\\infty}^{\\infty} s_{k} p\\left(t-k T_{s}\\right)\\end{align}$$\n",
    "\n",
    "O sinal $s_{k}$, por sua vez, poderá ser transmitido diretamente na banda base ou utilizado na modulação de uma onda portadora."
   ]
  },
  {
   "cell_type": "markdown",
   "metadata": {},
   "source": [
    "$$ \\begin{align} E(t)&=\\operatorname{Re}\\left[s(t) \\exp \\left(j \\omega_c t\\right)\\right]\\nonumber\\\\\n",
    "&= \\operatorname{Re}\\left[\\sum_{k=-\\infty}^{\\infty} s_{k} p\\left(t-kT_{s}\\right)\\exp \\left(j \\omega_c t\\right)\\right]\\nonumber\\\\\n",
    "&= \\left[\\sum_{k=-\\infty}^{\\infty} \\operatorname{Re}[s_{k}] p\\left(t-kT_{s}\\right)\\right]\\cos\\left(\\omega_c t\\right) - \\left[\\sum_{k=-\\infty}^{\\infty} \\operatorname{Im}[s_{k}] p\\left(t-kT_{s}\\right)\\right] \\sin\\left(\\omega_c t\\right)\n",
    "\\end{align}$$"
   ]
  },
  {
   "cell_type": "code",
   "execution_count": null,
   "metadata": {
    "ExecuteTime": {
     "start_time": "2024-11-18T11:42:42.127Z"
    },
    "jupyter": {
     "source_hidden": true
    }
   },
   "outputs": [],
   "source": [
    "# gera sequência de bits pseudo-aleatórios\n",
    "bits   = np.random.randint(2, size=20)    \n",
    "n      = np.arange(bits.size)\n",
    "\n",
    "# mapeia bits para símbolos binários\n",
    "symbTx = 2*bits-1.0\n",
    "\n",
    "plt.figure(1)\n",
    "plt.title('Sequência de bits gerados:')\n",
    "plt.stem(bits, basefmt=\" \")\n",
    "plt.xlabel('n')\n",
    "plt.ylabel('$b_n$')\n",
    "plt.grid()\n",
    "plt.xticks(np.arange(0, bits.size));\n",
    "\n",
    "plt.figure(2)\n",
    "plt.title('Sequência de símbolos correspondente após o mapeamento:')\n",
    "plt.stem(symbTx, basefmt=\" \")\n",
    "plt.xlabel('n')\n",
    "plt.ylabel('$s_n$')\n",
    "plt.grid()\n",
    "plt.xticks(np.arange(0, symbTx.size));"
   ]
  },
  {
   "cell_type": "markdown",
   "metadata": {},
   "source": [
    "### Pulso retangular ideal"
   ]
  },
  {
   "cell_type": "code",
   "execution_count": null,
   "metadata": {
    "ExecuteTime": {
     "start_time": "2024-11-18T11:42:42.130Z"
    },
    "jupyter": {
     "source_hidden": true
    }
   },
   "outputs": [],
   "source": [
    "# parâmetros da simulação\n",
    "Rs = 100e6         # Taxa de símbolos\n",
    "Ts = 1/Rs          # Período de símbolo em segundos\n",
    "SpS = 128           # amostras por símbolo\n",
    "Fa  = 1/(Ts/SpS)    # Frequência de amostragem do sinal (amostras/segundo)\n",
    "Ta  = 1/Fa          # Período de amostragem\n",
    "\n",
    "# upsampling\n",
    "symbolsUp = upsample(symbTx, SpS)\n",
    "\n",
    "# pulso retangular ideal\n",
    "pulse = pulseShape('rect', SpS)\n",
    "pulse = pulse/max(abs(pulse))\n",
    "\n",
    "t = np.arange(0,pulse.size)*(Ta/1e-9) # tempo em ns\n",
    "\n",
    "plt.figure(1)\n",
    "plt.plot(t, pulse,'-', label = 'p(t)', linewidth=3)\n",
    "plt.xlabel('tempo [ns]')\n",
    "plt.ylabel('amplitude [u.a.]')\n",
    "plt.xlim(min(t), max(t))\n",
    "plt.grid()\n",
    "plt.legend();\n",
    "\n",
    "P = np.fft.fftshift(np.fft.fft(pulse))\n",
    "freqs = np.fft.fftshift(np.fft.fftfreq(P.size, d=(Ta/1e-9)))\n",
    "plt.figure(2)\n",
    "plt.xlabel('f [GHz]')\n",
    "plt.xlim(-2,2)\n",
    "plt.plot(freqs, np.abs(P), label='|P(f)|')\n",
    "plt.grid()"
   ]
  },
  {
   "cell_type": "code",
   "execution_count": null,
   "metadata": {
    "ExecuteTime": {
     "start_time": "2024-11-18T11:42:42.133Z"
    },
    "jupyter": {
     "source_hidden": true
    }
   },
   "outputs": [],
   "source": [
    "# formatação de pulso retangular\n",
    "sigTx  = firFilter(pulse, symbolsUp)\n",
    "sigTx  = sigTx.real\n",
    "\n",
    "# plota sinal \n",
    "t = np.arange(sigTx.size)*(Ta/1e-9)\n",
    "\n",
    "# instantes centrais dos intervalos de sinalização\n",
    "symbolsUp = upsample(2*bits-1.0, SpS)\n",
    "symbolsUp[symbolsUp==0] = np.nan\n",
    "\n",
    "plt.figure(2)\n",
    "plt.plot(t, sigTx,'-', linewidth=3)\n",
    "plt.plot(t, symbolsUp.real, 'o')\n",
    "plt.xlabel('tempo [ns]')\n",
    "plt.ylabel('amplitude [u.a.]')\n",
    "plt.title('$A(t)=\\sum_{n}\\;s_{n}\\;p(t-n T_s)$')\n",
    "plt.grid()\n",
    "\n",
    "t = (0.5 + np.arange(bits.size))*(Ts/1e-9)\n",
    "plt.vlines(t, -1, 1, linestyles='dashed', color = 'k');\n",
    "plt.xlim(0, max(t));"
   ]
  },
  {
   "cell_type": "markdown",
   "metadata": {},
   "source": [
    "### Pulso NRZ típico"
   ]
  },
  {
   "cell_type": "code",
   "execution_count": null,
   "metadata": {
    "ExecuteTime": {
     "start_time": "2024-11-18T11:42:42.136Z"
    },
    "jupyter": {
     "source_hidden": true
    }
   },
   "outputs": [],
   "source": [
    "SpS   = 128           # amostras por símbolo\n",
    "Fa    = 1/(Ts/SpS)    # Frequência de amostragem do sinal (amostras/segundo)\n",
    "Ta    = 1/Fa          # Período de amostragem\n",
    "\n",
    "# pulso NRZ típico\n",
    "pulse = pulseShape('nrz', SpS)\n",
    "pulse = pulse/max(abs(pulse))\n",
    "\n",
    "t = np.arange(pulse.size)*(Ta/1e-9)\n",
    "\n",
    "plt.figure(1)\n",
    "plt.plot(t, pulse,'-', label = 'p(t)', linewidth=3)\n",
    "plt.xlabel('tempo [ns]')\n",
    "plt.ylabel('amplitude [u.a.]')\n",
    "plt.xlim(min(t), max(t))\n",
    "plt.grid()\n",
    "plt.legend();\n",
    "\n",
    "P = np.fft.fftshift(np.fft.fft(pulse))\n",
    "freqs = np.fft.fftshift(np.fft.fftfreq(P.size, d=(Ta/1e-9)))\n",
    "plt.figure(2)\n",
    "plt.xlabel('f [GHz]')\n",
    "plt.xlim(-2,2)\n",
    "plt.plot(freqs, np.abs(P), label='|P(f)|')\n",
    "plt.grid()"
   ]
  },
  {
   "cell_type": "code",
   "execution_count": null,
   "metadata": {
    "ExecuteTime": {
     "start_time": "2024-11-18T11:42:42.139Z"
    },
    "jupyter": {
     "source_hidden": true
    }
   },
   "outputs": [],
   "source": [
    "# upsampling\n",
    "symbolsUp = upsample(symbTx, SpS)\n",
    "\n",
    "# formatação de pulso retangular\n",
    "sigTx  = firFilter(pulse, symbolsUp)\n",
    "sigTx = sigTx.real\n",
    "\n",
    "t = np.arange(sigTx.size)*(Ta/1e-9)\n",
    "\n",
    "# instantes centrais dos intervalos de sinalização\n",
    "symbolsUp = upsample(2*bits-1.0, SpS)\n",
    "symbolsUp[symbolsUp==0] = np.nan\n",
    "\n",
    "plt.figure(2)\n",
    "plt.plot(t, sigTx,'-',linewidth=3)\n",
    "plt.plot(t, symbolsUp.real,'o')\n",
    "plt.xlabel('tempo [ns]')\n",
    "plt.ylabel('amplitude [u.a.]')\n",
    "plt.title('$A(t)=\\sum_{n}\\;s_{n}\\;p(t-n T_s)$')\n",
    "plt.grid()\n",
    "\n",
    "t = (0.5*Ts + np.arange(0, bits.size*Ts, Ts))/1e-9\n",
    "plt.vlines(t, -1, 1, linestyles='dashed', color = 'k');\n",
    "plt.xlim(0, np.max(t));"
   ]
  },
  {
   "cell_type": "markdown",
   "metadata": {},
   "source": [
    "### Pulso cosseno levantado\n",
    "\n",
    "$$\\large\n",
    "p(t)=\\left\\{\\begin{array}{ll}\n",
    "\\frac{\\pi}{4 T} \\operatorname{sinc}\\left(\\frac{1}{2 \\beta}\\right), & t=\\pm \\frac{T}{2 \\beta} \\\\\n",
    "\\frac{1}{T} \\operatorname{sinc}\\left(\\frac{t}{T}\\right) \\frac{\\cos \\left(\\frac{\\pi \\beta t}{T}\\right)}{1-\\left(\\frac{2 \\beta t}{T}\\right)^{2}}, & \\text { caso contrário }\n",
    "\\end{array}\\right.\n",
    "$$\n",
    "\n",
    "$$\\large\n",
    "P(f)=\\left\\{\\begin{array}{ll}\n",
    "1, & |f| \\leq \\frac{1-\\beta}{2 T} \\\\\n",
    "\\frac{1}{2}\\left[1+\\cos \\left(\\frac{\\pi T}{\\beta}\\left[|f|-\\frac{1-\\beta}{2 T}\\right]\\right)\\right], & \\frac{1-\\beta}{2 T}<|f| \\leq \\frac{1+\\beta}{2 T} \\\\\n",
    "0, & \\text { caso contrário }\n",
    "\\end{array}\\right.\n",
    "$$"
   ]
  },
  {
   "cell_type": "code",
   "execution_count": null,
   "metadata": {
    "ExecuteTime": {
     "start_time": "2024-11-18T11:42:42.143Z"
    },
    "hide_input": true,
    "jupyter": {
     "source_hidden": true
    }
   },
   "outputs": [],
   "source": [
    "from ipywidgets import FloatSlider\n",
    "\n",
    "def plotRC(β):\n",
    "    Rs = 100e6\n",
    "    T = 1/Rs\n",
    "    SpS = 16\n",
    "    Ns = 4096    \n",
    "    π = np.pi\n",
    "    Ta = 1/(Rs*SpS)\n",
    "    Ta = (Ta/1e-9)\n",
    "    T = T/1e-9     \n",
    "    \n",
    "    pulse = pulseShape('rc', SpS, Ns, β, T)\n",
    "    pulse = pnorm(pulse) #/max(abs(pulse))\n",
    "    \n",
    "    t = np.arange(pulse.size)*Ta\n",
    "    \n",
    "    P = np.fft.fftshift(np.fft.fft(pulse))/np.sqrt(len(pulse))\n",
    "    freqs = np.fft.fftshift(np.fft.fftfreq(P.size, d=Ta))\n",
    "    plt.figure(1)\n",
    "    plt.plot(freqs, 20*np.log10(np.abs(P)), label='|P(f)|')\n",
    "    plt.grid()\n",
    "    plt.ylabel('dB')\n",
    "    plt.xlabel('f [GHz]')\n",
    "    plt.legend()\n",
    "    plt.xlim(min(freqs)/(SpS/4), max(freqs)/(SpS/4))\n",
    "    plt.ylim(-150, 20)\n",
    "    \n",
    "    plt.figure(2)\n",
    "    plt.plot(t,pulse, label='p(t)')\n",
    "    plt.grid()\n",
    "    #plt.ylim(-0.25, 1.25)\n",
    "    plt.xlim(min(t), max(t))\n",
    "    plt.ylabel('amplitude')\n",
    "    plt.xlabel('t [ns]')\n",
    "    plt.legend()\n",
    "    \n",
    "interact(plotRC, β=[0.99, 0.9, 0.8,0.7,0.6,0.5,0.4,0.3,0.2, 0.1, 0.01, 0.001, 0.0001]);\n",
    "#interact(plotRC, β = FloatSlider(min=1e-3, max=1, step=1e-3, continuous_update=False));"
   ]
  },
  {
   "cell_type": "code",
   "execution_count": null,
   "metadata": {
    "ExecuteTime": {
     "start_time": "2024-11-18T11:42:42.146Z"
    },
    "jupyter": {
     "source_hidden": true
    }
   },
   "outputs": [],
   "source": [
    "SpS   = 32            # amostras por símbolo\n",
    "Fa    = 1/(Ts/SpS)    # Frequência de amostragem do sinal (amostras/segundo)\n",
    "Ta    = 1/Fa          # Período de amostragem\n",
    "\n",
    "# pulso cosseno levantado (raised cosine)\n",
    "Ncoeffs = 640\n",
    "rolloff = 0.001\n",
    "\n",
    "pulse = pulseShape('rc', SpS, Ncoeffs, rolloff, Ts)\n",
    "pulse = pulse/max(abs(pulse))\n",
    "\n",
    "t = np.arange(pulse.size)*(Ta/1e-9)\n",
    "\n",
    "plt.figure(1)\n",
    "plt.plot(t, pulse,'-', label = 'p(t)', linewidth=3)\n",
    "plt.xlabel('tempo [ns]')\n",
    "plt.ylabel('amplitude')\n",
    "plt.xlim(min(t), max(t))\n",
    "plt.grid()\n",
    "plt.legend()\n",
    "\n",
    "t = (0.0*Ts + np.arange(0, (Ncoeffs/SpS)*Ts, Ts))/1e-9\n",
    "plt.vlines(t + 0.5*(Ts/1e-9), -0.2, 1, linestyles='dashed', color = 'k');"
   ]
  },
  {
   "cell_type": "code",
   "execution_count": null,
   "metadata": {
    "ExecuteTime": {
     "start_time": "2024-11-18T11:42:42.149Z"
    },
    "jupyter": {
     "source_hidden": true
    }
   },
   "outputs": [],
   "source": [
    "# upsampling\n",
    "symbolsUp = upsample(symbTx, SpS)\n",
    "\n",
    "# formatação de pulso \n",
    "sigTx = firFilter(pulse, symbolsUp)\n",
    "sigTx = sigTx.real\n",
    "\n",
    "t = np.arange(sigTx.size)*(Ta/1e-9)\n",
    "\n",
    "# instantes centrais dos intervalos de sinalização\n",
    "symbolsUp = upsample(2*bits-1.0, SpS)\n",
    "symbolsUp[symbolsUp==0] = np.nan\n",
    "\n",
    "plt.figure(2)\n",
    "plt.plot(t, sigTx,'-', linewidth=3)\n",
    "plt.plot(t, symbolsUp.real,'o')\n",
    "plt.xlabel('tempo [ns]')\n",
    "plt.ylabel('amplitude [V]')\n",
    "plt.title('$A(t)=\\sum_{n}\\;s_{n}\\;p(t-n T_s)$')\n",
    "plt.grid()\n",
    "\n",
    "t = (0.5*Ts + np.arange(0, bits.size*Ts, Ts))/1e-9\n",
    "plt.vlines(t, -1, 1, linestyles='dashed', color = 'k');\n",
    "plt.xlim(0, max(t));"
   ]
  },
  {
   "cell_type": "markdown",
   "metadata": {},
   "source": [
    "## Densidade espectral de potência de sinais modulados digitalmenente\n",
    "\n",
    "Considere $v(t)$ seja um sinal modulado em banda base no domínio do tempo associado a uma sequência de símbolos $\\{s_n\\}$ de um dado formato de modulação, ou seja\n",
    "\n",
    "$$ \\begin{equation}\n",
    "v(t)=\\sum_{n=-\\infty}^{\\infty} s_{n} p(t-n T).\n",
    "\\end{equation}\n",
    "$$\n",
    "\n",
    "em que $p(t)$ é o formato do pulso utilizado. O sinal $v(t)$ pode ser entendido como uma realização do processo estocástico $V(t)$ que, por sua vez, depende da sequência aleatória de símbolos $\\{s_n\\}$. Para cada realização distinta de $\\{s_n\\}$ temos uma forma de onda $v(t)$ associada.\n",
    "\n",
    "### Valor médio e autocorrelação de $V(t)$\n",
    "\n",
    "\n",
    "#### Valor médio\n",
    "\n",
    "$$\n",
    "\\begin{equation}\n",
    "\\begin{aligned}\n",
    "E[V(t)] &=\\sum_{n=-\\infty}^{\\infty} E\\left[s_{n}\\right] p(t-n T) \\\\\n",
    "&=m_{s} \\sum_{n=-\\infty}^{\\infty} p(t-n T)\n",
    "\\end{aligned}\n",
    "\\end{equation}\n",
    "$$\n",
    "\n",
    "Perceba que $E[V(t)]$ é periódico em $t$ com período $T$, que corresponde ao intervalo de sinalização.\n",
    "\n",
    "#### Autocorrelação\n",
    "\n",
    "$$\n",
    "\\begin{equation}\n",
    "R_{V}(t+\\tau, t)=E\\left[V^{*}(t) V(t+\\tau)\\right]=\\sum_{n=-\\infty}^{\\infty} \\sum_{m=-\\infty}^{\\infty} E\\left[s_{n}^{*} s_{m}\\right] p(t-nT) p(t+\\tau-mT)\n",
    "\\end{equation}\n",
    "$$\n",
    "\n",
    "Considerando que $\\{s_n\\}$ seja uma sequência de símbolos de informação estacionária no sentido amplo, sua autocorrelação $R_{s}$ é definida como\n",
    "\n",
    "$$\n",
    "\\begin{equation}\n",
    "\\begin{aligned}\n",
    "R_{s}(n,n+m)&=E\\left[s_{n}^{*}s_{n+m}\\right]\\nonumber\\\\\n",
    "        &=R_{s}((n+m)-n)\\nonumber\\\\\n",
    "        &=R_{s}(m)\n",
    "\\end{aligned}\n",
    "\\end{equation}\n",
    "$$\n",
    "\n",
    "Logo,\n",
    "$$\n",
    "\\begin{equation}\n",
    "R_{V}(t+\\tau, t) =\\sum_{n=-\\infty}^{\\infty} \\sum_{m=-\\infty}^{\\infty} R_{s}(m-n) p(t-nT) p(t+\\tau-mT).\n",
    "\\end{equation}\n",
    "$$\n",
    "\n",
    "Podemos reescrever os somatórios de uma maneira mais conveniente fazendo a mudança de variáveis $m'= m-n$, de forma que\n",
    "\n",
    "$$\n",
    "\\begin{equation}\n",
    "\\begin{aligned}\n",
    "R_{V}(t+\\tau, t) &=\\sum_{n=-\\infty}^{\\infty} \\sum_{m=-\\infty}^{\\infty} R_{s}(m-n) p(t-nT) p(t+\\tau-mT)\\nonumber\\\\\n",
    "                 &=\\sum_{n=-\\infty}^{\\infty} \\sum_{m'=-\\infty}^{\\infty} R_{s}(m') p(t-nT) p(t+\\tau-(m'+n)T)\\nonumber\\\\\n",
    "                 &=\\sum_{m'=-\\infty}^{\\infty} R_{s}(m') \\sum_{n=-\\infty}^{\\infty} p(t-nT) p(t+\\tau -nT -m'T)\n",
    "\\end{aligned}\n",
    "\\end{equation}\n",
    "$$\n",
    "\n",
    "ou seja, apenas renomeando o índice do somatório, temos\n",
    "\n",
    "$$\n",
    "\\begin{equation}\n",
    "R_{V}(t+\\tau, t) =\\sum_{m=-\\infty}^{\\infty} R_{s}(m) \\sum_{n=-\\infty}^{\\infty} p(t-nT) p(t+\\tau -nT -mT)\n",
    "\\end{equation}\n",
    "$$\n",
    "\n",
    "Perceba que também a autocorrelação $R_{V}(t+\\tau, t)$ é periódica em $t$ com período $T$, o que caracteriza $V(t)$ como um *processo cicloestacionário*. Desse modo, podemos caracterizar $V(t)$ pela sua função de autocorrelação média $\\bar{R}_{V}(t+\\tau, t)$ definida por\n",
    "\n",
    "$$\n",
    "\\begin{equation}\n",
    "\\begin{aligned}\n",
    "\\bar{R}_{V}(\\tau) &=\\frac{1}{T} \\int_{-T / 2}^{T / 2} R_{V}(t+\\tau, t) d t \\\\\n",
    "&=\\sum_{m=-\\infty}^{\\infty} R_{s}(m) \\sum_{n=-\\infty}^{\\infty} \\frac{1}{T} \\int_{-T / 2}^{T / 2} p(t-n T) p(t+\\tau-n T-m T) d t \\\\\n",
    "&=\\sum_{m=-\\infty}^{\\infty} R_{s}(m) \\sum_{n=-\\infty}^{\\infty} \\frac{1}{T} \\int_{n T-T / 2}^{n T+T / 2} p(t) p(t+\\tau-m T) d t \\\\\n",
    "&=\\frac{1}{T} \\sum_{m=-\\infty}^{\\infty} R_{s}(m) \\int_{-\\infty}^{\\infty} p(t) p(t+\\tau-m T) d t.\n",
    "\\end{aligned}\n",
    "\\end{equation}\n",
    "$$\n",
    "\n",
    "A integral $\\int_{-\\infty}^{\\infty} p(t) p(t+\\tau-m T) dt$ é interpretada como a autocorrelação temporal $R_{p}(\\tau)$ do pulso $p(t)$, ou seja\n",
    "\n",
    "$$\n",
    "\\begin{equation}\n",
    "R_{p}(\\tau)=\\int_{-\\infty}^{\\infty} p(t) p(t+\\tau) dt.\n",
    "\\end{equation}\n",
    "$$\n",
    "\n",
    "Assim, temos\n",
    "\n",
    "$$\n",
    "\\begin{equation}\n",
    "\\bar{R}_{V}(\\tau)=\\frac{1}{T} \\sum_{m=-\\infty}^{\\infty} R_{s}(m) R_{p}(\\tau-m T).\n",
    "\\end{equation}\n",
    "$$\n",
    "\n",
    "### Densidade espectral de potência $\\mathcal{S}_{V}(f)$\n",
    "\n",
    "Uma vez estabelecida $\\bar{R}_{V}(\\tau)$, podemos utilizar o teorema de Wiener-Khinchin [2] para determinar a densidade espectral de potência $\\mathcal{S}_{V}(f)$ associada a $V(t)$. O teorema estabelece que $\\mathcal{S}_{V}(f)$ e $\\bar{R}_{V}(\\tau)$ são relacionadas por meio da transformada de Fourier, ou seja\n",
    "\n",
    "$$\n",
    "\\begin{equation}\n",
    "\\begin{aligned}\n",
    "\\mathcal{S}_{V}(f) &=\\int_{-\\infty}^{\\infty} \\bar{R}_{V}(\\tau) e^{-j 2 \\pi f \\tau} d \\tau \\\\\n",
    "&=\\frac{1}{T} \\sum_{m=-\\infty}^{\\infty} R_{s}(m) \\int_{-\\infty}^{\\infty} R_{p}(\\tau-m T) e^{-j 2 \\pi f \\tau} d \\tau \\\\\n",
    "&=\\frac{1}{T} \\sum_{m=-\\infty}^{\\infty} R_{s}(m) e^{j 2 \\pi f m T}\\int_{-\\infty}^{\\infty} R_{p}(\\tau) e^{-j 2 \\pi f \\tau} d \\tau \\\\\n",
    "&=\\frac{1}{T} \\sum_{m=-\\infty}^{\\infty} R_{s}(m) e^{-j 2 \\pi f m T}\\int_{-\\infty}^{\\infty} \\left[\\int_{-\\infty}^{\\infty} p(t) p(t+\\tau) d t\\right] e^{-j 2 \\pi f \\tau} d \\tau \\\\\n",
    "&=\\frac{1}{T} \\sum_{m=-\\infty}^{\\infty} R_{s}(m) e^{-j 2 \\pi f m T}\\int_{-\\infty}^{\\infty}p(t) e^{j 2 \\pi f t}dt\\int_{-\\infty}^{\\infty}p(\\tau)e^{-j 2 \\pi f \\tau} d \\tau \\\\\n",
    "&=\\frac{1}{T} \\mathcal{S}_{s}(f)P^*(f)P(f) \\\\\n",
    "&=\\frac{1}{T} \\mathcal{S}_{s}(f)\\left|P(f)\\right|^{2}.\n",
    "\\end{aligned}\n",
    "\\end{equation}\n",
    "$$\n",
    "\n",
    "Portanto,\n",
    "\n",
    "$$\n",
    "\\begin{equation}\n",
    "\\mathcal{S}_{V}(f) = \\frac{1}{T} \\mathcal{S}_{s}(f)\\left|P(f)\\right|^{2},\n",
    "\\end{equation}\n",
    "$$\n",
    "\n",
    "em que $\\mathcal{S}_{s}(f)$ é dada por\n",
    "$$\n",
    "\\begin{equation}\n",
    "\\mathcal{S}_{s}(f)=\\sum_{m=-\\infty}^{\\infty} R_{s}(m) e^{-j 2 \\pi f m T}.\n",
    "\\end{equation}\n",
    "$$\n",
    "\n",
    "Em resumo, a densidade espectral de potência de $\\mathcal{S}_{V}(f)$ depende de dois parâmetros: \n",
    "\n",
    "1. Do espectro de potência associado à transformada de Fourier $P(f)$ do pulso $p(t)$.\n",
    "2. Das caraterísticas espectrais $\\mathcal{S}_{s}(f)$ da sequência de símbolos de informação $\\{s_n\\}$.\n",
    "\n",
    "No caso particular, que engloba a maioria das situações práticas, os símbolos em $\\{s_n\\}$ são mutuamente descorrelacionados, de forma que\n",
    "\n",
    "$$\n",
    "\\begin{equation}\n",
    "R_{s}(m) = \\begin{cases}\\sigma_{s}^{2}+m_{s}^{2}, & m=0 \\\\ m_{s}^{2}, & m \\neq 0\\end{cases}\n",
    "\\end{equation}\n",
    "$$\n",
    "\n",
    "em que $\\sigma_{s}^{2}+m_{s}^{2}=E[s^2]$ é a energia média dos símbolos da constelação.\n",
    "\n",
    "ou seja,\n",
    "\n",
    "$$\n",
    "\\begin{equation}\n",
    "\\mathcal{S}_{s}(f)=\\sigma_{s}^{2}+m_{s}^{2} \\sum_{m=-\\infty}^{\\infty} e^{-j 2 \\pi f m T}\n",
    "\\end{equation}\n",
    "$$\n",
    "\n",
    "Utilizando a relação entre um trem trem de impulsos no domínio da frequência e sua representação em termos da série de Fourier, temos que\n",
    "\n",
    "$$\n",
    "\\begin{equation}\n",
    "\\sum_{n=-\\infty}^{\\infty} e^{-j 2 \\pi f mT}=\\frac{1}{T} \\sum_{m=-\\infty}^{\\infty} \\delta\\left(f-\\frac{m}{T}\\right).\n",
    "\\end{equation}\n",
    "$$\n",
    "\n",
    "Assim, podemos reescrever\n",
    "\n",
    "$$\n",
    "\\begin{equation}\n",
    "\\mathcal{S}_{s}(f)=\\sigma_{s}^{2}+\\frac{m_{s}^{2}}{T} \\sum_{m=-\\infty}^{\\infty} \\delta\\left(f-\\frac{m}{T}\\right).\n",
    "\\end{equation}\n",
    "$$\n",
    "\n",
    "Finalmente, $\\mathcal{S}_{V}(f)$ será dada por\n",
    "\n",
    "$$\n",
    "\\begin{equation}\n",
    "\\mathcal{S}_{V}(f)=\\frac{\\sigma_{s}^{2}}{T}\\left|P(f)\\right|^{2}+\\frac{m_{s}^{2}}{T^{2}} \\sum_{m=-\\infty}^{\\infty}\\left|P\\left(\\frac{m}{T}\\right)\\right|^{2} \\delta\\left(f-\\frac{m}{T}\\right).\n",
    "\\end{equation}\n",
    "$$\n",
    "\n",
    "De maneira geral, as constelações dos formatos de modulação ASK, PSK, QAM são definidas de tal forma que $m_{s}=0$, bastando apenas que os símbolos sejam posicionados de forma simétrica no plano complexo. Nesse caso, temos\n",
    "\n",
    "$$\n",
    "\\begin{equation}\n",
    "\\mathcal{S}_{V}(f)=\\frac{\\sigma_{s}^{2}}{T}\\left|P(f)\\right|^{2}\n",
    "\\end{equation}\n",
    "$$\n",
    "\n",
    "ou seja, o formato de $\\mathcal{S}_{V}(f)$ depende apenas do tipo de pulso $p(t)$ escolhido.\n",
    "\n",
    "Para mais detalhes, ver capítulo 8 de [2]."
   ]
  },
  {
   "cell_type": "markdown",
   "metadata": {},
   "source": [
    "### Exemplos de densidade espectral de potência de sinais modulados"
   ]
  },
  {
   "cell_type": "code",
   "execution_count": null,
   "metadata": {
    "ExecuteTime": {
     "start_time": "2024-11-18T11:42:42.152Z"
    },
    "jupyter": {
     "source_hidden": true
    }
   },
   "outputs": [],
   "source": [
    "# gera sequência de bits pseudo-aleatórios\n",
    "bits   = np.random.randint(2, size=200000)    \n",
    "n      = np.arange(0, bits.size)\n",
    "pulseType = 'rc'\n",
    "\n",
    "# mapeia bits para pulsos elétricos\n",
    "symbTx = 2*bits-1\n",
    "symbTx = symbTx/np.sqrt(signal_power(symbTx))\n",
    "\n",
    "# upsampling\n",
    "symbolsUp = upsample(symbTx, SpS)\n",
    "\n",
    "if pulseType == 'rc':\n",
    "    # pulso cosseno levantado (raised cosine)\n",
    "    Ncoeffs = 640\n",
    "    rolloff = 0.1\n",
    "\n",
    "    pulse = pulseShape('rc', SpS, Ncoeffs, rolloff, Ts)\n",
    "    pulse = pulse/max(abs(pulse))\n",
    "    \n",
    "elif pulseType == 'rect':\n",
    "    # pulso NRZ típico\n",
    "    pulse = pulseShape('rect', SpS)\n",
    "    pulse = pulse/max(abs(pulse))  \n",
    "    \n",
    "elif pulseType == 'nrz':\n",
    "    # pulso NRZ típico\n",
    "    pulse = pulseShape('nrz', SpS)\n",
    "    pulse = pulse/max(abs(pulse))\n",
    "\n",
    "# formatação de pulso\n",
    "sigTx = firFilter(pulse, symbolsUp)\n",
    "\n",
    "# plota psd\n",
    "plt.figure();\n",
    "plt.xlim(-4*Rs,4*Rs);\n",
    "plt.ylim(-250,-50);\n",
    "plt.psd(sigTx,Fs=Fa, NFFT = 16*1024, sides='twosided', label = 'Espectro do sinal')\n",
    "plt.legend(loc='upper left');"
   ]
  },
  {
   "cell_type": "markdown",
   "metadata": {},
   "source": [
    "## Diagramas de olho\n",
    "\n",
    "Um diagrama de olho é uma representação gráfica por meio da qual pode-se aferir a qualidade de um sinal num sistema de comunicação digital. Ele é usado para visualizar a forma de onda do sinal e a sua integridade, permitindo a avaliação de métricas de qualidade do sinal e a identificação de possíveis problemas, como interferências ou distorções. Um exemplo de um diagrama de olho para um sinal binário NRZ está ilustrado na figura abaixo.\n",
    "\n",
    "<img src=\"./figuras/Fig2.png\" width=\"600\">\n",
    "\n",
    "O diagrama de olho é composto por um conjunto de curvas que representam a variação do sinal ao longo do tempo. Cada curva é gerada pela sobreposição de várias amostras do sinal, permitindo que sejam identificadas as variações que ocorrem durante a transmissão. O ponto central do diagrama de olho representa a posição média do sinal, enquanto as curvas que se estendem para cima e para baixo representam as variações que ocorrem durante a transmissão.\n",
    "\n"
   ]
  },
  {
   "cell_type": "markdown",
   "metadata": {},
   "source": [
    "## Modulação M-PAM"
   ]
  },
  {
   "cell_type": "markdown",
   "metadata": {},
   "source": [
    "### Diagramas de constelação"
   ]
  },
  {
   "cell_type": "code",
   "execution_count": null,
   "metadata": {
    "ExecuteTime": {
     "start_time": "2024-11-18T11:42:42.156Z"
    },
    "hide_input": false,
    "jupyter": {
     "source_hidden": true
    }
   },
   "outputs": [],
   "source": [
    "M = 8 # order of the modulation format\n",
    "constType = 'pam' # 'qam', 'psk', 'pam' or 'ook'\n",
    "\n",
    "plt.figure(figsize=(4,4))\n",
    "plt.plot([],[])\n",
    "\n",
    "plt.grid()\n",
    "plt.ylabel('$A_Q$', fontsize=14)\n",
    "plt.xlabel('$A_I$', fontsize=14)\n",
    "plt.axis('square')\n",
    "\n",
    "# plot modulation bit-to-symbol mapping\n",
    "constSymb = grayMapping(M, constType)             # Gray constellation mapping\n",
    "bitMap = demodulateGray(constSymb, M, constType)  # bit mapping\n",
    "bitMap = bitMap.reshape(-1, int(np.log2(M)))\n",
    "\n",
    "# generate random bits\n",
    "bits = bitMap.reshape(1, -1)\n",
    "\n",
    "# Map bits to constellation symbols\n",
    "symbTx = modulateGray(bits, M, constType)\n",
    "\n",
    "# normalize symbols energy to 1\n",
    "symbTx = pnorm(symbTx)\n",
    "plt.vlines(0,min(symbTx.real)-0.25,max(symbTx.real)+0.25)\n",
    "plt.hlines(0,min(symbTx.real)-0.25,max(symbTx.real)+0.25)\n",
    "plt.plot(symbTx.real, symbTx.imag,'o', markersize=8,);\n",
    "plt.title('Constelação '+str(M)+'-'+constType.upper());\n",
    "plt.xlim(min(symbTx.real)-0.25,max(symbTx.real)+0.25)\n",
    "plt.ylim(min(symbTx.real)-0.25,max(symbTx.real)+0.25);\n",
    "\n",
    "for ind, symb in enumerate(pnorm(constSymb)):\n",
    "    bitMap[ind,:]\n",
    "    plt.annotate(str(bitMap[ind,:])[1:-1:2], xy = (symb.real-0.055*np.log2(M), symb.imag+0.15), size=10)"
   ]
  },
  {
   "cell_type": "markdown",
   "metadata": {},
   "source": [
    "### Mapeando bits para símbolos"
   ]
  },
  {
   "cell_type": "code",
   "execution_count": null,
   "metadata": {
    "ExecuteTime": {
     "start_time": "2024-11-18T11:42:42.159Z"
    },
    "jupyter": {
     "source_hidden": true
    }
   },
   "outputs": [],
   "source": [
    "# parâmetros da simulação\n",
    "SpS = 16            # Amostras por símbolo\n",
    "Rs  = 100e6         # Taxa de símbolos\n",
    "Ts  = 1/Rs          # Período de símbolo em segundos\n",
    "Fa  = 1/(Ts/SpS)    # Frequência de amostragem do sinal (amostras/segundo)\n",
    "Ta  = 1/Fa          # Período de amostragem\n",
    "\n",
    "# generate pseudo-random bit sequence\n",
    "bitsTx = np.random.randint(2, size = int(25*np.log2(M)))\n",
    "\n",
    "# generate ook modulated symbol sequence\n",
    "symbTx = modulateGray(bitsTx, M, 'pam')    \n",
    "symbTx = pnorm(symbTx) # power normalization\n",
    "\n",
    "plt.stem(symbTx, basefmt=\" \", label ='símbolos '+str(M)+'-PAM')\n",
    "plt.xlabel('n')\n",
    "plt.ylabel('$s_n$')\n",
    "plt.grid()\n",
    "plt.legend(loc='upper right')\n",
    "plt.xticks(np.arange(0, symbTx.size));\n",
    "\n",
    "df = pd.DataFrame()\n",
    "for b in range(int(np.log2(M))):\n",
    "    df['bits '+str(b)] = bitsTx[b::int(np.log2(M))]\n",
    "\n",
    "display(df.T)"
   ]
  },
  {
   "cell_type": "code",
   "execution_count": null,
   "metadata": {
    "ExecuteTime": {
     "start_time": "2024-11-18T11:42:42.162Z"
    },
    "jupyter": {
     "source_hidden": true
    }
   },
   "outputs": [],
   "source": [
    "# upsampling\n",
    "symbolsUp = upsample(symbTx, SpS)\n",
    "\n",
    "plt.stem(symbolsUp[0:5*SpS].real, basefmt=\" \", label ='sinal sobreamostrado '+str(M)+'-PAM')\n",
    "plt.xlabel('n')\n",
    "plt.ylabel('$s_n$')\n",
    "plt.grid()\n",
    "plt.legend(loc='upper right')\n",
    "plt.xticks(np.arange(0, 5*SpS, SpS));"
   ]
  },
  {
   "cell_type": "code",
   "execution_count": null,
   "metadata": {
    "ExecuteTime": {
     "start_time": "2024-11-18T11:42:42.165Z"
    },
    "jupyter": {
     "source_hidden": true
    }
   },
   "outputs": [],
   "source": [
    "# pulso NRZ típico\n",
    "pulse = pulseShape('nrz', SpS)\n",
    "pulse = pulse/max(abs(pulse))\n",
    "\n",
    "# formatação de pulso\n",
    "sigTx = firFilter(pulse, symbolsUp)\n",
    "sigTx = sigTx.real\n",
    "\n",
    "t = np.arange(0, sigTx.size)*(1/Fa)/1e-9\n",
    "\n",
    "# instantes centrais dos intervalos de sinalização\n",
    "symbolsUp = upsample(symbTx, SpS)\n",
    "symbolsUp[symbolsUp==0] = np.nan\n",
    "\n",
    "plt.figure(2)\n",
    "plt.plot(t, sigTx,'-',linewidth=3)\n",
    "plt.plot(t, symbolsUp.real,'o')\n",
    "plt.xlabel('tempo [ns]')\n",
    "plt.ylabel('amplitude')\n",
    "plt.title('$s(t)=\\sum_{n}\\;s_{n}\\;p(t-n T_s)$')\n",
    "plt.grid()\n",
    "\n",
    "t = (0.5*Ts + np.arange(0, symbTx.size*Ts, Ts))/1e-9\n",
    "plt.vlines(t, min(symbTx), max(symbTx), linestyles='dashed', color = 'k');\n",
    "plt.xlim(0, max(t));"
   ]
  },
  {
   "cell_type": "code",
   "execution_count": null,
   "metadata": {
    "ExecuteTime": {
     "start_time": "2024-11-18T11:42:42.168Z"
    },
    "jupyter": {
     "source_hidden": true
    }
   },
   "outputs": [],
   "source": [
    "# generate pseudo-random bit sequence\n",
    "bitsTx = np.random.randint(2, size=int(np.log2(M)*500000))\n",
    "\n",
    "# generate modulated symbol sequence\n",
    "symbTx = modulateGray(bitsTx, M, 'pam')    \n",
    "symbTx = pnorm(symbTx) # power normalization\n",
    "\n",
    "# upsampling\n",
    "symbolsUp = upsample(symbTx, SpS)\n",
    "\n",
    "# NRZ pulse shaping\n",
    "pulse = pulseShape('nrz', SpS)\n",
    "pulse = pulse/max(abs(pulse))\n",
    "\n",
    "sigTx  = firFilter(pulse, symbolsUp)\n",
    "sigTx = sigTx.real\n",
    "\n",
    "# plot PSD\n",
    "plt.figure();\n",
    "plt.xlim(-4*Rs,4*Rs);\n",
    "plt.ylim(-250,-50);\n",
    "plt.psd(sigTx,Fs=Fa, NFFT = 16*1024, sides='twosided', label = 'Espectro do sinal '+ str(M) +'-PAM')\n",
    "plt.legend(loc='upper left');"
   ]
  },
  {
   "cell_type": "markdown",
   "metadata": {},
   "source": [
    "### Diagramas de olho"
   ]
  },
  {
   "cell_type": "code",
   "execution_count": null,
   "metadata": {
    "ExecuteTime": {
     "start_time": "2024-11-18T11:42:42.171Z"
    },
    "jupyter": {
     "source_hidden": true
    },
    "lines_to_next_cell": 2
   },
   "outputs": [],
   "source": [
    "# diagrama de olho\n",
    "Nsamples = sigTx.size\n",
    "eyediagram(sigTx, Nsamples, SpS, plotlabel= str(M)+'-PAM', ptype='fancy')"
   ]
  },
  {
   "cell_type": "markdown",
   "metadata": {},
   "source": [
    "## Modulação M-QAM"
   ]
  },
  {
   "cell_type": "markdown",
   "metadata": {},
   "source": [
    "### Diagramas de constelação"
   ]
  },
  {
   "cell_type": "code",
   "execution_count": null,
   "metadata": {
    "ExecuteTime": {
     "start_time": "2024-11-18T11:42:42.175Z"
    },
    "hide_input": true,
    "jupyter": {
     "source_hidden": true
    }
   },
   "outputs": [],
   "source": [
    "M = 4 # order of the modulation format\n",
    "constType = 'qam' # 'qam', 'psk', 'pam' or 'ook'\n",
    "\n",
    "plt.figure(figsize=(4,4))\n",
    "plt.plot([],[])\n",
    "\n",
    "plt.grid()\n",
    "plt.ylabel('$A_Q$', fontsize=14)\n",
    "plt.xlabel('$A_I$', fontsize=14)\n",
    "plt.axis('square')\n",
    "\n",
    "# plot modulation bit-to-symbol mapping\n",
    "constSymb = grayMapping(M, constType)             # Gray constellation mapping\n",
    "bitMap = demodulateGray(constSymb, M, constType)  # bit mapping\n",
    "bitMap = bitMap.reshape(-1, int(np.log2(M)))\n",
    "\n",
    "# generate random bits\n",
    "bits = bitMap.reshape(1, -1)\n",
    "\n",
    "# Map bits to constellation symbols\n",
    "symbTx = modulateGray(bits, M, constType)\n",
    "\n",
    "# normalize symbols energy to 1\n",
    "symbTx = pnorm(symbTx)\n",
    "plt.vlines(0,min(symbTx.real)-0.25,max(symbTx.real)+0.25)\n",
    "plt.hlines(0,min(symbTx.real)-0.25,max(symbTx.real)+0.25)\n",
    "plt.plot(symbTx.real, symbTx.imag,'o', markersize=8,);\n",
    "plt.title('Constelação '+str(M)+'-'+constType.upper());\n",
    "plt.xlim(min(symbTx.real)-0.25,max(symbTx.real)+0.25)\n",
    "plt.ylim(min(symbTx.real)-0.25,max(symbTx.real)+0.25);\n",
    "\n",
    "for ind, symb in enumerate(pnorm(constSymb)):\n",
    "    bitMap[ind,:]\n",
    "    plt.annotate(str(bitMap[ind,:])[1:-1:2], xy = (symb.real-0.025*np.log2(M), symb.imag+0.05), size=10)"
   ]
  },
  {
   "cell_type": "markdown",
   "metadata": {},
   "source": [
    "### Mapeando bits para símbolos"
   ]
  },
  {
   "cell_type": "code",
   "execution_count": null,
   "metadata": {
    "ExecuteTime": {
     "start_time": "2024-11-18T11:42:42.178Z"
    },
    "jupyter": {
     "source_hidden": true
    }
   },
   "outputs": [],
   "source": [
    "# parâmetros da simulação\n",
    "SpS = 16            # Amostras por símbolo\n",
    "Rs  = 100e6         # Taxa de símbolos\n",
    "Ts  = 1/Rs          # Período de símbolo em segundos\n",
    "Fa  = 1/(Ts/SpS)    # Frequência de amostragem do sinal (amostras/segundo)\n",
    "Ta  = 1/Fa          # Período de amostragem\n",
    "\n",
    "# generate pseudo-random bit sequence\n",
    "bitsTx = np.random.randint(2, size = int(25*np.log2(M)))\n",
    "\n",
    "# generate modulated symbol sequence\n",
    "symbTx = modulateGray(bitsTx, M, 'qam')    \n",
    "symbTx = pnorm(symbTx) # power normalization\n",
    "\n",
    "plt.stem(symbTx.real, basefmt=\" \", label ='Re{s_n} '+str(M)+'-QAM')\n",
    "plt.xlabel('n')\n",
    "plt.ylabel('$Re\\{$s_n$\\}$')\n",
    "plt.grid()\n",
    "plt.legend(loc='upper right')\n",
    "plt.xticks(np.arange(0, symbTx.size));\n",
    "\n",
    "plt.figure()\n",
    "plt.stem(symbTx.imag, basefmt=\" \", label ='Im{$s_n$} '+str(M)+'-QAM')\n",
    "plt.xlabel('n')\n",
    "plt.ylabel('$Im\\{$s_n$\\}$')\n",
    "plt.grid()\n",
    "plt.legend(loc='upper right')\n",
    "plt.xticks(np.arange(0, symbTx.size));\n",
    "\n",
    "df = pd.DataFrame()\n",
    "for b in range(int(np.log2(M))):\n",
    "    df['bits '+str(b)] = bitsTx[b::int(np.log2(M))]\n",
    "\n",
    "display(df.T)"
   ]
  },
  {
   "cell_type": "code",
   "execution_count": null,
   "metadata": {
    "ExecuteTime": {
     "start_time": "2024-11-18T11:42:42.181Z"
    },
    "jupyter": {
     "source_hidden": true
    }
   },
   "outputs": [],
   "source": [
    "# upsampling\n",
    "symbolsUp = upsample(symbTx, SpS)\n",
    "\n",
    "plt.figure(1)\n",
    "plt.stem(symbolsUp[0:5*SpS].real, basefmt=\" \", label ='$Re\\{s_n^{(up)}\\}$'+str(M)+'-QAM')\n",
    "plt.xlabel('n')\n",
    "plt.ylabel('$Re\\{s_n^{(up)}\\}$')\n",
    "plt.grid()\n",
    "plt.legend(loc='upper right')\n",
    "plt.xticks(np.arange(0, 5*SpS, SpS));\n",
    "\n",
    "plt.figure(2)\n",
    "plt.stem(symbolsUp[0:5*SpS].imag, basefmt=\" \", label ='$Im\\{s_n^{(up)}\\}$ '+str(M)+'-QAM')\n",
    "plt.xlabel('n')\n",
    "plt.ylabel('$Im\\{s_n^{(up)}\\}$')\n",
    "plt.grid()\n",
    "plt.legend(loc='upper right')\n",
    "plt.xticks(np.arange(0, 5*SpS, SpS));"
   ]
  },
  {
   "cell_type": "code",
   "execution_count": null,
   "metadata": {
    "ExecuteTime": {
     "start_time": "2024-11-18T11:42:42.184Z"
    },
    "jupyter": {
     "source_hidden": true
    }
   },
   "outputs": [],
   "source": [
    "# pulso NRZ típico\n",
    "pulse = pulseShape('nrz', SpS)\n",
    "pulse = pulse/max(abs(pulse))\n",
    "\n",
    "# formatação de pulso\n",
    "sigTx = firFilter(pulse, symbolsUp)\n",
    "\n",
    "t = np.arange(sigTx.size)*Ta/1e-9\n",
    "\n",
    "# instantes centrais dos intervalos de sinalização\n",
    "symbolsUp = upsample(symbTx, SpS)\n",
    "symbolsUp[symbolsUp==0+1j*0] = np.nan + 1j*np.nan\n",
    "\n",
    "plt.figure(2)\n",
    "plt.plot(t, sigTx.real,'-',linewidth=3, label = '$Re\\{s_n\\}$')\n",
    "plt.plot(t, symbolsUp.real,'o')\n",
    "plt.plot(t, sigTx.imag,'-',linewidth=3, label = '$Im\\{s_n\\}$')\n",
    "plt.plot(t, symbolsUp.imag,'o')\n",
    "plt.xlabel('tempo [ns]')\n",
    "plt.ylabel('amplitude [V]')\n",
    "plt.title('$s(t)=\\sum_{n}\\;s_{n}\\;p(t-n T_s)$')\n",
    "plt.grid()\n",
    "\n",
    "t = (0.5*Ts + np.arange(0,symbTx.size*Ts, Ts))/1e-9\n",
    "plt.vlines(t, min(symbTx.real), max(symbTx.real), linestyles='dashed', color = 'k');\n",
    "plt.xlim(0, max(t));"
   ]
  },
  {
   "cell_type": "markdown",
   "metadata": {},
   "source": [
    "### Espectro do sinal modulado"
   ]
  },
  {
   "cell_type": "code",
   "execution_count": null,
   "metadata": {
    "ExecuteTime": {
     "start_time": "2024-11-18T11:42:42.187Z"
    },
    "jupyter": {
     "source_hidden": true
    }
   },
   "outputs": [],
   "source": [
    "# generate pseudo-random bit sequence\n",
    "bitsTx = np.random.randint(2, size=int(np.log2(M)*500000))\n",
    "\n",
    "# generate modulated symbol sequence\n",
    "symbTx = modulateGray(bitsTx, M, 'qam')    \n",
    "symbTx = pnorm(symbTx) # power normalization\n",
    "\n",
    "# upsampling\n",
    "symbolsUp = upsample(symbTx, SpS)\n",
    "\n",
    "# NRZ pulse shaping\n",
    "pulse = pulseShape('nrz', SpS)\n",
    "pulse = pulse/max(abs(pulse))\n",
    "\n",
    "sigTx  = firFilter(pulse, symbolsUp)\n",
    "\n",
    "# plot PSD\n",
    "plt.figure();\n",
    "plt.xlim(-4*Rs,4*Rs);\n",
    "plt.ylim(-250,-50);\n",
    "plt.psd(sigTx,Fs=Fa, NFFT = 16*1024, sides='twosided', label = 'Espectro do sinal '+ str(M) +'-QAM')\n",
    "plt.legend(loc='upper left');"
   ]
  },
  {
   "cell_type": "markdown",
   "metadata": {},
   "source": [
    "### Diagramas de olho"
   ]
  },
  {
   "cell_type": "code",
   "execution_count": null,
   "metadata": {
    "ExecuteTime": {
     "start_time": "2024-11-18T11:42:42.190Z"
    },
    "jupyter": {
     "source_hidden": true
    }
   },
   "outputs": [],
   "source": [
    "# diagrama de olho\n",
    "Nsamples = sigTx.size\n",
    "eyediagram(sigTx, Nsamples, SpS, plotlabel= str(M)+'-QAM', ptype='fancy')\n",
    "\n",
    "eyediagram(np.abs(sigTx), Nsamples, SpS, plotlabel= str(M)+'-QAM (absolute value)', ptype='fancy')"
   ]
  },
  {
   "cell_type": "markdown",
   "metadata": {},
   "source": [
    "## Modulação M-PSK"
   ]
  },
  {
   "cell_type": "markdown",
   "metadata": {
    "ExecuteTime": {
     "end_time": "2023-03-16T20:41:18.036789Z",
     "start_time": "2023-03-16T20:41:17.957279Z"
    }
   },
   "source": [
    "### Diagramas de constelação"
   ]
  },
  {
   "cell_type": "code",
   "execution_count": null,
   "metadata": {
    "ExecuteTime": {
     "start_time": "2024-11-18T11:42:42.193Z"
    },
    "jupyter": {
     "source_hidden": true
    }
   },
   "outputs": [],
   "source": [
    "M = 8 # order of the modulation format\n",
    "constType = 'psk' # 'qam', 'psk', 'pam' or 'ook'\n",
    "\n",
    "plt.figure(figsize=(4,4))\n",
    "plt.plot([],[])\n",
    "\n",
    "plt.grid()\n",
    "plt.ylabel('$A_Q$', fontsize=14)\n",
    "plt.xlabel('$A_I$', fontsize=14)\n",
    "plt.axis('square')\n",
    "\n",
    "# plot modulation bit-to-symbol mapping\n",
    "constSymb = grayMapping(M, constType)             # Gray constellation mapping\n",
    "bitMap = demodulateGray(constSymb, M, constType)  # bit mapping\n",
    "bitMap = bitMap.reshape(-1, int(np.log2(M)))\n",
    "\n",
    "# generate random bits\n",
    "bits = bitMap.reshape(1, -1)\n",
    "\n",
    "# Map bits to constellation symbols\n",
    "symbTx = modulateGray(bits, M, constType)\n",
    "\n",
    "# normalize symbols energy to 1\n",
    "symbTx = pnorm(symbTx)\n",
    "plt.vlines(0,min(symbTx.real)-0.25,max(symbTx.real)+0.25)\n",
    "plt.hlines(0,min(symbTx.real)-0.25,max(symbTx.real)+0.25)\n",
    "plt.plot(symbTx.real, symbTx.imag,'o', markersize=8,);\n",
    "plt.title('Constelação '+str(M)+'-'+constType.upper());\n",
    "plt.xlim(min(symbTx.real)-0.25,max(symbTx.real)+0.25)\n",
    "plt.ylim(min(symbTx.real)-0.25,max(symbTx.real)+0.25);\n",
    "\n",
    "\n",
    "for ind, symb in enumerate(pnorm(constSymb)):\n",
    "    bitMap[ind,:]\n",
    "    plt.annotate(str(bitMap[ind,:])[1:-1:2], xy = (symb.real-0.025*np.log2(M), symb.imag+0.05), size=10)"
   ]
  },
  {
   "cell_type": "markdown",
   "metadata": {},
   "source": [
    "### Mapeando bits para símbolos"
   ]
  },
  {
   "cell_type": "code",
   "execution_count": null,
   "metadata": {
    "ExecuteTime": {
     "start_time": "2024-11-18T11:42:42.196Z"
    },
    "jupyter": {
     "source_hidden": true
    }
   },
   "outputs": [],
   "source": [
    "# parâmetros da simulação\n",
    "SpS = 16            # Amostras por símbolo\n",
    "Rs  = 100e6         # Taxa de símbolos\n",
    "Ts  = 1/Rs          # Período de símbolo em segundos\n",
    "Fa  = 1/(Ts/SpS)    # Frequência de amostragem do sinal (amostras/segundo)\n",
    "Ta  = 1/Fa          # Período de amostragem\n",
    "\n",
    "# generate pseudo-random bit sequence\n",
    "bitsTx = np.random.randint(2, size = int(25*np.log2(M)))\n",
    "\n",
    "# generate ook modulated symbol sequence\n",
    "symbTx = modulateGray(bitsTx, M, 'psk')    \n",
    "symbTx = pnorm(symbTx) # power normalization\n",
    "\n",
    "plt.stem(symbTx.real, basefmt=\" \", label ='Re{símbolos} '+str(M)+'-PSK')\n",
    "plt.xlabel('n')\n",
    "plt.ylabel('$Re\\{s_n\\}$')\n",
    "plt.grid()\n",
    "plt.legend(loc='upper right')\n",
    "plt.xticks(np.arange(0, symbTx.size));\n",
    "\n",
    "plt.figure()\n",
    "plt.stem(symbTx.imag, basefmt=\" \", label ='Im{símbolos} '+str(M)+'-PSK')\n",
    "plt.xlabel('n')\n",
    "plt.ylabel('$Im\\{s_n\\}$')\n",
    "plt.grid()\n",
    "plt.legend(loc='upper right')\n",
    "plt.xticks(np.arange(0, symbTx.size));\n",
    "\n",
    "df = pd.DataFrame()\n",
    "for b in range(int(np.log2(M))):\n",
    "    df['bits '+str(b)] = bitsTx[b::int(np.log2(M))]\n",
    "\n",
    "display(df.T)"
   ]
  },
  {
   "cell_type": "code",
   "execution_count": null,
   "metadata": {
    "ExecuteTime": {
     "start_time": "2024-11-18T11:42:42.199Z"
    },
    "jupyter": {
     "source_hidden": true
    }
   },
   "outputs": [],
   "source": [
    "# upsampling\n",
    "symbolsUp = upsample(symbTx, SpS)\n",
    "\n",
    "# pulso NRZ típico\n",
    "pulse = pulseShape('nrz', SpS)\n",
    "pulse = pulse/max(abs(pulse))\n",
    "\n",
    "# formatação de pulso\n",
    "sigTx = firFilter(pulse, symbolsUp)\n",
    "\n",
    "t = np.arange(sigTx.size)*Ta/1e-9\n",
    "\n",
    "# instantes centrais dos intervalos de sinalização\n",
    "symbolsUp = upsample(symbTx, SpS)\n",
    "symbolsUp[symbolsUp==0+1j*0] = np.nan + 1j*np.nan\n",
    "\n",
    "plt.figure(2)\n",
    "plt.plot(t, sigTx.real,'-',linewidth=3, label = '$Re\\{s_n\\}$')\n",
    "plt.plot(t, symbolsUp.real,'o')\n",
    "plt.plot(t, sigTx.imag,'-',linewidth=3, label = '$Im\\{s_n\\}$')\n",
    "plt.plot(t, symbolsUp.imag,'o')\n",
    "plt.xlabel('tempo [ns]')\n",
    "plt.ylabel('amplitude [V]')\n",
    "plt.title('$s(t)=\\sum_{n}\\;s_{n}\\;p(t-n T_s)$')\n",
    "plt.grid()\n",
    "\n",
    "t = (0.5*Ts + np.arange(0,symbTx.size*Ts, Ts))/1e-9\n",
    "plt.vlines(t, min(symbTx.real), max(symbTx.real), linestyles='dashed', color = 'k');\n",
    "plt.xlim(0, max(t));"
   ]
  },
  {
   "cell_type": "markdown",
   "metadata": {},
   "source": [
    "### Espectro do sinal modulado"
   ]
  },
  {
   "cell_type": "code",
   "execution_count": null,
   "metadata": {
    "ExecuteTime": {
     "start_time": "2024-11-18T11:42:42.202Z"
    },
    "jupyter": {
     "source_hidden": true
    }
   },
   "outputs": [],
   "source": [
    "# generate pseudo-random bit sequence\n",
    "bitsTx = np.random.randint(2, size=int(np.log2(M)*500000))\n",
    "\n",
    "# generate modulated symbol sequence\n",
    "symbTx = modulateGray(bitsTx, M, 'psk')    \n",
    "symbTx = pnorm(symbTx) # power normalization\n",
    "\n",
    "# upsampling\n",
    "symbolsUp = upsample(symbTx, SpS)\n",
    "\n",
    "# NRZ pulse shaping\n",
    "pulse = pulseShape('nrz', SpS)\n",
    "pulse = pulse/max(abs(pulse))\n",
    "\n",
    "sigTx  = firFilter(pulse, symbolsUp)\n",
    "\n",
    "# plot PSD\n",
    "plt.figure();\n",
    "plt.xlim(-4*Rs,4*Rs);\n",
    "plt.ylim(-250,-50);\n",
    "plt.psd(sigTx,Fs=Fa, NFFT = 16*1024, sides='twosided', label = 'Espectro do sinal '+ str(M) +'-PSK')\n",
    "plt.legend(loc='upper left');"
   ]
  },
  {
   "cell_type": "markdown",
   "metadata": {},
   "source": [
    "### Diagramas de olho"
   ]
  },
  {
   "cell_type": "code",
   "execution_count": null,
   "metadata": {
    "ExecuteTime": {
     "start_time": "2024-11-18T11:42:42.205Z"
    },
    "jupyter": {
     "source_hidden": true
    }
   },
   "outputs": [],
   "source": [
    "# diagrama de olho\n",
    "Nsamples = sigTx.size\n",
    "eyediagram(sigTx, Nsamples, SpS, plotlabel= str(M)+'-PSK', ptype='fancy')\n",
    "\n",
    "eyediagram(np.abs(sigTx), Nsamples, SpS, plotlabel= str(M)+'-PSK (absolute value)', ptype='fancy')"
   ]
  },
  {
   "cell_type": "markdown",
   "metadata": {},
   "source": [
    "## Referências\n",
    "\n",
    "[1] J. G. Proakis, M. Salehi, Communication Systems Engineering, 2nd Edition, Pearson, 2002."
   ]
  }
 ],
 "metadata": {
  "jupytext": {
   "encoding": "# -*- coding: utf-8 -*-",
   "formats": "ipynb,py:light"
  },
  "kernelspec": {
   "display_name": "Python 3 (ipykernel)",
   "language": "python",
   "name": "python3"
  },
  "language_info": {
   "codemirror_mode": {
    "name": "ipython",
    "version": 3
   },
   "file_extension": ".py",
   "mimetype": "text/x-python",
   "name": "python",
   "nbconvert_exporter": "python",
   "pygments_lexer": "ipython3",
   "version": "3.11.5"
  },
  "toc": {
   "base_numbering": 1,
   "nav_menu": {},
   "number_sections": true,
   "sideBar": true,
   "skip_h1_title": true,
   "title_cell": "Table of Contents",
   "title_sidebar": "Contents",
   "toc_cell": true,
   "toc_position": {
    "height": "447.667px",
    "left": "142px",
    "top": "182.229px",
    "width": "244.969px"
   },
   "toc_section_display": true,
   "toc_window_display": false
  },
  "varInspector": {
   "cols": {
    "lenName": 16,
    "lenType": 16,
    "lenVar": 40
   },
   "kernels_config": {
    "python": {
     "delete_cmd_postfix": "",
     "delete_cmd_prefix": "del ",
     "library": "var_list.py",
     "varRefreshCmd": "print(var_dic_list())"
    },
    "r": {
     "delete_cmd_postfix": ") ",
     "delete_cmd_prefix": "rm(",
     "library": "var_list.r",
     "varRefreshCmd": "cat(var_dic_list()) "
    }
   },
   "oldHeight": 498,
   "position": {
    "height": "667px",
    "left": "659px",
    "right": "20px",
    "top": "-21px",
    "width": "660px"
   },
   "types_to_exclude": [
    "module",
    "function",
    "builtin_function_or_method",
    "instance",
    "_Feature"
   ],
   "varInspector_section_display": "block",
   "window_display": false
  }
 },
 "nbformat": 4,
 "nbformat_minor": 4
}
