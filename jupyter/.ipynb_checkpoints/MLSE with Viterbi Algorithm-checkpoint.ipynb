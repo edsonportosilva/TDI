{
 "cells": [
  {
   "cell_type": "code",
   "execution_count": 3,
   "id": "d0c4c4bf",
   "metadata": {
    "ExecuteTime": {
     "end_time": "2023-05-12T21:12:41.748693Z",
     "start_time": "2023-05-12T21:12:41.741713Z"
    }
   },
   "outputs": [],
   "source": [
    "import sympy as sp\n",
    "import numpy as np\n",
    "from numpy.random import normal\n",
    "import matplotlib.pyplot as plt\n",
    "from matplotlib import cm\n",
    "import pandas as pd\n",
    "\n",
    "from IPython.display import display, Math\n",
    "from IPython.display import display as disp\n",
    "\n",
    "from optic.modulation import modulateGray, demodulateGray, GrayMapping\n",
    "from optic.dsp import firFilter, pnorm\n",
    "from optic.metrics import signal_power\n",
    "from optic.plot import pconst\n",
    "from numba import njit"
   ]
  },
  {
   "cell_type": "code",
   "execution_count": 14,
   "id": "96912fdf",
   "metadata": {
    "ExecuteTime": {
     "end_time": "2023-05-12T21:26:49.082027Z",
     "start_time": "2023-05-12T21:26:49.073570Z"
    }
   },
   "outputs": [],
   "source": [
    "@njit\n",
    "def viterbi(A, C, B, O):\n",
    "    \"\"\"Viterbi algorithm for solving the uncovering problem\n",
    "\n",
    "    Notebook: C5/C5S3_Viterbi.ipynb\n",
    "\n",
    "    Args:\n",
    "        A (np.ndarray): State transition probability matrix of dimension I x I\n",
    "        C (np.ndarray): Initial state distribution  of dimension I\n",
    "        B (np.ndarray): Output probability matrix of dimension I x K\n",
    "        O (np.ndarray): Observation sequence of length N\n",
    "\n",
    "    Returns:\n",
    "        S_opt (np.ndarray): Optimal state sequence of length N\n",
    "        D (np.ndarray): Accumulated probability matrix\n",
    "        E (np.ndarray): Backtracking matrix\n",
    "    \"\"\"\n",
    "    I = A.shape[0]    # Number of states\n",
    "    N = len(O)  # Length of observation sequence\n",
    "\n",
    "    # Initialize D and E matrices\n",
    "    D = np.zeros((I, N))\n",
    "    E = np.zeros((I, N-1)).astype(np.int32)\n",
    "    D[:, 0] = np.multiply(C, B[:, O[0]])\n",
    "\n",
    "    # Compute D and E in a nested loop\n",
    "    for n in range(1, N):\n",
    "        for i in range(I):\n",
    "            temp_product = np.multiply(A[:, i], D[:, n-1])\n",
    "            D[i, n] = np.max(temp_product) * B[i, O[n]]\n",
    "            E[i, n-1] = np.argmax(temp_product)\n",
    "\n",
    "    # Backtracking\n",
    "    S_opt = np.zeros(N).astype(np.int32)\n",
    "    S_opt[-1] = np.argmax(D[:, -1])\n",
    "    for n in range(N-2, -1, -1):\n",
    "        S_opt[n] = E[int(S_opt[n+1]), n]\n",
    "\n",
    "    return S_opt, D, E\n",
    "\n",
    "def dec2bit(dec, bitL):\n",
    "    bits = bin(dec)[2:]  # Convert decimal to binary string\n",
    "    bits = bits.zfill(bitL)  # Pad with leading zeros\n",
    "    return [int(bit) for bit in bits]\n",
    "\n",
    "def prob(y, r, σ2):\n",
    "    prob = np.zeros((len(r), len(y)))\n",
    "    \n",
    "    for k, v in enumerate(y):\n",
    "        prob[:,k] = np.abs(v-r)**2/σ2\n",
    "        \n",
    "    return prob"
   ]
  },
  {
   "cell_type": "code",
   "execution_count": 19,
   "id": "f488ac92",
   "metadata": {
    "ExecuteTime": {
     "end_time": "2023-05-12T21:28:25.954783Z",
     "start_time": "2023-05-12T21:28:25.876395Z"
    }
   },
   "outputs": [
    {
     "data": {
      "image/png": "[encoded data removed]",
      "text/plain": [
       "<Figure size 432x288 with 1 Axes>"
      ]
     },
     "metadata": {
      "needs_background": "light"
     },
     "output_type": "display_data"
    }
   ],
   "source": [
    "M = 2\n",
    "\n",
    "h = np.array([0.9, 0.2])\n",
    "constSymb = GrayMapping(M, 'pam')   # Gray constellation mapping\n",
    "\n",
    "# parâmetros da simulação\n",
    "SpS = 1   # Amostras por símbolo\n",
    "\n",
    "# get constellation    \n",
    "constSymb = GrayMapping(M, 'pam')  # constellation\n",
    "constSymb = pnorm(constSymb) \n",
    "\n",
    "# generate pseudo-random bit sequence\n",
    "bitsTx = np.random.randint(2, size = int(1001*np.log2(M)))\n",
    "\n",
    "# generate modulated symbol sequence\n",
    "symbTx = modulateGray(bitsTx, M, 'pam')    \n",
    "symbTx = pnorm(symbTx) # power normalization\n",
    "\n",
    "# adição de ISI\n",
    "sigTx = np.convolve(h, symbTx, mode='valid')\n",
    "sigTx = pnorm(sigTx)\n",
    "\n",
    "# ruído gaussiano branco\n",
    "Namostras = sigTx.size\n",
    "σ2  = 0.000025 # variância\n",
    "μ   = 0      # média\n",
    "\n",
    "σ      = np.sqrt(σ2*SpS) \n",
    "ruido  = 1/np.sqrt(2)*(normal(μ, σ, Namostras) + 1j*normal(μ, σ, Namostras))\n",
    "\n",
    "sigRx = sigTx + ruido\n",
    "\n",
    "pconst(sigRx, pType='fast');"
   ]
  },
  {
   "cell_type": "code",
   "execution_count": 20,
   "id": "2dbdb482",
   "metadata": {
    "ExecuteTime": {
     "end_time": "2023-05-12T21:28:27.200437Z",
     "start_time": "2023-05-12T21:28:27.180489Z"
    }
   },
   "outputs": [
    {
     "data": {
      "text/html": [
       "<div>\n",
       "<style scoped>\n",
       "    .dataframe tbody tr th:only-of-type {\n",
       "        vertical-align: middle;\n",
       "    }\n",
       "\n",
       "    .dataframe tbody tr th {\n",
       "        vertical-align: top;\n",
       "    }\n",
       "\n",
       "    .dataframe thead th {\n",
       "        text-align: right;\n",
       "    }\n",
       "</style>\n",
       "<table border=\"1\" class=\"dataframe\">\n",
       "  <thead>\n",
       "    <tr style=\"text-align: right;\">\n",
       "      <th></th>\n",
       "      <th>b0</th>\n",
       "      <th>b-1</th>\n",
       "      <th>r</th>\n",
       "    </tr>\n",
       "  </thead>\n",
       "  <tbody>\n",
       "    <tr>\n",
       "      <th>0</th>\n",
       "      <td>0</td>\n",
       "      <td>0</td>\n",
       "      <td>-1.10</td>\n",
       "    </tr>\n",
       "    <tr>\n",
       "      <th>1</th>\n",
       "      <td>0</td>\n",
       "      <td>1</td>\n",
       "      <td>-0.70</td>\n",
       "    </tr>\n",
       "    <tr>\n",
       "      <th>2</th>\n",
       "      <td>1</td>\n",
       "      <td>0</td>\n",
       "      <td>0.70</td>\n",
       "    </tr>\n",
       "    <tr>\n",
       "      <th>3</th>\n",
       "      <td>1</td>\n",
       "      <td>1</td>\n",
       "      <td>1.10</td>\n",
       "    </tr>\n",
       "  </tbody>\n",
       "</table>\n",
       "</div>"
      ],
      "text/plain": [
       "   b0  b-1     r\n",
       "0   0    0 -1.10\n",
       "1   0    1 -0.70\n",
       "2   1    0  0.70\n",
       "3   1    1  1.10"
      ]
     },
     "execution_count": 20,
     "metadata": {},
     "output_type": "execute_result"
    }
   ],
   "source": [
    "L = len(h)\n",
    "bits = np.zeros((M**L, L), dtype=int)\n",
    "\n",
    "for k, dec in enumerate(range(M**L)):    \n",
    "    bits[k,:] = dec2bit(dec, L)\n",
    "\n",
    "symb = 2*bits-1\n",
    "\n",
    "x = np.sum(symb*h, axis=1)\n",
    "\n",
    "sig = pd.DataFrame(data=symb, index=np.arange(M**L))\n",
    "pd.options.display.float_format = '{:,.2f}'.format\n",
    "\n",
    "sig = pd.DataFrame(data=bits, index=[i for i in range(symb.shape[0])], columns=[f'b{-i}' for i in range(symb.shape[1])])\n",
    "sig['r'] = x\n",
    "sig"
   ]
  },
  {
   "cell_type": "code",
   "execution_count": 21,
   "id": "fa023afa",
   "metadata": {
    "ExecuteTime": {
     "end_time": "2023-05-12T21:28:27.618802Z",
     "start_time": "2023-05-12T21:28:27.604494Z"
    }
   },
   "outputs": [],
   "source": [
    "\n",
    "A = 0.5*np.ones((2,2))\n",
    "\n",
    "p_ch = prob(sigRx, x, σ2)"
   ]
  },
  {
   "cell_type": "code",
   "execution_count": 22,
   "id": "10e20f98",
   "metadata": {
    "ExecuteTime": {
     "end_time": "2023-05-12T21:28:28.445008Z",
     "start_time": "2023-05-12T21:28:28.428010Z"
    }
   },
   "outputs": [
    {
     "data": {
      "text/plain": [
       "(4, 1000)"
      ]
     },
     "execution_count": 22,
     "metadata": {},
     "output_type": "execute_result"
    }
   ],
   "source": [
    "p_ch.shape"
   ]
  },
  {
   "cell_type": "code",
   "execution_count": 25,
   "id": "f928d106",
   "metadata": {
    "ExecuteTime": {
     "end_time": "2023-05-12T21:29:21.198439Z",
     "start_time": "2023-05-12T21:29:21.109132Z"
    }
   },
   "outputs": [
    {
     "data": {
      "image/png": "[encoded data removed]",
      "text/plain": [
       "<Figure size 432x288 with 1 Axes>"
      ]
     },
     "metadata": {
      "needs_background": "light"
     },
     "output_type": "display_data"
    }
   ],
   "source": [
    "plt.plot(np.log(p_ch[:,0:10]).T);"
   ]
  },
  {
   "cell_type": "code",
   "execution_count": null,
   "id": "a33566fb",
   "metadata": {},
   "outputs": [],
   "source": []
  }
 ],
 "metadata": {
  "kernelspec": {
   "display_name": "Python 3 (ipykernel)",
   "language": "python",
   "name": "python3"
  },
  "language_info": {
   "codemirror_mode": {
    "name": "ipython",
    "version": 3
   },
   "file_extension": ".py",
   "mimetype": "text/x-python",
   "name": "python",
   "nbconvert_exporter": "python",
   "pygments_lexer": "ipython3",
   "version": "3.9.7"
  },
  "toc": {
   "base_numbering": 1,
   "nav_menu": {},
   "number_sections": true,
   "sideBar": true,
   "skip_h1_title": false,
   "title_cell": "Table of Contents",
   "title_sidebar": "Contents",
   "toc_cell": false,
   "toc_position": {},
   "toc_section_display": true,
   "toc_window_display": false
  }
 },
 "nbformat": 4,
 "nbformat_minor": 5
}
