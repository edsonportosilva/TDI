{
 "cells": [
  {
   "cell_type": "code",
   "execution_count": 1,
   "id": "eab52b3f",
   "metadata": {
    "ExecuteTime": {
     "end_time": "2023-06-14T12:17:45.800340Z",
     "start_time": "2023-06-14T12:17:33.263920Z"
    }
   },
   "outputs": [
    {
     "name": "stdout",
     "output_type": "stream",
     "text": [
      "symbols:  [-1 -1 -1 -1 -1 -1  1 -1 -1 -1  1 -1  1  1 -1  1  1 -1  1 -1  1  1  1  1\n",
      " -1  1 -1  1  1  1  1  1  1 -1 -1  1  1  1  1  1  1 -1 -1 -1 -1 -1 -1  1\n",
      " -1  1]\n",
      "channel output:  [-0.9 -1.3 -1.3 -1.3 -1.3 -1.3  0.4 -0.4 -1.3 -1.3  0.4 -0.4  0.4  1.3\n",
      " -0.4  0.4  1.3 -0.4  0.4 -0.4  0.4  1.3  1.3  1.3 -0.4  0.4 -0.4  0.4\n",
      "  1.3  1.3  1.3  1.3  1.3 -0.4 -1.3  0.4  1.3  1.3  1.3  1.3  1.3 -0.4\n",
      " -1.3 -1.3 -1.3 -1.3 -1.3  0.4 -0.4  0.4]\n",
      "ZF equalizer output:  [-1. -1. -1. -1. -1. -1.  1. -1. -1. -1.  1. -1.  1.  1. -1.  1.  1. -1.\n",
      "  1. -1.  1.  1.  1.  1. -1.  1. -1.  1.  1.  1.  1.  1.  1. -1. -1.  1.\n",
      "  1.  1.  1.  1.  1. -1. -1. -1. -1. -1. -1.  1. -1.  1.]\n",
      "decided symbols:  [-1 -1 -1 -1 -1 -1  1 -1 -1 -1  1 -1  1  1 -1  1  1 -1  1 -1  1  1  1  1\n",
      " -1  1 -1  1  1  1  1  1  1 -1 -1  1  1  1  1  1  1 -1 -1 -1 -1 -1 -1  1\n",
      " -1  1]\n",
      "SER = 0.00e+00\n",
      "SER ZF = 0.00e+00\n"
     ]
    },
    {
     "data": {
      "image/png": "[encoded data removed]",
      "text/plain": [
       "<Figure size 432x288 with 1 Axes>"
      ]
     },
     "metadata": {
      "needs_background": "light"
     },
     "output_type": "display_data"
    }
   ],
   "source": [
    "import numpy as np\n",
    "from scipy import signal\n",
    "from numpy.random import randint\n",
    "import matplotlib.pyplot as plt\n",
    "\n",
    "N = 50  # length of transmitting sequence\n",
    "s = (-1) ** (np.floor(2 * np.random.rand(N)))  # creating PAM symbols\n",
    "\n",
    "Es = np.mean(s**2)\n",
    "s = s/np.sqrt(Es)\n",
    "\n",
    "# Sending Through the Channel\n",
    "h = np.array([0.815, 0.407])  # channel with finite impulse response\n",
    "h = h / np.sqrt(np.sum(h**2)) # normalize impulse response\n",
    "\n",
    "x = np.convolve(h, s,'same')\n",
    "\n",
    "# Adding Noise\n",
    "SNRdB = 100\n",
    "σ = np.sqrt(1 / (10 ** (SNRdB / 10)))\n",
    "n = np.random.normal(0, σ, len(x))\n",
    "y = x + n\n",
    "\n",
    "# Linear Zero Forcing at the Receiver\n",
    "h_tf = signal.TransferFunction(h, 1)\n",
    "h_ZF_num, h_ZF_den = h_tf.den, h_tf.num\n",
    "xh = signal.lfilter(h_ZF_num, h_ZF_den, y)\n",
    "#xh = np.roll(xh,1)\n",
    "\n",
    "# detector (hard decisions)\n",
    "xd = np.zeros(xh.shape, dtype=int)\n",
    "xd[xh > 0] = 1\n",
    "xd[xh < 0] = -1\n",
    "\n",
    "plt.plot(s,'o', label='symbols')\n",
    "plt.plot(x,'*', label='channel output')\n",
    "plt.plot(xh,'ks', label='ZF eq. output')\n",
    "plt.plot(xd,'*', label='detector output')\n",
    "plt.legend()\n",
    "plt.grid()\n",
    "\n",
    "discard = 10\n",
    "\n",
    "print('symbols: ', s.astype(int))\n",
    "print('channel output: ',np.round(x,1))\n",
    "print('ZF equalizer output: ',np.round(xh,1))\n",
    "print('decided symbols: ',xd.astype(int))\n",
    "print(f'SER = {np.mean((s[discard:-discard]>0)^(y[discard:-discard]>0)):.2e}')\n",
    "print(f'SER ZF = {np.mean((s[1:]>0)^(xd[1:]>0)):.2e}')"
   ]
  },
  {
   "cell_type": "code",
   "execution_count": 2,
   "id": "0de9ef26",
   "metadata": {
    "ExecuteTime": {
     "end_time": "2023-06-14T12:17:45.816392Z",
     "start_time": "2023-06-14T12:17:45.801313Z"
    }
   },
   "outputs": [],
   "source": [
    "import numpy as np\n",
    "from scipy.linalg import toeplitz\n",
    "\n",
    "def mmseEq(y, h, noiseVar, M, L):\n",
    "    \"\"\"\n",
    "    Perform Minimum Mean Square Error (MMSE) equalization on a received signal.\n",
    "\n",
    "    Parameters:\n",
    "    ----------\n",
    "    y : ndarray\n",
    "        1-D numpy array representing the received signal.\n",
    "    h : ndarray\n",
    "        1-D numpy array representing the impulse response of the channel.\n",
    "    noiseVar : float\n",
    "        Scalar value representing the noise variance.\n",
    "    M : int\n",
    "        Filter length.\n",
    "    L : int\n",
    "        Length parameter.\n",
    "\n",
    "    Returns:\n",
    "    -------\n",
    "    xh : ndarray\n",
    "        1-D numpy array representing the MMSE equalized signal.\n",
    "    \"\"\"\n",
    "\n",
    "    h[-1::-1] = h  # Reverse the order of elements in the h array\n",
    "\n",
    "    # MMSE equalization\n",
    "    d = np.ceil(((M + L) - 1) / 2).astype(np.int64)  # Calculate d as the ceiling of ((M+L)-1)/2 and convert it to an integer\n",
    "    H = toeplitz(np.concatenate(([h[0]], np.zeros(M - 1))), np.concatenate((h, np.zeros(M - 1))))  # Create Toeplitz matrix H\n",
    "    u = np.concatenate((np.zeros(d), [1], np.zeros(d)))  # Create u vector with zero padding on both sides and a value of 1 in the middle\n",
    "    s = H @ u  # Multiply H and u to obtain s\n",
    "        \n",
    "    ck = np.linalg.pinv(noiseVar * np.eye(M) + H @ H.T) @ s  # Calculate MMSE filter using the pseudo inverse\n",
    "\n",
    "    indi = np.arange(-d, d + 1)  # Generate array indi representing the required indices for calculations\n",
    "    indo = np.arange(-d + L, d + 1)  # Generate array indo representing the required indices for calculations\n",
    "\n",
    "    xh = y.copy()  # Create a copy of the received signal y as xh\n",
    "\n",
    "    # Calculate MMSE estimated transmitted sequence\n",
    "    for indk in range(d, len(y) - d):        \n",
    "        xh[indk] = ck @ y[indo + indk]  # Compute the equalized symbol by multiplying ck with the relevant portion of the received signal\n",
    "\n",
    "    return xh"
   ]
  },
  {
   "cell_type": "code",
   "execution_count": 95,
   "id": "f6ef4570",
   "metadata": {
    "ExecuteTime": {
     "end_time": "2023-06-14T12:48:01.937925Z",
     "start_time": "2023-06-14T12:48:01.688704Z"
    }
   },
   "outputs": [
    {
     "name": "stdout",
     "output_type": "stream",
     "text": [
      "symbols:  [-1  1  1 ...  1 -1  1]\n",
      "channel output:  [-0.2 -0.7  0.9 ...  1.4  0.9 -0.5]\n",
      "MMSE equalizer output:  [-0.3 -0.7  0.9 ...  1.5  0.9 -0.5]\n",
      "decided symbols:  [-1 -1  1 ...  1  1 -1]\n",
      "SER = 5.01e-01\n",
      "SER MMSE = 0.00e+00\n"
     ]
    },
    {
     "data": {
      "image/png": "[encoded data removed]",
      "text/plain": [
       "<Figure size 432x288 with 1 Axes>"
      ]
     },
     "metadata": {
      "needs_background": "light"
     },
     "output_type": "display_data"
    }
   ],
   "source": [
    "import numpy as np\n",
    "from scipy import signal\n",
    "from numpy.random import randint\n",
    "from scipy.linalg import toeplitz\n",
    "\n",
    "N = 10000  # length of transmitting sequence\n",
    "s = (-1) ** (np.floor(2 * np.random.rand(N)))  # creating PAM symbols\n",
    "\n",
    "Es = np.mean(s**2)\n",
    "s = s/np.sqrt(Es)\n",
    "\n",
    "# Sending Through the Channel\n",
    "h = np.array([0.207, 0.815, 0.207])  # channel with finite impulse response\n",
    "h = h / np.sqrt(np.sum(h**2))  # normalize impulse response\n",
    "\n",
    "x = signal.lfilter(h, 1, s)\n",
    "x = x/np.std(x)\n",
    "\n",
    "# Adding Noise\n",
    "SNRdB = 25\n",
    "σ = np.sqrt(1 / (10 ** (SNRdB / 10)))\n",
    "n = np.random.normal(0, σ, len(x))\n",
    "y = x + n\n",
    "\n",
    "# MMSE Equalization at the Receiver\n",
    "M = 7\n",
    "L = 2\n",
    "xh = mmseEq(y, h, σ**2, M, L)\n",
    "#xh = np.roll(xh,1)\n",
    "\n",
    "# Detector (Hard Decisions)\n",
    "xd = np.zeros(xh.shape, dtype=int)\n",
    "xd[xh > 0] = 1\n",
    "xd[xh < 0] = -1\n",
    "\n",
    "plt.plot(s,'o', label='symbols')\n",
    "plt.plot(x,'*', label='channel output')\n",
    "plt.plot(xh,'ks', label='MMSE eq. output')\n",
    "plt.plot(xd,'*', label='detector output')\n",
    "plt.legend()\n",
    "plt.grid()\n",
    "\n",
    "discard = 10\n",
    "print('symbols: ', s.astype(int))\n",
    "print('channel output: ',np.round(x,1))\n",
    "print('MMSE equalizer output: ',np.round(xh,1))\n",
    "print('decided symbols: ',xd.astype(int))\n",
    "print(f'SER = {np.mean((s[discard:-discard]>0)^(y[discard:-discard]>0)):.2e}')\n",
    "print(f'SER MMSE = {np.mean((s[discard:-discard]>0)^(xd[discard:-discard]>0)):.2e}')"
   ]
  },
  {
   "cell_type": "code",
   "execution_count": 96,
   "id": "a4d2dbf1",
   "metadata": {
    "ExecuteTime": {
     "end_time": "2023-06-14T12:49:42.777021Z",
     "start_time": "2023-06-14T12:49:42.757131Z"
    }
   },
   "outputs": [],
   "source": [
    "def LMS(y, x, Ntaps, μ):\n",
    "    \"\"\"\n",
    "    Apply the LMS (Least Mean Squares) algorithm for equalization.\n",
    "\n",
    "    Parameters:\n",
    "        y (ndarray): The received signal.\n",
    "        x (ndarray): The reference signal.\n",
    "        Ntaps (int): The number of filter taps.\n",
    "        μ (float): The LMS step size.\n",
    "\n",
    "    Returns:\n",
    "        tuple: A tuple containing:\n",
    "            - ndarray: The equalized signal.\n",
    "            - ndarray: The final equalizer filter coefficients.\n",
    "            - ndarray: The squared error at each iteration.\n",
    "\n",
    "    \"\"\"\n",
    "    # Initialize the equalizer filter coefficients\n",
    "    h = np.zeros(Ntaps)\n",
    "    \n",
    "    # Apply the LMS algorithm    \n",
    "    squaredError = np.zeros(y.shape)\n",
    "    out  = np.zeros(y.shape)\n",
    "    ind = np.arange(Ntaps)\n",
    "    \n",
    "    # Iterate through each sample of the signal\n",
    "    for i in range(len(y)-Ntaps+1):\n",
    "        y_vec = y[i+ind][-1::-1]\n",
    "       \n",
    "        # Generate the estimated signal using the equalizer filter\n",
    "        xhat = np.dot(y_vec, h)\n",
    "\n",
    "        # Compute the error between the estimated signal and the reference signal\n",
    "        error = x[i+Ntaps-1] - xhat\n",
    "\n",
    "        # Update the filter coefficients using the LMS update rule\n",
    "        h += μ * y_vec * error\n",
    "        \n",
    "        squaredError[i] = error**2\n",
    "        out[i+Ntaps-1] = xhat\n",
    "        \n",
    "    return out, h, squaredError"
   ]
  },
  {
   "cell_type": "code",
   "execution_count": 105,
   "id": "1c2aee81",
   "metadata": {
    "ExecuteTime": {
     "end_time": "2023-06-14T12:50:29.786602Z",
     "start_time": "2023-06-14T12:50:29.392912Z"
    }
   },
   "outputs": [],
   "source": [
    "Ntaps = 7\n",
    "μ = 0.001\n",
    "\n",
    "N = 50000  # length of transmitting sequence\n",
    "s = (-1) ** (np.floor(2 * np.random.rand(N)))  # creating PAM symbols\n",
    "\n",
    "h = np.array([0.85, 0.25, 0.125])\n",
    "\n",
    "x = signal.lfilter(h, 1, s)\n",
    "x = x/np.std(x)\n",
    "\n",
    "# Adding Noise\n",
    "SNRdB = 100\n",
    "σ = np.sqrt(1 / (10 ** (SNRdB / 10)))\n",
    "n = np.random.normal(0, σ, len(x))\n",
    "y = x + n\n",
    "\n",
    "xh, h_eq, squaredError = LMS(y, s, Ntaps, μ)\n",
    "\n",
    "# Detector (Hard Decisions)\n",
    "xd = np.zeros(xh.shape, dtype=int)\n",
    "xd[xh > 0] = 1\n",
    "xd[xh < 0] = -1"
   ]
  },
  {
   "cell_type": "code",
   "execution_count": 106,
   "id": "21667510",
   "metadata": {
    "ExecuteTime": {
     "end_time": "2023-06-14T12:50:30.566998Z",
     "start_time": "2023-06-14T12:50:30.223986Z"
    }
   },
   "outputs": [
    {
     "data": {
      "image/png": "[encoded data removed]",
      "text/plain": [
       "<Figure size 432x288 with 1 Axes>"
      ]
     },
     "metadata": {
      "needs_background": "light"
     },
     "output_type": "display_data"
    }
   ],
   "source": [
    "L = 100\n",
    "MA_SE = np.convolve(np.ones(L)/L, squaredError, 'same')\n",
    "\n",
    "plt.semilogy(MA_SE);\n",
    "plt.xlabel('símbolo')\n",
    "plt.ylabel('Moving average of the squared error')\n",
    "plt.grid()\n",
    "plt.xlim(0, len(squaredError));"
   ]
  },
  {
   "cell_type": "code",
   "execution_count": 107,
   "id": "dba783ca",
   "metadata": {
    "ExecuteTime": {
     "end_time": "2023-06-14T12:50:35.735683Z",
     "start_time": "2023-06-14T12:50:35.071759Z"
    }
   },
   "outputs": [
    {
     "data": {
      "image/png": "[encoded data removed]",
      "text/plain": [
       "<Figure size 432x288 with 1 Axes>"
      ]
     },
     "metadata": {
      "needs_background": "light"
     },
     "output_type": "display_data"
    }
   ],
   "source": [
    "plt.plot(s,'o', label='symbols')\n",
    "plt.plot(x,'*', label='channel output')\n",
    "plt.plot(xh,'ks', label='LMS eq. output')\n",
    "plt.plot(xd,'*', label='detector output')\n",
    "plt.legend()\n",
    "plt.grid()"
   ]
  },
  {
   "cell_type": "code",
   "execution_count": 108,
   "id": "7ce0ced5",
   "metadata": {
    "ExecuteTime": {
     "end_time": "2023-06-14T12:50:35.750825Z",
     "start_time": "2023-06-14T12:50:35.736724Z"
    }
   },
   "outputs": [
    {
     "name": "stdout",
     "output_type": "stream",
     "text": [
      "symbols:  [ 1 -1 -1 ...  1 -1  1]\n",
      "channel output:  [ 0.9 -0.7 -1.1 ...  0.8 -0.8  0.8]\n",
      "MMSE equalizer output:  [ 0.  0.  0. ...  1. -1.  1.]\n",
      "decided symbols:  [ 0  0  0 ...  1 -1  1]\n",
      "SER = 0.00e+00\n",
      "SER LMS = 0.00e+00\n"
     ]
    }
   ],
   "source": [
    "discard = 1000\n",
    "print('symbols: ', s.astype(int))\n",
    "print('channel output: ',np.round(x,1))\n",
    "print('MMSE equalizer output: ',np.round(xh,1))\n",
    "print('decided symbols: ',xd.astype(int))\n",
    "print(f'SER = {np.mean((s[discard:-discard]>0)^(y[discard:-discard]>0)):.2e}')\n",
    "print(f'SER LMS = {np.mean((s[discard:-discard]>0)^(xd[discard:-discard]>0)):.2e}')"
   ]
  },
  {
   "cell_type": "code",
   "execution_count": null,
   "id": "e4132eb7",
   "metadata": {},
   "outputs": [],
   "source": []
  }
 ],
 "metadata": {
  "kernelspec": {
   "display_name": "Python 3 (ipykernel)",
   "language": "python",
   "name": "python3"
  },
  "language_info": {
   "codemirror_mode": {
    "name": "ipython",
    "version": 3
   },
   "file_extension": ".py",
   "mimetype": "text/x-python",
   "name": "python",
   "nbconvert_exporter": "python",
   "pygments_lexer": "ipython3",
   "version": "3.9.7"
  },
  "toc": {
   "base_numbering": 1,
   "nav_menu": {},
   "number_sections": true,
   "sideBar": true,
   "skip_h1_title": false,
   "title_cell": "Table of Contents",
   "title_sidebar": "Contents",
   "toc_cell": false,
   "toc_position": {},
   "toc_section_display": true,
   "toc_window_display": false
  }
 },
 "nbformat": 4,
 "nbformat_minor": 5
}
